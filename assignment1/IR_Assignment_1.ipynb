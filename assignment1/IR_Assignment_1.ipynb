{
  "nbformat": 4,
  "nbformat_minor": 0,
  "metadata": {
    "colab": {
      "name": "IR_Assignment_1.ipynb",
      "provenance": []
    },
    "kernelspec": {
      "name": "python3",
      "display_name": "Python 3"
    },
    "language_info": {
      "name": "python"
    }
  },
  "cells": [
    {
      "cell_type": "code",
      "metadata": {
        "id": "TZCDggAgXoWG"
      },
      "source": [
        "import pandas as pd\n",
        "import string\n",
        "import re\n",
        "import nltk\n",
        "from nltk.tokenize import regexp_tokenize\n",
        "from nltk.stem.porter import PorterStemmer\n",
        "from nltk.stem import WordNetLemmatizer, SnowballStemmer, LancasterStemmer\n",
        "import spacy"
      ],
      "execution_count": 4,
      "outputs": []
    },
    {
      "cell_type": "markdown",
      "metadata": {
        "id": "MXzaDSGCWELR"
      },
      "source": [
        "# Read Data"
      ]
    },
    {
      "cell_type": "code",
      "metadata": {
        "colab": {
          "base_uri": "https://localhost:8080/",
          "height": 269
        },
        "id": "-d9uVMGrmgdj",
        "outputId": "51f0662e-40f1-4580-fb31-d89db5fa5cfe"
      },
      "source": [
        "df = pd.read_csv('/content/news_articles_txt100.csv', index_col=0)\n",
        "print(df.shape)\n",
        "df.head()"
      ],
      "execution_count": 5,
      "outputs": [
        {
          "output_type": "stream",
          "name": "stdout",
          "text": [
            "(100, 6)\n"
          ]
        },
        {
          "output_type": "execute_result",
          "data": {
            "text/html": [
              "<div>\n",
              "<style scoped>\n",
              "    .dataframe tbody tr th:only-of-type {\n",
              "        vertical-align: middle;\n",
              "    }\n",
              "\n",
              "    .dataframe tbody tr th {\n",
              "        vertical-align: top;\n",
              "    }\n",
              "\n",
              "    .dataframe thead th {\n",
              "        text-align: right;\n",
              "    }\n",
              "</style>\n",
              "<table border=\"1\" class=\"dataframe\">\n",
              "  <thead>\n",
              "    <tr style=\"text-align: right;\">\n",
              "      <th></th>\n",
              "      <th>headline</th>\n",
              "      <th>url</th>\n",
              "      <th>source</th>\n",
              "      <th>source_url</th>\n",
              "      <th>category</th>\n",
              "      <th>text</th>\n",
              "    </tr>\n",
              "  </thead>\n",
              "  <tbody>\n",
              "    <tr>\n",
              "      <th>0</th>\n",
              "      <td>Manappuram Finance to consider fund raising op...</td>\n",
              "      <td>https://www.business-standard.com/article/news...</td>\n",
              "      <td>Business Standard</td>\n",
              "      <td>https://www.business-standard.com</td>\n",
              "      <td>finance</td>\n",
              "      <td>Manappuram Finance said the company may consid...</td>\n",
              "    </tr>\n",
              "    <tr>\n",
              "      <th>1</th>\n",
              "      <td>PayU aims to provide full-stack financial serv...</td>\n",
              "      <td>https://www.business-standard.com/article/comp...</td>\n",
              "      <td>Business Standard</td>\n",
              "      <td>https://www.business-standard.com</td>\n",
              "      <td>finance</td>\n",
              "      <td>Finance, a digital lending player backed by Pr...</td>\n",
              "    </tr>\n",
              "    <tr>\n",
              "      <th>2</th>\n",
              "      <td>L&amp;T Finance in talks with HSBC to sell its mut...</td>\n",
              "      <td>https://www.businesstoday.in/latest/corporate/...</td>\n",
              "      <td>Business Today</td>\n",
              "      <td>https://www.businesstoday.in</td>\n",
              "      <td>finance</td>\n",
              "      <td>L&amp;T Finance Holdings is in active talks with f...</td>\n",
              "    </tr>\n",
              "    <tr>\n",
              "      <th>3</th>\n",
              "      <td>Tally Solutions seeks small finance banking li...</td>\n",
              "      <td>https://economictimes.indiatimes.com/industry/...</td>\n",
              "      <td>Economic Times</td>\n",
              "      <td>https://economictimes.indiatimes.com</td>\n",
              "      <td>finance</td>\n",
              "      <td>Financial technology company Tally Solutions a...</td>\n",
              "    </tr>\n",
              "    <tr>\n",
              "      <th>4</th>\n",
              "      <td>China Finance Online announces changes to the ...</td>\n",
              "      <td>https://ibsintelligence.com/ibsi-news/china-fi...</td>\n",
              "      <td>IBS Intelligence</td>\n",
              "      <td>https://ibsintelligence.com</td>\n",
              "      <td>finance</td>\n",
              "      <td>China Finance Online Co. Limited, a web-based ...</td>\n",
              "    </tr>\n",
              "  </tbody>\n",
              "</table>\n",
              "</div>"
            ],
            "text/plain": [
              "                                            headline  ...                                               text\n",
              "0  Manappuram Finance to consider fund raising op...  ...  Manappuram Finance said the company may consid...\n",
              "1  PayU aims to provide full-stack financial serv...  ...  Finance, a digital lending player backed by Pr...\n",
              "2  L&T Finance in talks with HSBC to sell its mut...  ...  L&T Finance Holdings is in active talks with f...\n",
              "3  Tally Solutions seeks small finance banking li...  ...  Financial technology company Tally Solutions a...\n",
              "4  China Finance Online announces changes to the ...  ...  China Finance Online Co. Limited, a web-based ...\n",
              "\n",
              "[5 rows x 6 columns]"
            ]
          },
          "metadata": {},
          "execution_count": 5
        }
      ]
    },
    {
      "cell_type": "code",
      "metadata": {
        "colab": {
          "base_uri": "https://localhost:8080/",
          "height": 124
        },
        "id": "ssoPCSyQqXta",
        "outputId": "889c883e-1c63-4a53-bc19-b2c5f8b331b0"
      },
      "source": [
        "df.text[0]"
      ],
      "execution_count": 6,
      "outputs": [
        {
          "output_type": "execute_result",
          "data": {
            "application/vnd.google.colaboratory.intrinsic+json": {
              "type": "string"
            },
            "text/plain": [
              "'Manappuram Finance said the company may consider and approve issuances of Debt Securities during September 2021.\\n\\nThe company is considering various options for raising funds through borrowings including by the way of issuance of various debt securities in onshore / offshore securities market by Public Issue, on Private Placement Basis or through issuing Commercial Papers.\\n\\nBased on the prevailing market conditions, the Board of Directors / Financial Resources and Management Committee / Debenture Committee of the Board of Directors of the Company may consider and approve issuances of Debt Securities during the month of September, 2021, subject to such terms and conditions including the issue price of debt securities, as the Board / respective Committee may deem fit.\\n\\nShares of Manappuram Finance fell 0.74% to settle at Rs 160.25 on Friday, 27 August 2021.\\n\\nManappuram Finance is a gold loans offering non-banking financial company, engaged in providing finance against used household gold ornaments.\\n\\nPowered by Capital Market - Live News\\n\\n(This story has not been edited by Business Standard staff and is auto-generated from a syndicated feed.)'"
            ]
          },
          "metadata": {},
          "execution_count": 6
        }
      ]
    },
    {
      "cell_type": "code",
      "metadata": {
        "id": "H1sJaQESqiU1"
      },
      "source": [
        "def get_size(field):\n",
        "    if type(df[field]) == str:\n",
        "        siz = df[field].str.len().sum()\n",
        "    else:\n",
        "        siz = sum(df[field].apply(lambda x: len(''.join(x))))\n",
        "    print(f\"The size of the corpus = {siz} characters\")\n",
        "\n",
        "def get_terms(field):\n",
        "    terms = set()\n",
        "    for lis in df[field]:\n",
        "        for term in lis:\n",
        "            terms.add(term)\n",
        "    print(f\"The number of terms = {len(terms)}\")"
      ],
      "execution_count": 7,
      "outputs": []
    },
    {
      "cell_type": "code",
      "metadata": {
        "colab": {
          "base_uri": "https://localhost:8080/"
        },
        "id": "rSwBOfsQsWHP",
        "outputId": "b088fa41-1895-4a75-f71e-517f5227b21c"
      },
      "source": [
        "get_size('text')"
      ],
      "execution_count": 8,
      "outputs": [
        {
          "output_type": "stream",
          "name": "stdout",
          "text": [
            "The size of the corpus = 347516 characters\n"
          ]
        }
      ]
    },
    {
      "cell_type": "markdown",
      "metadata": {
        "id": "cBkhZa84nYbX"
      },
      "source": [
        "# Preprocessing"
      ]
    },
    {
      "cell_type": "markdown",
      "metadata": {
        "id": "mr-EKK_ZrlBf"
      },
      "source": [
        "## Normalization"
      ]
    },
    {
      "cell_type": "markdown",
      "metadata": {
        "id": "WmA53QNqnPRK"
      },
      "source": [
        "### Punctuation Removal"
      ]
    },
    {
      "cell_type": "code",
      "metadata": {
        "colab": {
          "base_uri": "https://localhost:8080/",
          "height": 285
        },
        "id": "KKaJz8UMm3Vt",
        "outputId": "8dfb916d-7ea4-4714-855c-4f7e19e4f06a"
      },
      "source": [
        "def remove_punctuation(text):\n",
        "    text = text.replace('\\n',' ')\n",
        "    punctuationfree = \"\".join([i for i in text if i not in string.punctuation])\n",
        "    return punctuationfree\n",
        "\n",
        "df['clean_text'] = df['text'].apply(lambda x:remove_punctuation(x))\n",
        "df.head()"
      ],
      "execution_count": 9,
      "outputs": [
        {
          "output_type": "execute_result",
          "data": {
            "text/html": [
              "<div>\n",
              "<style scoped>\n",
              "    .dataframe tbody tr th:only-of-type {\n",
              "        vertical-align: middle;\n",
              "    }\n",
              "\n",
              "    .dataframe tbody tr th {\n",
              "        vertical-align: top;\n",
              "    }\n",
              "\n",
              "    .dataframe thead th {\n",
              "        text-align: right;\n",
              "    }\n",
              "</style>\n",
              "<table border=\"1\" class=\"dataframe\">\n",
              "  <thead>\n",
              "    <tr style=\"text-align: right;\">\n",
              "      <th></th>\n",
              "      <th>headline</th>\n",
              "      <th>url</th>\n",
              "      <th>source</th>\n",
              "      <th>source_url</th>\n",
              "      <th>category</th>\n",
              "      <th>text</th>\n",
              "      <th>clean_text</th>\n",
              "    </tr>\n",
              "  </thead>\n",
              "  <tbody>\n",
              "    <tr>\n",
              "      <th>0</th>\n",
              "      <td>Manappuram Finance to consider fund raising op...</td>\n",
              "      <td>https://www.business-standard.com/article/news...</td>\n",
              "      <td>Business Standard</td>\n",
              "      <td>https://www.business-standard.com</td>\n",
              "      <td>finance</td>\n",
              "      <td>Manappuram Finance said the company may consid...</td>\n",
              "      <td>Manappuram Finance said the company may consid...</td>\n",
              "    </tr>\n",
              "    <tr>\n",
              "      <th>1</th>\n",
              "      <td>PayU aims to provide full-stack financial serv...</td>\n",
              "      <td>https://www.business-standard.com/article/comp...</td>\n",
              "      <td>Business Standard</td>\n",
              "      <td>https://www.business-standard.com</td>\n",
              "      <td>finance</td>\n",
              "      <td>Finance, a digital lending player backed by Pr...</td>\n",
              "      <td>Finance a digital lending player backed by Pro...</td>\n",
              "    </tr>\n",
              "    <tr>\n",
              "      <th>2</th>\n",
              "      <td>L&amp;T Finance in talks with HSBC to sell its mut...</td>\n",
              "      <td>https://www.businesstoday.in/latest/corporate/...</td>\n",
              "      <td>Business Today</td>\n",
              "      <td>https://www.businesstoday.in</td>\n",
              "      <td>finance</td>\n",
              "      <td>L&amp;T Finance Holdings is in active talks with f...</td>\n",
              "      <td>LT Finance Holdings is in active talks with fi...</td>\n",
              "    </tr>\n",
              "    <tr>\n",
              "      <th>3</th>\n",
              "      <td>Tally Solutions seeks small finance banking li...</td>\n",
              "      <td>https://economictimes.indiatimes.com/industry/...</td>\n",
              "      <td>Economic Times</td>\n",
              "      <td>https://economictimes.indiatimes.com</td>\n",
              "      <td>finance</td>\n",
              "      <td>Financial technology company Tally Solutions a...</td>\n",
              "      <td>Financial technology company Tally Solutions a...</td>\n",
              "    </tr>\n",
              "    <tr>\n",
              "      <th>4</th>\n",
              "      <td>China Finance Online announces changes to the ...</td>\n",
              "      <td>https://ibsintelligence.com/ibsi-news/china-fi...</td>\n",
              "      <td>IBS Intelligence</td>\n",
              "      <td>https://ibsintelligence.com</td>\n",
              "      <td>finance</td>\n",
              "      <td>China Finance Online Co. Limited, a web-based ...</td>\n",
              "      <td>China Finance Online Co Limited a webbased fin...</td>\n",
              "    </tr>\n",
              "  </tbody>\n",
              "</table>\n",
              "</div>"
            ],
            "text/plain": [
              "                                            headline  ...                                         clean_text\n",
              "0  Manappuram Finance to consider fund raising op...  ...  Manappuram Finance said the company may consid...\n",
              "1  PayU aims to provide full-stack financial serv...  ...  Finance a digital lending player backed by Pro...\n",
              "2  L&T Finance in talks with HSBC to sell its mut...  ...  LT Finance Holdings is in active talks with fi...\n",
              "3  Tally Solutions seeks small finance banking li...  ...  Financial technology company Tally Solutions a...\n",
              "4  China Finance Online announces changes to the ...  ...  China Finance Online Co Limited a webbased fin...\n",
              "\n",
              "[5 rows x 7 columns]"
            ]
          },
          "metadata": {},
          "execution_count": 9
        }
      ]
    },
    {
      "cell_type": "code",
      "metadata": {
        "colab": {
          "base_uri": "https://localhost:8080/",
          "height": 124
        },
        "id": "bPZopEvCoK8o",
        "outputId": "0bdadf60-cc71-4885-d48f-e5f2ec1f0537"
      },
      "source": [
        "df.clean_text[0]"
      ],
      "execution_count": 10,
      "outputs": [
        {
          "output_type": "execute_result",
          "data": {
            "application/vnd.google.colaboratory.intrinsic+json": {
              "type": "string"
            },
            "text/plain": [
              "'Manappuram Finance said the company may consider and approve issuances of Debt Securities during September 2021  The company is considering various options for raising funds through borrowings including by the way of issuance of various debt securities in onshore  offshore securities market by Public Issue on Private Placement Basis or through issuing Commercial Papers  Based on the prevailing market conditions the Board of Directors  Financial Resources and Management Committee  Debenture Committee of the Board of Directors of the Company may consider and approve issuances of Debt Securities during the month of September 2021 subject to such terms and conditions including the issue price of debt securities as the Board  respective Committee may deem fit  Shares of Manappuram Finance fell 074 to settle at Rs 16025 on Friday 27 August 2021  Manappuram Finance is a gold loans offering nonbanking financial company engaged in providing finance against used household gold ornaments  Powered by Capital Market  Live News  This story has not been edited by Business Standard staff and is autogenerated from a syndicated feed'"
            ]
          },
          "metadata": {},
          "execution_count": 10
        }
      ]
    },
    {
      "cell_type": "code",
      "metadata": {
        "colab": {
          "base_uri": "https://localhost:8080/"
        },
        "id": "vNFCBpuXqgZl",
        "outputId": "e0c02e7e-a4db-4e9f-baa6-920981c77281"
      },
      "source": [
        "get_size('clean_text')"
      ],
      "execution_count": 11,
      "outputs": [
        {
          "output_type": "stream",
          "name": "stdout",
          "text": [
            "The size of the corpus = 336211 characters\n"
          ]
        }
      ]
    },
    {
      "cell_type": "markdown",
      "metadata": {
        "id": "DBeuowsCrUv9"
      },
      "source": [
        "### Case folding"
      ]
    },
    {
      "cell_type": "code",
      "metadata": {
        "colab": {
          "base_uri": "https://localhost:8080/",
          "height": 124
        },
        "id": "JPGIEdWkrUGH",
        "outputId": "4eeecae8-4b67-41fe-9a8a-a331c4b02045"
      },
      "source": [
        "df['lc_text'] = df['clean_text'].apply(lambda x: x.lower())\n",
        "df.lc_text[0]"
      ],
      "execution_count": 12,
      "outputs": [
        {
          "output_type": "execute_result",
          "data": {
            "application/vnd.google.colaboratory.intrinsic+json": {
              "type": "string"
            },
            "text/plain": [
              "'manappuram finance said the company may consider and approve issuances of debt securities during september 2021  the company is considering various options for raising funds through borrowings including by the way of issuance of various debt securities in onshore  offshore securities market by public issue on private placement basis or through issuing commercial papers  based on the prevailing market conditions the board of directors  financial resources and management committee  debenture committee of the board of directors of the company may consider and approve issuances of debt securities during the month of september 2021 subject to such terms and conditions including the issue price of debt securities as the board  respective committee may deem fit  shares of manappuram finance fell 074 to settle at rs 16025 on friday 27 august 2021  manappuram finance is a gold loans offering nonbanking financial company engaged in providing finance against used household gold ornaments  powered by capital market  live news  this story has not been edited by business standard staff and is autogenerated from a syndicated feed'"
            ]
          },
          "metadata": {},
          "execution_count": 12
        }
      ]
    },
    {
      "cell_type": "code",
      "metadata": {
        "colab": {
          "base_uri": "https://localhost:8080/"
        },
        "id": "fPyHBhSAsycY",
        "outputId": "76f48d0c-e6a4-47ab-a494-481c8f64a741"
      },
      "source": [
        "get_size('lc_text')"
      ],
      "execution_count": 13,
      "outputs": [
        {
          "output_type": "stream",
          "name": "stdout",
          "text": [
            "The size of the corpus = 336211 characters\n"
          ]
        }
      ]
    },
    {
      "cell_type": "markdown",
      "metadata": {
        "id": "p5T3lDSAs70o"
      },
      "source": [
        "## Tokenization"
      ]
    },
    {
      "cell_type": "code",
      "metadata": {
        "colab": {
          "base_uri": "https://localhost:8080/",
          "height": 571
        },
        "id": "-mQfP0A-s1uU",
        "outputId": "a390a2fa-8c07-4a6e-ea50-9a3369d4af4a"
      },
      "source": [
        "def tokenization(text):\n",
        "    tokens = regexp_tokenize(text, \"[\\w']+\")\n",
        "    return tokens\n",
        "\n",
        "df['text_token'] = df['text'].apply(lambda x: tokenization(x))\n",
        "df['clean_text_token'] = df['clean_text'].apply(lambda x: tokenization(x))\n",
        "df['lc_text_token'] = df['lc_text'].apply(lambda x: tokenization(x))\n",
        "df.head()"
      ],
      "execution_count": 14,
      "outputs": [
        {
          "output_type": "execute_result",
          "data": {
            "text/html": [
              "<div>\n",
              "<style scoped>\n",
              "    .dataframe tbody tr th:only-of-type {\n",
              "        vertical-align: middle;\n",
              "    }\n",
              "\n",
              "    .dataframe tbody tr th {\n",
              "        vertical-align: top;\n",
              "    }\n",
              "\n",
              "    .dataframe thead th {\n",
              "        text-align: right;\n",
              "    }\n",
              "</style>\n",
              "<table border=\"1\" class=\"dataframe\">\n",
              "  <thead>\n",
              "    <tr style=\"text-align: right;\">\n",
              "      <th></th>\n",
              "      <th>headline</th>\n",
              "      <th>url</th>\n",
              "      <th>source</th>\n",
              "      <th>source_url</th>\n",
              "      <th>category</th>\n",
              "      <th>text</th>\n",
              "      <th>clean_text</th>\n",
              "      <th>lc_text</th>\n",
              "      <th>text_token</th>\n",
              "      <th>clean_text_token</th>\n",
              "      <th>lc_text_token</th>\n",
              "    </tr>\n",
              "  </thead>\n",
              "  <tbody>\n",
              "    <tr>\n",
              "      <th>0</th>\n",
              "      <td>Manappuram Finance to consider fund raising op...</td>\n",
              "      <td>https://www.business-standard.com/article/news...</td>\n",
              "      <td>Business Standard</td>\n",
              "      <td>https://www.business-standard.com</td>\n",
              "      <td>finance</td>\n",
              "      <td>Manappuram Finance said the company may consid...</td>\n",
              "      <td>Manappuram Finance said the company may consid...</td>\n",
              "      <td>manappuram finance said the company may consid...</td>\n",
              "      <td>[Manappuram, Finance, said, the, company, may,...</td>\n",
              "      <td>[Manappuram, Finance, said, the, company, may,...</td>\n",
              "      <td>[manappuram, finance, said, the, company, may,...</td>\n",
              "    </tr>\n",
              "    <tr>\n",
              "      <th>1</th>\n",
              "      <td>PayU aims to provide full-stack financial serv...</td>\n",
              "      <td>https://www.business-standard.com/article/comp...</td>\n",
              "      <td>Business Standard</td>\n",
              "      <td>https://www.business-standard.com</td>\n",
              "      <td>finance</td>\n",
              "      <td>Finance, a digital lending player backed by Pr...</td>\n",
              "      <td>Finance a digital lending player backed by Pro...</td>\n",
              "      <td>finance a digital lending player backed by pro...</td>\n",
              "      <td>[Finance, a, digital, lending, player, backed,...</td>\n",
              "      <td>[Finance, a, digital, lending, player, backed,...</td>\n",
              "      <td>[finance, a, digital, lending, player, backed,...</td>\n",
              "    </tr>\n",
              "    <tr>\n",
              "      <th>2</th>\n",
              "      <td>L&amp;T Finance in talks with HSBC to sell its mut...</td>\n",
              "      <td>https://www.businesstoday.in/latest/corporate/...</td>\n",
              "      <td>Business Today</td>\n",
              "      <td>https://www.businesstoday.in</td>\n",
              "      <td>finance</td>\n",
              "      <td>L&amp;T Finance Holdings is in active talks with f...</td>\n",
              "      <td>LT Finance Holdings is in active talks with fi...</td>\n",
              "      <td>lt finance holdings is in active talks with fi...</td>\n",
              "      <td>[L, T, Finance, Holdings, is, in, active, talk...</td>\n",
              "      <td>[LT, Finance, Holdings, is, in, active, talks,...</td>\n",
              "      <td>[lt, finance, holdings, is, in, active, talks,...</td>\n",
              "    </tr>\n",
              "    <tr>\n",
              "      <th>3</th>\n",
              "      <td>Tally Solutions seeks small finance banking li...</td>\n",
              "      <td>https://economictimes.indiatimes.com/industry/...</td>\n",
              "      <td>Economic Times</td>\n",
              "      <td>https://economictimes.indiatimes.com</td>\n",
              "      <td>finance</td>\n",
              "      <td>Financial technology company Tally Solutions a...</td>\n",
              "      <td>Financial technology company Tally Solutions a...</td>\n",
              "      <td>financial technology company tally solutions a...</td>\n",
              "      <td>[Financial, technology, company, Tally, Soluti...</td>\n",
              "      <td>[Financial, technology, company, Tally, Soluti...</td>\n",
              "      <td>[financial, technology, company, tally, soluti...</td>\n",
              "    </tr>\n",
              "    <tr>\n",
              "      <th>4</th>\n",
              "      <td>China Finance Online announces changes to the ...</td>\n",
              "      <td>https://ibsintelligence.com/ibsi-news/china-fi...</td>\n",
              "      <td>IBS Intelligence</td>\n",
              "      <td>https://ibsintelligence.com</td>\n",
              "      <td>finance</td>\n",
              "      <td>China Finance Online Co. Limited, a web-based ...</td>\n",
              "      <td>China Finance Online Co Limited a webbased fin...</td>\n",
              "      <td>china finance online co limited a webbased fin...</td>\n",
              "      <td>[China, Finance, Online, Co, Limited, a, web, ...</td>\n",
              "      <td>[China, Finance, Online, Co, Limited, a, webba...</td>\n",
              "      <td>[china, finance, online, co, limited, a, webba...</td>\n",
              "    </tr>\n",
              "  </tbody>\n",
              "</table>\n",
              "</div>"
            ],
            "text/plain": [
              "                                            headline  ...                                      lc_text_token\n",
              "0  Manappuram Finance to consider fund raising op...  ...  [manappuram, finance, said, the, company, may,...\n",
              "1  PayU aims to provide full-stack financial serv...  ...  [finance, a, digital, lending, player, backed,...\n",
              "2  L&T Finance in talks with HSBC to sell its mut...  ...  [lt, finance, holdings, is, in, active, talks,...\n",
              "3  Tally Solutions seeks small finance banking li...  ...  [financial, technology, company, tally, soluti...\n",
              "4  China Finance Online announces changes to the ...  ...  [china, finance, online, co, limited, a, webba...\n",
              "\n",
              "[5 rows x 11 columns]"
            ]
          },
          "metadata": {},
          "execution_count": 14
        }
      ]
    },
    {
      "cell_type": "code",
      "metadata": {
        "colab": {
          "base_uri": "https://localhost:8080/"
        },
        "id": "KYpe8o7QteeO",
        "outputId": "11a23cae-f26d-4d78-b778-4fdbd7d69e40"
      },
      "source": [
        "print(df.text_token[0])"
      ],
      "execution_count": 15,
      "outputs": [
        {
          "output_type": "stream",
          "name": "stdout",
          "text": [
            "['Manappuram', 'Finance', 'said', 'the', 'company', 'may', 'consider', 'and', 'approve', 'issuances', 'of', 'Debt', 'Securities', 'during', 'September', '2021', 'The', 'company', 'is', 'considering', 'various', 'options', 'for', 'raising', 'funds', 'through', 'borrowings', 'including', 'by', 'the', 'way', 'of', 'issuance', 'of', 'various', 'debt', 'securities', 'in', 'onshore', 'offshore', 'securities', 'market', 'by', 'Public', 'Issue', 'on', 'Private', 'Placement', 'Basis', 'or', 'through', 'issuing', 'Commercial', 'Papers', 'Based', 'on', 'the', 'prevailing', 'market', 'conditions', 'the', 'Board', 'of', 'Directors', 'Financial', 'Resources', 'and', 'Management', 'Committee', 'Debenture', 'Committee', 'of', 'the', 'Board', 'of', 'Directors', 'of', 'the', 'Company', 'may', 'consider', 'and', 'approve', 'issuances', 'of', 'Debt', 'Securities', 'during', 'the', 'month', 'of', 'September', '2021', 'subject', 'to', 'such', 'terms', 'and', 'conditions', 'including', 'the', 'issue', 'price', 'of', 'debt', 'securities', 'as', 'the', 'Board', 'respective', 'Committee', 'may', 'deem', 'fit', 'Shares', 'of', 'Manappuram', 'Finance', 'fell', '0', '74', 'to', 'settle', 'at', 'Rs', '160', '25', 'on', 'Friday', '27', 'August', '2021', 'Manappuram', 'Finance', 'is', 'a', 'gold', 'loans', 'offering', 'non', 'banking', 'financial', 'company', 'engaged', 'in', 'providing', 'finance', 'against', 'used', 'household', 'gold', 'ornaments', 'Powered', 'by', 'Capital', 'Market', 'Live', 'News', 'This', 'story', 'has', 'not', 'been', 'edited', 'by', 'Business', 'Standard', 'staff', 'and', 'is', 'auto', 'generated', 'from', 'a', 'syndicated', 'feed']\n"
          ]
        }
      ]
    },
    {
      "cell_type": "code",
      "metadata": {
        "colab": {
          "base_uri": "https://localhost:8080/"
        },
        "id": "a9hdENukuiyE",
        "outputId": "5cb18cf5-78f1-4516-e9ab-b07140f642ef"
      },
      "source": [
        "print('Initially - ')\n",
        "get_terms('text_token')\n",
        "get_size('text')\n",
        "print()\n",
        "print('After removing punctuations - ')\n",
        "get_terms('clean_text_token')\n",
        "get_size('clean_text')\n",
        "print()\n",
        "print('After case folding - ')\n",
        "get_terms('lc_text_token')\n",
        "get_size('lc_text')\n",
        "print()"
      ],
      "execution_count": 16,
      "outputs": [
        {
          "output_type": "stream",
          "name": "stdout",
          "text": [
            "Initially - \n",
            "The number of terms = 10238\n",
            "The size of the corpus = 347516 characters\n",
            "\n",
            "After removing punctuations - \n",
            "The number of terms = 10530\n",
            "The size of the corpus = 336211 characters\n",
            "\n",
            "After case folding - \n",
            "The number of terms = 9431\n",
            "The size of the corpus = 336211 characters\n",
            "\n"
          ]
        }
      ]
    },
    {
      "cell_type": "markdown",
      "metadata": {
        "id": "r-bFq6ETxnSg"
      },
      "source": [
        "## Stopwords removal"
      ]
    },
    {
      "cell_type": "code",
      "metadata": {
        "colab": {
          "base_uri": "https://localhost:8080/"
        },
        "id": "FsJI20iqxUzr",
        "outputId": "6d5c50b4-afc7-409f-ed72-4bf733c71598"
      },
      "source": [
        "nltk.download('stopwords')\n",
        "stopwords = nltk.corpus.stopwords.words('english')\n",
        "stopwords[0:10]"
      ],
      "execution_count": 17,
      "outputs": [
        {
          "output_type": "stream",
          "name": "stdout",
          "text": [
            "[nltk_data] Downloading package stopwords to /root/nltk_data...\n",
            "[nltk_data]   Unzipping corpora/stopwords.zip.\n"
          ]
        },
        {
          "output_type": "execute_result",
          "data": {
            "text/plain": [
              "['i', 'me', 'my', 'myself', 'we', 'our', 'ours', 'ourselves', 'you', \"you're\"]"
            ]
          },
          "metadata": {},
          "execution_count": 17
        }
      ]
    },
    {
      "cell_type": "code",
      "metadata": {
        "colab": {
          "base_uri": "https://localhost:8080/",
          "height": 571
        },
        "id": "sT24qTzoxyvh",
        "outputId": "495da58c-cebc-433c-c3e7-d6d914f72159"
      },
      "source": [
        "def remove_stopwords(text):\n",
        "    output= [i for i in text if i not in stopwords]\n",
        "    return output\n",
        "\n",
        "df['no_sw_text']= df['lc_text_token'].apply(lambda x:remove_stopwords(x))\n",
        "df.head()"
      ],
      "execution_count": 18,
      "outputs": [
        {
          "output_type": "execute_result",
          "data": {
            "text/html": [
              "<div>\n",
              "<style scoped>\n",
              "    .dataframe tbody tr th:only-of-type {\n",
              "        vertical-align: middle;\n",
              "    }\n",
              "\n",
              "    .dataframe tbody tr th {\n",
              "        vertical-align: top;\n",
              "    }\n",
              "\n",
              "    .dataframe thead th {\n",
              "        text-align: right;\n",
              "    }\n",
              "</style>\n",
              "<table border=\"1\" class=\"dataframe\">\n",
              "  <thead>\n",
              "    <tr style=\"text-align: right;\">\n",
              "      <th></th>\n",
              "      <th>headline</th>\n",
              "      <th>url</th>\n",
              "      <th>source</th>\n",
              "      <th>source_url</th>\n",
              "      <th>category</th>\n",
              "      <th>text</th>\n",
              "      <th>clean_text</th>\n",
              "      <th>lc_text</th>\n",
              "      <th>text_token</th>\n",
              "      <th>clean_text_token</th>\n",
              "      <th>lc_text_token</th>\n",
              "      <th>no_sw_text</th>\n",
              "    </tr>\n",
              "  </thead>\n",
              "  <tbody>\n",
              "    <tr>\n",
              "      <th>0</th>\n",
              "      <td>Manappuram Finance to consider fund raising op...</td>\n",
              "      <td>https://www.business-standard.com/article/news...</td>\n",
              "      <td>Business Standard</td>\n",
              "      <td>https://www.business-standard.com</td>\n",
              "      <td>finance</td>\n",
              "      <td>Manappuram Finance said the company may consid...</td>\n",
              "      <td>Manappuram Finance said the company may consid...</td>\n",
              "      <td>manappuram finance said the company may consid...</td>\n",
              "      <td>[Manappuram, Finance, said, the, company, may,...</td>\n",
              "      <td>[Manappuram, Finance, said, the, company, may,...</td>\n",
              "      <td>[manappuram, finance, said, the, company, may,...</td>\n",
              "      <td>[manappuram, finance, said, company, may, cons...</td>\n",
              "    </tr>\n",
              "    <tr>\n",
              "      <th>1</th>\n",
              "      <td>PayU aims to provide full-stack financial serv...</td>\n",
              "      <td>https://www.business-standard.com/article/comp...</td>\n",
              "      <td>Business Standard</td>\n",
              "      <td>https://www.business-standard.com</td>\n",
              "      <td>finance</td>\n",
              "      <td>Finance, a digital lending player backed by Pr...</td>\n",
              "      <td>Finance a digital lending player backed by Pro...</td>\n",
              "      <td>finance a digital lending player backed by pro...</td>\n",
              "      <td>[Finance, a, digital, lending, player, backed,...</td>\n",
              "      <td>[Finance, a, digital, lending, player, backed,...</td>\n",
              "      <td>[finance, a, digital, lending, player, backed,...</td>\n",
              "      <td>[finance, digital, lending, player, backed, pr...</td>\n",
              "    </tr>\n",
              "    <tr>\n",
              "      <th>2</th>\n",
              "      <td>L&amp;T Finance in talks with HSBC to sell its mut...</td>\n",
              "      <td>https://www.businesstoday.in/latest/corporate/...</td>\n",
              "      <td>Business Today</td>\n",
              "      <td>https://www.businesstoday.in</td>\n",
              "      <td>finance</td>\n",
              "      <td>L&amp;T Finance Holdings is in active talks with f...</td>\n",
              "      <td>LT Finance Holdings is in active talks with fi...</td>\n",
              "      <td>lt finance holdings is in active talks with fi...</td>\n",
              "      <td>[L, T, Finance, Holdings, is, in, active, talk...</td>\n",
              "      <td>[LT, Finance, Holdings, is, in, active, talks,...</td>\n",
              "      <td>[lt, finance, holdings, is, in, active, talks,...</td>\n",
              "      <td>[lt, finance, holdings, active, talks, financi...</td>\n",
              "    </tr>\n",
              "    <tr>\n",
              "      <th>3</th>\n",
              "      <td>Tally Solutions seeks small finance banking li...</td>\n",
              "      <td>https://economictimes.indiatimes.com/industry/...</td>\n",
              "      <td>Economic Times</td>\n",
              "      <td>https://economictimes.indiatimes.com</td>\n",
              "      <td>finance</td>\n",
              "      <td>Financial technology company Tally Solutions a...</td>\n",
              "      <td>Financial technology company Tally Solutions a...</td>\n",
              "      <td>financial technology company tally solutions a...</td>\n",
              "      <td>[Financial, technology, company, Tally, Soluti...</td>\n",
              "      <td>[Financial, technology, company, Tally, Soluti...</td>\n",
              "      <td>[financial, technology, company, tally, soluti...</td>\n",
              "      <td>[financial, technology, company, tally, soluti...</td>\n",
              "    </tr>\n",
              "    <tr>\n",
              "      <th>4</th>\n",
              "      <td>China Finance Online announces changes to the ...</td>\n",
              "      <td>https://ibsintelligence.com/ibsi-news/china-fi...</td>\n",
              "      <td>IBS Intelligence</td>\n",
              "      <td>https://ibsintelligence.com</td>\n",
              "      <td>finance</td>\n",
              "      <td>China Finance Online Co. Limited, a web-based ...</td>\n",
              "      <td>China Finance Online Co Limited a webbased fin...</td>\n",
              "      <td>china finance online co limited a webbased fin...</td>\n",
              "      <td>[China, Finance, Online, Co, Limited, a, web, ...</td>\n",
              "      <td>[China, Finance, Online, Co, Limited, a, webba...</td>\n",
              "      <td>[china, finance, online, co, limited, a, webba...</td>\n",
              "      <td>[china, finance, online, co, limited, webbased...</td>\n",
              "    </tr>\n",
              "  </tbody>\n",
              "</table>\n",
              "</div>"
            ],
            "text/plain": [
              "                                            headline  ...                                         no_sw_text\n",
              "0  Manappuram Finance to consider fund raising op...  ...  [manappuram, finance, said, company, may, cons...\n",
              "1  PayU aims to provide full-stack financial serv...  ...  [finance, digital, lending, player, backed, pr...\n",
              "2  L&T Finance in talks with HSBC to sell its mut...  ...  [lt, finance, holdings, active, talks, financi...\n",
              "3  Tally Solutions seeks small finance banking li...  ...  [financial, technology, company, tally, soluti...\n",
              "4  China Finance Online announces changes to the ...  ...  [china, finance, online, co, limited, webbased...\n",
              "\n",
              "[5 rows x 12 columns]"
            ]
          },
          "metadata": {},
          "execution_count": 18
        }
      ]
    },
    {
      "cell_type": "code",
      "metadata": {
        "colab": {
          "base_uri": "https://localhost:8080/"
        },
        "id": "UNh1VN89yBHU",
        "outputId": "9a1d288b-28c3-4dfb-8908-15f8c412b918"
      },
      "source": [
        "print(df.no_sw_text[0])"
      ],
      "execution_count": 19,
      "outputs": [
        {
          "output_type": "stream",
          "name": "stdout",
          "text": [
            "['manappuram', 'finance', 'said', 'company', 'may', 'consider', 'approve', 'issuances', 'debt', 'securities', 'september', '2021', 'company', 'considering', 'various', 'options', 'raising', 'funds', 'borrowings', 'including', 'way', 'issuance', 'various', 'debt', 'securities', 'onshore', 'offshore', 'securities', 'market', 'public', 'issue', 'private', 'placement', 'basis', 'issuing', 'commercial', 'papers', 'based', 'prevailing', 'market', 'conditions', 'board', 'directors', 'financial', 'resources', 'management', 'committee', 'debenture', 'committee', 'board', 'directors', 'company', 'may', 'consider', 'approve', 'issuances', 'debt', 'securities', 'month', 'september', '2021', 'subject', 'terms', 'conditions', 'including', 'issue', 'price', 'debt', 'securities', 'board', 'respective', 'committee', 'may', 'deem', 'fit', 'shares', 'manappuram', 'finance', 'fell', '074', 'settle', 'rs', '16025', 'friday', '27', 'august', '2021', 'manappuram', 'finance', 'gold', 'loans', 'offering', 'nonbanking', 'financial', 'company', 'engaged', 'providing', 'finance', 'used', 'household', 'gold', 'ornaments', 'powered', 'capital', 'market', 'live', 'news', 'story', 'edited', 'business', 'standard', 'staff', 'autogenerated', 'syndicated', 'feed']\n"
          ]
        }
      ]
    },
    {
      "cell_type": "code",
      "metadata": {
        "colab": {
          "base_uri": "https://localhost:8080/"
        },
        "id": "zCKxvZmfyGzv",
        "outputId": "14b8cb83-717a-4760-b757-a45abebb8dca"
      },
      "source": [
        "get_size('no_sw_text')"
      ],
      "execution_count": 20,
      "outputs": [
        {
          "output_type": "stream",
          "name": "stdout",
          "text": [
            "The size of the corpus = 219075 characters\n"
          ]
        }
      ]
    },
    {
      "cell_type": "markdown",
      "metadata": {
        "id": "3iacwyimfrO1"
      },
      "source": [
        "## Stemming"
      ]
    },
    {
      "cell_type": "code",
      "metadata": {
        "colab": {
          "base_uri": "https://localhost:8080/",
          "height": 571
        },
        "id": "p0nZPeCjfv5U",
        "outputId": "97e94c48-5e14-4876-f9f4-3f121260a9c3"
      },
      "source": [
        "porter_stemmer = PorterStemmer()\n",
        "snowball_stemmer = SnowballStemmer(language='english')\n",
        "lancaster_stemmer = LancasterStemmer()\n",
        "\n",
        "def stemming(text, stemmer):\n",
        "    stem_text = [stemmer.stem(word) for word in text]\n",
        "    return stem_text\n",
        "\n",
        "df['text_stem'] = df['no_sw_text'].apply(lambda x: stemming(x, porter_stemmer))\n",
        "df.head()"
      ],
      "execution_count": 21,
      "outputs": [
        {
          "output_type": "execute_result",
          "data": {
            "text/html": [
              "<div>\n",
              "<style scoped>\n",
              "    .dataframe tbody tr th:only-of-type {\n",
              "        vertical-align: middle;\n",
              "    }\n",
              "\n",
              "    .dataframe tbody tr th {\n",
              "        vertical-align: top;\n",
              "    }\n",
              "\n",
              "    .dataframe thead th {\n",
              "        text-align: right;\n",
              "    }\n",
              "</style>\n",
              "<table border=\"1\" class=\"dataframe\">\n",
              "  <thead>\n",
              "    <tr style=\"text-align: right;\">\n",
              "      <th></th>\n",
              "      <th>headline</th>\n",
              "      <th>url</th>\n",
              "      <th>source</th>\n",
              "      <th>source_url</th>\n",
              "      <th>category</th>\n",
              "      <th>text</th>\n",
              "      <th>clean_text</th>\n",
              "      <th>lc_text</th>\n",
              "      <th>text_token</th>\n",
              "      <th>clean_text_token</th>\n",
              "      <th>lc_text_token</th>\n",
              "      <th>no_sw_text</th>\n",
              "      <th>text_stem</th>\n",
              "    </tr>\n",
              "  </thead>\n",
              "  <tbody>\n",
              "    <tr>\n",
              "      <th>0</th>\n",
              "      <td>Manappuram Finance to consider fund raising op...</td>\n",
              "      <td>https://www.business-standard.com/article/news...</td>\n",
              "      <td>Business Standard</td>\n",
              "      <td>https://www.business-standard.com</td>\n",
              "      <td>finance</td>\n",
              "      <td>Manappuram Finance said the company may consid...</td>\n",
              "      <td>Manappuram Finance said the company may consid...</td>\n",
              "      <td>manappuram finance said the company may consid...</td>\n",
              "      <td>[Manappuram, Finance, said, the, company, may,...</td>\n",
              "      <td>[Manappuram, Finance, said, the, company, may,...</td>\n",
              "      <td>[manappuram, finance, said, the, company, may,...</td>\n",
              "      <td>[manappuram, finance, said, company, may, cons...</td>\n",
              "      <td>[manappuram, financ, said, compani, may, consi...</td>\n",
              "    </tr>\n",
              "    <tr>\n",
              "      <th>1</th>\n",
              "      <td>PayU aims to provide full-stack financial serv...</td>\n",
              "      <td>https://www.business-standard.com/article/comp...</td>\n",
              "      <td>Business Standard</td>\n",
              "      <td>https://www.business-standard.com</td>\n",
              "      <td>finance</td>\n",
              "      <td>Finance, a digital lending player backed by Pr...</td>\n",
              "      <td>Finance a digital lending player backed by Pro...</td>\n",
              "      <td>finance a digital lending player backed by pro...</td>\n",
              "      <td>[Finance, a, digital, lending, player, backed,...</td>\n",
              "      <td>[Finance, a, digital, lending, player, backed,...</td>\n",
              "      <td>[finance, a, digital, lending, player, backed,...</td>\n",
              "      <td>[finance, digital, lending, player, backed, pr...</td>\n",
              "      <td>[financ, digit, lend, player, back, prosu, ven...</td>\n",
              "    </tr>\n",
              "    <tr>\n",
              "      <th>2</th>\n",
              "      <td>L&amp;T Finance in talks with HSBC to sell its mut...</td>\n",
              "      <td>https://www.businesstoday.in/latest/corporate/...</td>\n",
              "      <td>Business Today</td>\n",
              "      <td>https://www.businesstoday.in</td>\n",
              "      <td>finance</td>\n",
              "      <td>L&amp;T Finance Holdings is in active talks with f...</td>\n",
              "      <td>LT Finance Holdings is in active talks with fi...</td>\n",
              "      <td>lt finance holdings is in active talks with fi...</td>\n",
              "      <td>[L, T, Finance, Holdings, is, in, active, talk...</td>\n",
              "      <td>[LT, Finance, Holdings, is, in, active, talks,...</td>\n",
              "      <td>[lt, finance, holdings, is, in, active, talks,...</td>\n",
              "      <td>[lt, finance, holdings, active, talks, financi...</td>\n",
              "      <td>[lt, financ, hold, activ, talk, financi, servi...</td>\n",
              "    </tr>\n",
              "    <tr>\n",
              "      <th>3</th>\n",
              "      <td>Tally Solutions seeks small finance banking li...</td>\n",
              "      <td>https://economictimes.indiatimes.com/industry/...</td>\n",
              "      <td>Economic Times</td>\n",
              "      <td>https://economictimes.indiatimes.com</td>\n",
              "      <td>finance</td>\n",
              "      <td>Financial technology company Tally Solutions a...</td>\n",
              "      <td>Financial technology company Tally Solutions a...</td>\n",
              "      <td>financial technology company tally solutions a...</td>\n",
              "      <td>[Financial, technology, company, Tally, Soluti...</td>\n",
              "      <td>[Financial, technology, company, Tally, Soluti...</td>\n",
              "      <td>[financial, technology, company, tally, soluti...</td>\n",
              "      <td>[financial, technology, company, tally, soluti...</td>\n",
              "      <td>[financi, technolog, compani, talli, solut, co...</td>\n",
              "    </tr>\n",
              "    <tr>\n",
              "      <th>4</th>\n",
              "      <td>China Finance Online announces changes to the ...</td>\n",
              "      <td>https://ibsintelligence.com/ibsi-news/china-fi...</td>\n",
              "      <td>IBS Intelligence</td>\n",
              "      <td>https://ibsintelligence.com</td>\n",
              "      <td>finance</td>\n",
              "      <td>China Finance Online Co. Limited, a web-based ...</td>\n",
              "      <td>China Finance Online Co Limited a webbased fin...</td>\n",
              "      <td>china finance online co limited a webbased fin...</td>\n",
              "      <td>[China, Finance, Online, Co, Limited, a, web, ...</td>\n",
              "      <td>[China, Finance, Online, Co, Limited, a, webba...</td>\n",
              "      <td>[china, finance, online, co, limited, a, webba...</td>\n",
              "      <td>[china, finance, online, co, limited, webbased...</td>\n",
              "      <td>[china, financ, onlin, co, limit, webbas, fina...</td>\n",
              "    </tr>\n",
              "  </tbody>\n",
              "</table>\n",
              "</div>"
            ],
            "text/plain": [
              "                                            headline  ...                                          text_stem\n",
              "0  Manappuram Finance to consider fund raising op...  ...  [manappuram, financ, said, compani, may, consi...\n",
              "1  PayU aims to provide full-stack financial serv...  ...  [financ, digit, lend, player, back, prosu, ven...\n",
              "2  L&T Finance in talks with HSBC to sell its mut...  ...  [lt, financ, hold, activ, talk, financi, servi...\n",
              "3  Tally Solutions seeks small finance banking li...  ...  [financi, technolog, compani, talli, solut, co...\n",
              "4  China Finance Online announces changes to the ...  ...  [china, financ, onlin, co, limit, webbas, fina...\n",
              "\n",
              "[5 rows x 13 columns]"
            ]
          },
          "metadata": {},
          "execution_count": 21
        }
      ]
    },
    {
      "cell_type": "code",
      "metadata": {
        "colab": {
          "base_uri": "https://localhost:8080/"
        },
        "id": "uORYIDGhgQZT",
        "outputId": "eb385940-6037-4c16-e0e1-8d71f803d79a"
      },
      "source": [
        "print(df.text_stem[0])"
      ],
      "execution_count": 22,
      "outputs": [
        {
          "output_type": "stream",
          "name": "stdout",
          "text": [
            "['manappuram', 'financ', 'said', 'compani', 'may', 'consid', 'approv', 'issuanc', 'debt', 'secur', 'septemb', '2021', 'compani', 'consid', 'variou', 'option', 'rais', 'fund', 'borrow', 'includ', 'way', 'issuanc', 'variou', 'debt', 'secur', 'onshor', 'offshor', 'secur', 'market', 'public', 'issu', 'privat', 'placement', 'basi', 'issu', 'commerci', 'paper', 'base', 'prevail', 'market', 'condit', 'board', 'director', 'financi', 'resourc', 'manag', 'committe', 'debentur', 'committe', 'board', 'director', 'compani', 'may', 'consid', 'approv', 'issuanc', 'debt', 'secur', 'month', 'septemb', '2021', 'subject', 'term', 'condit', 'includ', 'issu', 'price', 'debt', 'secur', 'board', 'respect', 'committe', 'may', 'deem', 'fit', 'share', 'manappuram', 'financ', 'fell', '074', 'settl', 'rs', '16025', 'friday', '27', 'august', '2021', 'manappuram', 'financ', 'gold', 'loan', 'offer', 'nonbank', 'financi', 'compani', 'engag', 'provid', 'financ', 'use', 'household', 'gold', 'ornament', 'power', 'capit', 'market', 'live', 'news', 'stori', 'edit', 'busi', 'standard', 'staff', 'autogener', 'syndic', 'feed']\n"
          ]
        }
      ]
    },
    {
      "cell_type": "code",
      "metadata": {
        "colab": {
          "base_uri": "https://localhost:8080/"
        },
        "id": "7DoWl4Ckgu8V",
        "outputId": "a8a7f93b-f61b-4361-a76b-54d5c1d89098"
      },
      "source": [
        "get_terms('text_stem')\n",
        "get_size('text_stem')"
      ],
      "execution_count": 23,
      "outputs": [
        {
          "output_type": "stream",
          "name": "stdout",
          "text": [
            "The number of terms = 7097\n",
            "The size of the corpus = 189381 characters\n"
          ]
        }
      ]
    },
    {
      "cell_type": "markdown",
      "metadata": {
        "id": "MZ4B5X9JhRL_"
      },
      "source": [
        "## Lemmatization"
      ]
    },
    {
      "cell_type": "code",
      "metadata": {
        "colab": {
          "base_uri": "https://localhost:8080/",
          "height": 606
        },
        "id": "hcpCK214gz4N",
        "outputId": "ad663c2d-0be5-4a4d-abdf-963b0402cb76"
      },
      "source": [
        "nltk.download('wordnet')\n",
        "wordnet_lemmatizer = WordNetLemmatizer()\n",
        "spacy_lemm = spacy.load('en_core_web_sm')\n",
        "\n",
        "def lemmatizer(text):\n",
        "    lemm_text = [wordnet_lemmatizer.lemmatize(word) for word in text]\n",
        "    return lemm_text\n",
        "\n",
        "def spacy_lemmatizer(text):\n",
        "    lemm_text = [spacy_lemm(word)[0].lemma_ for word in text]\n",
        "    return lemm_text\n",
        "\n",
        "df['text_lemm'] = df['no_sw_text'].apply(lambda x:lemmatizer(x))\n",
        "df.head()"
      ],
      "execution_count": 24,
      "outputs": [
        {
          "output_type": "stream",
          "name": "stdout",
          "text": [
            "[nltk_data] Downloading package wordnet to /root/nltk_data...\n",
            "[nltk_data]   Unzipping corpora/wordnet.zip.\n"
          ]
        },
        {
          "output_type": "execute_result",
          "data": {
            "text/html": [
              "<div>\n",
              "<style scoped>\n",
              "    .dataframe tbody tr th:only-of-type {\n",
              "        vertical-align: middle;\n",
              "    }\n",
              "\n",
              "    .dataframe tbody tr th {\n",
              "        vertical-align: top;\n",
              "    }\n",
              "\n",
              "    .dataframe thead th {\n",
              "        text-align: right;\n",
              "    }\n",
              "</style>\n",
              "<table border=\"1\" class=\"dataframe\">\n",
              "  <thead>\n",
              "    <tr style=\"text-align: right;\">\n",
              "      <th></th>\n",
              "      <th>headline</th>\n",
              "      <th>url</th>\n",
              "      <th>source</th>\n",
              "      <th>source_url</th>\n",
              "      <th>category</th>\n",
              "      <th>text</th>\n",
              "      <th>clean_text</th>\n",
              "      <th>lc_text</th>\n",
              "      <th>text_token</th>\n",
              "      <th>clean_text_token</th>\n",
              "      <th>lc_text_token</th>\n",
              "      <th>no_sw_text</th>\n",
              "      <th>text_stem</th>\n",
              "      <th>text_lemm</th>\n",
              "    </tr>\n",
              "  </thead>\n",
              "  <tbody>\n",
              "    <tr>\n",
              "      <th>0</th>\n",
              "      <td>Manappuram Finance to consider fund raising op...</td>\n",
              "      <td>https://www.business-standard.com/article/news...</td>\n",
              "      <td>Business Standard</td>\n",
              "      <td>https://www.business-standard.com</td>\n",
              "      <td>finance</td>\n",
              "      <td>Manappuram Finance said the company may consid...</td>\n",
              "      <td>Manappuram Finance said the company may consid...</td>\n",
              "      <td>manappuram finance said the company may consid...</td>\n",
              "      <td>[Manappuram, Finance, said, the, company, may,...</td>\n",
              "      <td>[Manappuram, Finance, said, the, company, may,...</td>\n",
              "      <td>[manappuram, finance, said, the, company, may,...</td>\n",
              "      <td>[manappuram, finance, said, company, may, cons...</td>\n",
              "      <td>[manappuram, financ, said, compani, may, consi...</td>\n",
              "      <td>[manappuram, finance, said, company, may, cons...</td>\n",
              "    </tr>\n",
              "    <tr>\n",
              "      <th>1</th>\n",
              "      <td>PayU aims to provide full-stack financial serv...</td>\n",
              "      <td>https://www.business-standard.com/article/comp...</td>\n",
              "      <td>Business Standard</td>\n",
              "      <td>https://www.business-standard.com</td>\n",
              "      <td>finance</td>\n",
              "      <td>Finance, a digital lending player backed by Pr...</td>\n",
              "      <td>Finance a digital lending player backed by Pro...</td>\n",
              "      <td>finance a digital lending player backed by pro...</td>\n",
              "      <td>[Finance, a, digital, lending, player, backed,...</td>\n",
              "      <td>[Finance, a, digital, lending, player, backed,...</td>\n",
              "      <td>[finance, a, digital, lending, player, backed,...</td>\n",
              "      <td>[finance, digital, lending, player, backed, pr...</td>\n",
              "      <td>[financ, digit, lend, player, back, prosu, ven...</td>\n",
              "      <td>[finance, digital, lending, player, backed, pr...</td>\n",
              "    </tr>\n",
              "    <tr>\n",
              "      <th>2</th>\n",
              "      <td>L&amp;T Finance in talks with HSBC to sell its mut...</td>\n",
              "      <td>https://www.businesstoday.in/latest/corporate/...</td>\n",
              "      <td>Business Today</td>\n",
              "      <td>https://www.businesstoday.in</td>\n",
              "      <td>finance</td>\n",
              "      <td>L&amp;T Finance Holdings is in active talks with f...</td>\n",
              "      <td>LT Finance Holdings is in active talks with fi...</td>\n",
              "      <td>lt finance holdings is in active talks with fi...</td>\n",
              "      <td>[L, T, Finance, Holdings, is, in, active, talk...</td>\n",
              "      <td>[LT, Finance, Holdings, is, in, active, talks,...</td>\n",
              "      <td>[lt, finance, holdings, is, in, active, talks,...</td>\n",
              "      <td>[lt, finance, holdings, active, talks, financi...</td>\n",
              "      <td>[lt, financ, hold, activ, talk, financi, servi...</td>\n",
              "      <td>[lt, finance, holding, active, talk, financial...</td>\n",
              "    </tr>\n",
              "    <tr>\n",
              "      <th>3</th>\n",
              "      <td>Tally Solutions seeks small finance banking li...</td>\n",
              "      <td>https://economictimes.indiatimes.com/industry/...</td>\n",
              "      <td>Economic Times</td>\n",
              "      <td>https://economictimes.indiatimes.com</td>\n",
              "      <td>finance</td>\n",
              "      <td>Financial technology company Tally Solutions a...</td>\n",
              "      <td>Financial technology company Tally Solutions a...</td>\n",
              "      <td>financial technology company tally solutions a...</td>\n",
              "      <td>[Financial, technology, company, Tally, Soluti...</td>\n",
              "      <td>[Financial, technology, company, Tally, Soluti...</td>\n",
              "      <td>[financial, technology, company, tally, soluti...</td>\n",
              "      <td>[financial, technology, company, tally, soluti...</td>\n",
              "      <td>[financi, technolog, compani, talli, solut, co...</td>\n",
              "      <td>[financial, technology, company, tally, soluti...</td>\n",
              "    </tr>\n",
              "    <tr>\n",
              "      <th>4</th>\n",
              "      <td>China Finance Online announces changes to the ...</td>\n",
              "      <td>https://ibsintelligence.com/ibsi-news/china-fi...</td>\n",
              "      <td>IBS Intelligence</td>\n",
              "      <td>https://ibsintelligence.com</td>\n",
              "      <td>finance</td>\n",
              "      <td>China Finance Online Co. Limited, a web-based ...</td>\n",
              "      <td>China Finance Online Co Limited a webbased fin...</td>\n",
              "      <td>china finance online co limited a webbased fin...</td>\n",
              "      <td>[China, Finance, Online, Co, Limited, a, web, ...</td>\n",
              "      <td>[China, Finance, Online, Co, Limited, a, webba...</td>\n",
              "      <td>[china, finance, online, co, limited, a, webba...</td>\n",
              "      <td>[china, finance, online, co, limited, webbased...</td>\n",
              "      <td>[china, financ, onlin, co, limit, webbas, fina...</td>\n",
              "      <td>[china, finance, online, co, limited, webbased...</td>\n",
              "    </tr>\n",
              "  </tbody>\n",
              "</table>\n",
              "</div>"
            ],
            "text/plain": [
              "                                            headline  ...                                          text_lemm\n",
              "0  Manappuram Finance to consider fund raising op...  ...  [manappuram, finance, said, company, may, cons...\n",
              "1  PayU aims to provide full-stack financial serv...  ...  [finance, digital, lending, player, backed, pr...\n",
              "2  L&T Finance in talks with HSBC to sell its mut...  ...  [lt, finance, holding, active, talk, financial...\n",
              "3  Tally Solutions seeks small finance banking li...  ...  [financial, technology, company, tally, soluti...\n",
              "4  China Finance Online announces changes to the ...  ...  [china, finance, online, co, limited, webbased...\n",
              "\n",
              "[5 rows x 14 columns]"
            ]
          },
          "metadata": {},
          "execution_count": 24
        }
      ]
    },
    {
      "cell_type": "code",
      "metadata": {
        "colab": {
          "base_uri": "https://localhost:8080/"
        },
        "id": "2ShxNzW4hf1L",
        "outputId": "197640c4-c480-4127-97cd-5c57caae5ba3"
      },
      "source": [
        "print(df.text_lemm[0])"
      ],
      "execution_count": 25,
      "outputs": [
        {
          "output_type": "stream",
          "name": "stdout",
          "text": [
            "['manappuram', 'finance', 'said', 'company', 'may', 'consider', 'approve', 'issuance', 'debt', 'security', 'september', '2021', 'company', 'considering', 'various', 'option', 'raising', 'fund', 'borrowing', 'including', 'way', 'issuance', 'various', 'debt', 'security', 'onshore', 'offshore', 'security', 'market', 'public', 'issue', 'private', 'placement', 'basis', 'issuing', 'commercial', 'paper', 'based', 'prevailing', 'market', 'condition', 'board', 'director', 'financial', 'resource', 'management', 'committee', 'debenture', 'committee', 'board', 'director', 'company', 'may', 'consider', 'approve', 'issuance', 'debt', 'security', 'month', 'september', '2021', 'subject', 'term', 'condition', 'including', 'issue', 'price', 'debt', 'security', 'board', 'respective', 'committee', 'may', 'deem', 'fit', 'share', 'manappuram', 'finance', 'fell', '074', 'settle', 'r', '16025', 'friday', '27', 'august', '2021', 'manappuram', 'finance', 'gold', 'loan', 'offering', 'nonbanking', 'financial', 'company', 'engaged', 'providing', 'finance', 'used', 'household', 'gold', 'ornament', 'powered', 'capital', 'market', 'live', 'news', 'story', 'edited', 'business', 'standard', 'staff', 'autogenerated', 'syndicated', 'feed']\n"
          ]
        }
      ]
    },
    {
      "cell_type": "code",
      "metadata": {
        "colab": {
          "base_uri": "https://localhost:8080/"
        },
        "id": "jrPaTk7mhtqH",
        "outputId": "06e55071-8c7c-405d-9fa5-92463827cea1"
      },
      "source": [
        "get_size('text_lemm')\n",
        "get_terms('text_lemm')"
      ],
      "execution_count": 26,
      "outputs": [
        {
          "output_type": "stream",
          "name": "stdout",
          "text": [
            "The size of the corpus = 214699 characters\n",
            "The number of terms = 8493\n"
          ]
        }
      ]
    },
    {
      "cell_type": "code",
      "metadata": {
        "colab": {
          "base_uri": "https://localhost:8080/"
        },
        "id": "upqvP_zewgFe",
        "outputId": "33f2f0b3-5d3e-437d-a210-39b030fe2d96"
      },
      "source": [
        "print('Initially - ')\n",
        "get_terms('text_token')\n",
        "get_size('text')\n",
        "print()\n",
        "print('After removing punctuations - ')\n",
        "get_terms('clean_text_token')\n",
        "get_size('clean_text')\n",
        "print()\n",
        "print('After case folding - ')\n",
        "get_terms('lc_text_token')\n",
        "get_size('lc_text')\n",
        "print()\n",
        "print('After tokenization - ')\n",
        "get_terms('lc_text_token')\n",
        "get_size('lc_text_token')\n",
        "print()\n",
        "print('After stopwords removal - ')\n",
        "get_terms('no_sw_text')\n",
        "get_size('no_sw_text')\n",
        "print()\n",
        "print('After stemming - ')\n",
        "get_terms('text_stem')\n",
        "get_size('text_stem')\n",
        "print()\n",
        "print('After lemmatization - ')\n",
        "get_terms('text_lemm')\n",
        "get_size('text_lemm')\n",
        "print()"
      ],
      "execution_count": 27,
      "outputs": [
        {
          "output_type": "stream",
          "name": "stdout",
          "text": [
            "Initially - \n",
            "The number of terms = 10238\n",
            "The size of the corpus = 347516 characters\n",
            "\n",
            "After removing punctuations - \n",
            "The number of terms = 10530\n",
            "The size of the corpus = 336211 characters\n",
            "\n",
            "After case folding - \n",
            "The number of terms = 9431\n",
            "The size of the corpus = 336211 characters\n",
            "\n",
            "After tokenization - \n",
            "The number of terms = 9431\n",
            "The size of the corpus = 277687 characters\n",
            "\n",
            "After stopwords removal - \n",
            "The number of terms = 9296\n",
            "The size of the corpus = 219075 characters\n",
            "\n",
            "After stemming - \n",
            "The number of terms = 7097\n",
            "The size of the corpus = 189381 characters\n",
            "\n",
            "After lemmatization - \n",
            "The number of terms = 8493\n",
            "The size of the corpus = 214699 characters\n",
            "\n"
          ]
        }
      ]
    },
    {
      "cell_type": "markdown",
      "metadata": {
        "id": "xfJKC6oU4Tfx"
      },
      "source": [
        "# Inverse Index construction"
      ]
    },
    {
      "cell_type": "markdown",
      "metadata": {
        "id": "z20ghVfN5Xwl"
      },
      "source": [
        "## List"
      ]
    },
    {
      "cell_type": "code",
      "metadata": {
        "id": "88QBskki5cCv"
      },
      "source": [
        "class Inv_index_list:\n",
        "    def __init__(self, field):\n",
        "        self.field = field\n",
        "        self.index = []\n",
        "        self.docs = []\n",
        "        self.construct_index()\n",
        "\n",
        "    def construct_index(self):\n",
        "        for i, doc in enumerate(df[self.field]):\n",
        "            for term in doc:\n",
        "                if term not in self.index:\n",
        "                    self.index.append(term)\n",
        "                    self.docs.append([])\n",
        "                self.docs[self.index.index(term)].append(i) \n",
        "                    \n",
        "    def get(self, q):\n",
        "        if q not in self.index:\n",
        "            return []\n",
        "        return self.docs[self.index.index(q)]\n",
        "    \n",
        "    def delete(self, q):\n",
        "        if q in self.index:\n",
        "            del self.docs[self.index.index(q)]\n",
        "            self.index.remove(q)"
      ],
      "execution_count": 28,
      "outputs": []
    },
    {
      "cell_type": "markdown",
      "metadata": {
        "id": "DwUIUYLV5GoW"
      },
      "source": [
        "## Hashmap"
      ]
    },
    {
      "cell_type": "code",
      "metadata": {
        "id": "Hs8wEFPZxIEf"
      },
      "source": [
        "class Inv_index_dict:\n",
        "    def __init__(self, field):\n",
        "        self.field = field\n",
        "        self.index = {}\n",
        "        self.construct_index()\n",
        "\n",
        "    def construct_index(self):\n",
        "        for i, doc in enumerate(df[self.field]):\n",
        "            for term in doc:\n",
        "                if term not in self.index:\n",
        "                    self.index[term] = [i]\n",
        "                elif self.index[term][-1] != i:\n",
        "                    self.index[term].append(i)\n",
        "                    \n",
        "    def get(self, q):\n",
        "        return self.index.get(q, [])\n",
        "\n",
        "    def delete(self, q):\n",
        "        if q in self.index:\n",
        "            del self.index[q]"
      ],
      "execution_count": 29,
      "outputs": []
    },
    {
      "cell_type": "markdown",
      "metadata": {
        "id": "HewhGcoUs-_j"
      },
      "source": [
        "## Trees"
      ]
    },
    {
      "cell_type": "code",
      "metadata": {
        "id": "QSufNJoZ56lb"
      },
      "source": [
        "from sortedcontainers import SortedDict\n",
        "class Inv_index_tree:\n",
        "    def __init__(self, field):\n",
        "        self.field = field\n",
        "        self.index = SortedDict()\n",
        "        self.construct_index()\n",
        "\n",
        "    def construct_index(self):\n",
        "        for i, doc in enumerate(df[self.field]):\n",
        "            for term in doc:\n",
        "                if term not in self.index:\n",
        "                    self.index[term] = [i]\n",
        "                elif self.index[term][-1] != i:\n",
        "                    self.index[term].append(i)\n",
        "                    \n",
        "    def get(self, q):\n",
        "        return self.index.get(q, [])\n",
        "\n",
        "    def delete(self, q):\n",
        "        if q in self.index:\n",
        "            del self.index[q]"
      ],
      "execution_count": 30,
      "outputs": []
    },
    {
      "cell_type": "code",
      "metadata": {
        "id": "zzcEb6w-qqF3"
      },
      "source": [
        "import time\n",
        "\n",
        "def timer(inv_index, field):\n",
        "    st = time.time()\n",
        "    inv = inv_index(field)\n",
        "    print(f\"Time taken for insertion : {time.time() - st}\")\n",
        "    st = time.time()\n",
        "    for doc in df[field]:\n",
        "        for term in doc:\n",
        "            inv.get(term)\n",
        "    print(f\"Time taken for retrieval : {time.time() - st}\")\n",
        "    st = time.time()\n",
        "    for doc in df[field]:\n",
        "        for term in doc:\n",
        "            inv.delete(term)\n",
        "    print(f\"Time taken for deletion : {time.time() - st}\")"
      ],
      "execution_count": 31,
      "outputs": []
    },
    {
      "cell_type": "code",
      "metadata": {
        "colab": {
          "base_uri": "https://localhost:8080/"
        },
        "id": "hXH2_RbisSWi",
        "outputId": "9a80d3f2-1394-463b-d470-3069854bb8a2"
      },
      "source": [
        "print(\"LIST\")\n",
        "timer(Inv_index_list, 'text_stem')"
      ],
      "execution_count": 32,
      "outputs": [
        {
          "output_type": "stream",
          "name": "stdout",
          "text": [
            "LIST\n",
            "Time taken for insertion : 2.7705938816070557\n",
            "Time taken for retrieval : 2.7776401042938232\n",
            "Time taken for deletion : 1.2964794635772705\n"
          ]
        }
      ]
    },
    {
      "cell_type": "code",
      "metadata": {
        "colab": {
          "base_uri": "https://localhost:8080/"
        },
        "id": "4Fl91aBqspWa",
        "outputId": "cb12889a-2a7b-4b1c-cb9c-65b8e3bc359e"
      },
      "source": [
        "print(\"HASHMAP\")\n",
        "timer(Inv_index_dict, 'text_stem')"
      ],
      "execution_count": 33,
      "outputs": [
        {
          "output_type": "stream",
          "name": "stdout",
          "text": [
            "HASHMAP\n",
            "Time taken for insertion : 0.012700319290161133\n",
            "Time taken for retrieval : 0.009690284729003906\n",
            "Time taken for deletion : 0.00861358642578125\n"
          ]
        }
      ]
    },
    {
      "cell_type": "code",
      "metadata": {
        "colab": {
          "base_uri": "https://localhost:8080/"
        },
        "id": "VRYp2Dt66S6C",
        "outputId": "fb2054f6-fec5-402e-b0c4-393f9273856b"
      },
      "source": [
        "print(\"BST\")\n",
        "timer(Inv_index_tree, 'text_stem')"
      ],
      "execution_count": 34,
      "outputs": [
        {
          "output_type": "stream",
          "name": "stdout",
          "text": [
            "BST\n",
            "Time taken for insertion : 0.05147671699523926\n",
            "Time taken for retrieval : 0.011879444122314453\n",
            "Time taken for deletion : 0.0466768741607666\n"
          ]
        }
      ]
    },
    {
      "cell_type": "markdown",
      "metadata": {
        "id": "SPEoWIGz5OnF"
      },
      "source": [
        "# Retrieval"
      ]
    },
    {
      "cell_type": "code",
      "metadata": {
        "id": "BEURocyKkow-"
      },
      "source": [
        "def get_docs(index, query):\n",
        "    print(query)\n",
        "    if 'NOT' in query:\n",
        "        docs = index.get(query.split(' ')[1])\n",
        "        ans = []\n",
        "        for i in range(100):\n",
        "            if i not in docs:\n",
        "                ans.append(i)\n",
        "        return set(ans)\n",
        "    return set(index.get(query))\n",
        "\n",
        "def retrieve(index, query):\n",
        "    docs = set([])\n",
        "    op = ''\n",
        "    for i,q in enumerate(query):\n",
        "        if q in ['AND', 'OR']:\n",
        "            op = q \n",
        "            continue\n",
        "        if op == '':\n",
        "            docs = get_docs(index, q)\n",
        "        elif op == 'AND':\n",
        "            docs = docs.intersection(get_docs(index, q))\n",
        "        elif op == 'OR':\n",
        "            docs = docs.union(get_docs(index, q))\n",
        "    print(len(docs))\n",
        "    return df.iloc[list(docs)]\n",
        "\n",
        "def parse_query(query, process):\n",
        "    ans = []\n",
        "    nt = False\n",
        "    for q in query.split(' '):\n",
        "        if q in ['AND' ,'OR']:\n",
        "            ans.append(q)\n",
        "            continue\n",
        "        if q == 'NOT':\n",
        "            nt = True\n",
        "            continue\n",
        "        if nt:\n",
        "            ans.append('NOT ' + process(q))\n",
        "        else:\n",
        "            ans.append(process(q))\n",
        "        nt = False\n",
        "    return ans\n",
        "\n",
        "def search(index, query, process):\n",
        "    return retrieve(index, parse_query(query, process))\n",
        "\n",
        "def disp_results(docs):\n",
        "    ans = []\n",
        "    for ind in docs.index:\n",
        "        display(docs['headline'][ind])\n",
        "        display(docs['clean_text'][ind])\n",
        "        print()"
      ],
      "execution_count": 35,
      "outputs": []
    },
    {
      "cell_type": "code",
      "metadata": {
        "id": "Z2GnZQZjj-QE"
      },
      "source": [
        "stem_index = Inv_index_dict('text_stem')\n",
        "def search_dict(query):\n",
        "    return search(stem_index, query, lambda x : stemming([x], porter_stemmer)[0])"
      ],
      "execution_count": 36,
      "outputs": []
    },
    {
      "cell_type": "markdown",
      "metadata": {
        "id": "DK4sAmAzKpo_"
      },
      "source": [
        "## Query 1"
      ]
    },
    {
      "cell_type": "code",
      "metadata": {
        "colab": {
          "base_uri": "https://localhost:8080/",
          "height": 228
        },
        "id": "yb7Tk-xYWuqW",
        "outputId": "e6e8ad17-7df8-4141-eabc-3fe1c4880b06"
      },
      "source": [
        "results = search_dict('cricket AND stuart AND binny')\n",
        "disp_results(results)"
      ],
      "execution_count": 37,
      "outputs": [
        {
          "output_type": "stream",
          "name": "stdout",
          "text": [
            "cricket\n",
            "stuart\n",
            "binni\n",
            "1\n"
          ]
        },
        {
          "output_type": "display_data",
          "data": {
            "application/vnd.google.colaboratory.intrinsic+json": {
              "type": "string"
            },
            "text/plain": [
              "'Stuart Binny announces retirement from first class and International cricket - The Indian Express'"
            ]
          },
          "metadata": {}
        },
        {
          "output_type": "display_data",
          "data": {
            "application/vnd.google.colaboratory.intrinsic+json": {
              "type": "string"
            },
            "text/plain": [
              "'Stuart Binny India allrounder who owns the record of the best bowling figures in ODI format announced his retirement from cricket – firstclass and international – on Monday  Stuart 37 began his career with his state Karnataka and represented India in six Tests 14 ODIs and three Twenty20 Internationals  “The game of cricket runs through my blood and I will always look to give back to the game that has given me everything” said Stuart whose father Roger Binny was a member of the 1983 World Cup winning team “I just felt it’s time for me to move on from a player to coaching…and I have a lot to give back to cricket in that department… also now since I am a level 2 coach with the NCA he added  “I would like to inform you that I have decided to retire from firstclass and international cricket It has given me tremendous joy and pride to have represented my country at the highest international level”  Stuart still holds the record of the Best ODI Bowling by an Indian His figures of 44246 came against Bangladesh in Dhaka in 2014 He had bettered the record of his compatriot and legspinner legend Anil Kumble whose sixwicket haul against the West Indies in 1993 but had conceded 12 runs  Stuart represented Karnataka in 95 firstclass matches and under Mahendra Singh Dhoni he debuted against England in July 2014 when he scored 78 in his second innings and that remained his only fifty in his six Tests A 31run over in a T20 game against the West Indies in Florida the US ended his international career where Evin Lewis hit him for five sixes and never recovered and was trolled by cricket fans rather nastily  He played 6 Tests 14 ODIs and 3 T20Is scoring a total of 459 runs and picking up 24 wickets  Stuart is best known as a player who punched above his weight and did his best even his famous father Roger relinquished his selection committee post due to conflict of interest  Stuart thanked the BCCI his various teams fellow players and coaches for the role played in his growth as a cricketer'"
            ]
          },
          "metadata": {}
        },
        {
          "output_type": "stream",
          "name": "stdout",
          "text": [
            "\n"
          ]
        }
      ]
    },
    {
      "cell_type": "code",
      "metadata": {
        "colab": {
          "base_uri": "https://localhost:8080/",
          "height": 228
        },
        "id": "TtKUbhMoXj34",
        "outputId": "5f223661-69fd-4385-9a5c-c745ee62c1c1"
      },
      "source": [
        "results = search_dict('juice AND good AND health')\n",
        "disp_results(results)"
      ],
      "execution_count": 38,
      "outputs": [
        {
          "output_type": "stream",
          "name": "stdout",
          "text": [
            "juic\n",
            "good\n",
            "health\n",
            "1\n"
          ]
        },
        {
          "output_type": "display_data",
          "data": {
            "application/vnd.google.colaboratory.intrinsic+json": {
              "type": "string"
            },
            "text/plain": [
              "'Want to improve your eyesight? Try these delicious and healthy dips - The Indian Express'"
            ]
          },
          "metadata": {}
        },
        {
          "output_type": "display_data",
          "data": {
            "application/vnd.google.colaboratory.intrinsic+json": {
              "type": "string"
            },
            "text/plain": [
              "'Caring for your eyes is of paramount importance Most people have been working from home since the pandemic began and long working hours in front of computer screens have impacted their eyesight  Nutritionist Nmami Agarwal says certain nutrients can help to boost your eyesight She writes in her blog about some healthy dip recipes that will help to enhance your eye health Read on  “Eyefriendly nutrients such as lutein and zeaxanthin vitamin C vitamin E and zinc help in reducing the risk of certain eye diseases including agerelated macular degeneration and cataracts” she writes  ALSO READ  Ophthalmologist advises on how to use contact lenses correctly  View this post on Instagram A post shared by Nmami Life nmamilife   Chimichurri sauce  This recipe is rich in parsley and is high in vitamin A C and K which prove to be beneficial for eye health says the nutritionist Add apple cider vinegar olive oil and garlic and blend these ingredients in a blender Then add parsley cilantro salt and pepper and blend for 810 seconds but stop before it is pureed Chimichurri sauce can be used as a spread or for garnishing Use it with grilled vegetables  Here’s what a homemade chimichurri sauce with parsley and oregano looks like Photo GettyThinkstock Here’s what a homemade chimichurri sauce with parsley and oregano looks like Photo GettyThinkstock   Healthy cheesy spinach dip  This lowfat dip has many benefits for your eyes In her blog Agarwal writes that spinach is rich in vitamin A and has a good amount of vitamin C and E lutein and zeaxanthin All of these antioxidants protect your eyes Red pepper complements the spinach in colour and nutrition and it is loaded with vitamin A and C too In a saucepan cook the Greek yogurt cream cheese and Italian shredded cheese over medium heat Add the sautéed mixture of pepper and onions add with lemon juice and garlic Keep stirring  ALSO READ  Eye care amid covid 19 All you need to know   Black bean dip  Black beans writes the nutritionist are rich in protein They are also great sources of vitamin C which is beneficial for eye health Vitamin C can decrease the chances of developing cataracts and help in fighting macular degeneration In a small pan cook onions pepper and garlic until very soft Add to the blender along with drained and rinsed beans Add remaining spices lime juice and chopped cilantro Blend until very smooth Serve hot or cold   Easy salsa dip  For this all you need to do is blend diced tomatoes green chillies yellow onion garlic lime juice cumin and cilantro and you’ll get an easy lowcalorie and fatfree dip Tomatoes are one of the main ingredients that make salsa such a healthsavvy choice it is rich in vitamin C  Salsa dip with fresh tomatoes onions garlic parsley and lemon juice Photo GettyThinkstock Salsa dip with fresh tomatoes onions garlic parsley and lemon juice Photo GettyThinkstock   Walnut dip  Walnuts are rich in vitamin E zinc and omega3 fatty acids These nutrients help decrease the risk of cataracts Combine walnuts paneer milk curd and salt and blend to make a smooth paste Add remaining walnuts to this mixture Serve chilled  Would you like to try these  📣 For more lifestyle news follow us on Instagram  Twitter  Facebook and don’t miss out on the latest updates'"
            ]
          },
          "metadata": {}
        },
        {
          "output_type": "stream",
          "name": "stdout",
          "text": [
            "\n"
          ]
        }
      ]
    },
    {
      "cell_type": "code",
      "metadata": {
        "colab": {
          "base_uri": "https://localhost:8080/",
          "height": 388
        },
        "id": "5zBIp-YxYMDx",
        "outputId": "58f45be8-8092-4d89-b34c-f74cad0340e5"
      },
      "source": [
        "results = search_dict('movie AND actor AND debut')\n",
        "disp_results(results)"
      ],
      "execution_count": 39,
      "outputs": [
        {
          "output_type": "stream",
          "name": "stdout",
          "text": [
            "movi\n",
            "actor\n",
            "debut\n",
            "2\n"
          ]
        },
        {
          "output_type": "display_data",
          "data": {
            "application/vnd.google.colaboratory.intrinsic+json": {
              "type": "string"
            },
            "text/plain": [
              "'Reuters Entertainment News Summary - Devdiscourse'"
            ]
          },
          "metadata": {}
        },
        {
          "output_type": "display_data",
          "data": {
            "application/vnd.google.colaboratory.intrinsic+json": {
              "type": "string"
            },
            "text/plain": [
              "'Following is a summary of current entertainment news briefs  Candyman Towers Over Box Office With Impressive 22 Million Debut  Candyman was summoned to the top of domestic box office charts collecting an impressive 2237 million from 3569 theaters in its first three days of release The Rrated slasher film written by Jordan Peele and directed by Captain Marvel 2 filmmaker Nia DaCosta surpassed industry expectations despite fears the delta variant would keep people from going to the movies Though multiplexes have struggled to sustain momentum as COVID19 cases continue to surge Hollywood has witnessed that new films available only in theaters such as Candyman and last weekends champ Free Guy have been seeing ticket sales hold steady compared to tentpoles being offered simultaneously on streaming services like The Suicide Squad and Hugh Jackmans Reminiscence   Actor Ed Asner star of Mary Tyler Moore Lou Grant dies at age 91  family  Ed Asner who played a gruff newsman for laughs and for drama in the classic TV series The Mary Tyler Moore Show and its spinoff Lou Grant in the 1970s and 1980s and was honored with seven Emmy Awards died on Sunday at age 91 his family said Asner whose diverse credits also included a key voice role in the acclaimed 2009 animated film Up died at his home surrounded by his family his publicist told media outlets  Jon Stewart returns to TV in September with deep dive show  Six years after he quit his satirical The Daily Show Jon Stewart is returning to television next month with a new venture looking at current affairs in depth Apple said on Monday that The Problem With Jon Stewart will launch on its Apple TV streaming platform on Sept 30 and sees Stewart taking a deep dive on a single issue of national importance  Universal Studios Beijing to open on Sept 20  state tv  Universal Studios Beijing resort will officially open on Sept 20 Chinas state broadcaster CCTV said on Monday citing the theme park The park a joint venture between Comcast Corps Universal Parks  Resorts and stateowned Beijing Shouhuan Cultural Tourism Investment will begin trial operations on Sept 1 CCTV said  This story has not been edited by Devdiscourse staff and is autogenerated from a syndicated feed'"
            ]
          },
          "metadata": {}
        },
        {
          "output_type": "stream",
          "name": "stdout",
          "text": [
            "\n"
          ]
        },
        {
          "output_type": "display_data",
          "data": {
            "application/vnd.google.colaboratory.intrinsic+json": {
              "type": "string"
            },
            "text/plain": [
              "\"Entertainment News Roundup: Actor Ed Asner, star of 'Mary Tyler Moore,' 'Lou Grant' dies at age 91; 'Candyman' Towers Over Box Office With Impressive $22 Million Debut and more - Devdiscourse\""
            ]
          },
          "metadata": {}
        },
        {
          "output_type": "display_data",
          "data": {
            "application/vnd.google.colaboratory.intrinsic+json": {
              "type": "string"
            },
            "text/plain": [
              "'Following is a summary of current entertainment news briefs  Candyman Towers Over Box Office With Impressive 22 Million Debut  Candyman was summoned to the top of domestic box office charts collecting an impressive 2237 million from 3569 theaters in its first three days of release The Rrated slasher film written by Jordan Peele and directed by Captain Marvel 2 filmmaker Nia DaCosta surpassed industry expectations despite fears the delta variant would keep people from going to the movies Though multiplexes have struggled to sustain momentum as COVID19 cases continue to surge Hollywood has witnessed that new films available only in theaters such as Candyman and last weekends champ Free Guy have been seeing ticket sales hold steady compared to tentpoles being offered simultaneously on streaming services like The Suicide Squad and Hugh Jackmans Reminiscence   China cracks down on chaotic celebrity fan culture after scandals  China cracked down on what it described as a chaotic celebrity fan culture on Friday barring platforms from publishing popularity lists and regulating the sale of fan merchandise after a series of controversies involving artists The countrys top internet watchdog said it would take action against the dissemination of harmful information in celebrity fan groups and close down discussion channels that spread celebrity scandals or provoke trouble  Actor Ed Asner star of Mary Tyler Moore Lou Grant dies at age 91  family  Ed Asner who played a gruff newsman for laughs and for drama in the classic TV series The Mary Tyler Moore Show and its spinoff Lou Grant in the 1970s and 1980s and was honored with seven Emmy Awards died on Sunday at age 91 his family said Asner whose diverse credits also included a key voice role in the acclaimed 2009 animated film Up died at his home surrounded by his family his publicist told media outlets  With inputs from agencies'"
            ]
          },
          "metadata": {}
        },
        {
          "output_type": "stream",
          "name": "stdout",
          "text": [
            "\n"
          ]
        }
      ]
    },
    {
      "cell_type": "markdown",
      "metadata": {
        "id": "XpjlBCwfKyx7"
      },
      "source": [
        "## Query 2"
      ]
    },
    {
      "cell_type": "code",
      "metadata": {
        "colab": {
          "base_uri": "https://localhost:8080/",
          "height": 1000
        },
        "id": "kSxH2kcYbd7P",
        "outputId": "967a1cb3-a196-4ca7-bbab-ace2f7ba939b"
      },
      "source": [
        "results = search_dict('MP OR politics AND NOT money')\n",
        "disp_results(results)"
      ],
      "execution_count": 40,
      "outputs": [
        {
          "output_type": "stream",
          "name": "stdout",
          "text": [
            "MP\n",
            "polit\n",
            "NOT money\n",
            "15\n"
          ]
        },
        {
          "output_type": "display_data",
          "data": {
            "application/vnd.google.colaboratory.intrinsic+json": {
              "type": "string"
            },
            "text/plain": [
              "'Sports events mark birth anniversary of Dhyanchand - Times of India'"
            ]
          },
          "metadata": {}
        },
        {
          "output_type": "display_data",
          "data": {
            "application/vnd.google.colaboratory.intrinsic+json": {
              "type": "string"
            },
            "text/plain": [
              "'Jhansi A number of sport events marked the 116th birth anniversary of legendary hockey player Padam Bhushan Major Dhyanchand in his home town Jhansi on Sunday the day which is also celebrated as National Sports DayIn addition a ‘Khel Prerak Samman’ award was declared by veteran Olympian and son of Dhyanchand Ashok Dhyanchand to be given from this year on this day for promoting sports A friendship match was held between Jhansi eleven and army eleven at Major Dhyanchand Astro Turf Hockey Stadium which was won by the former team The match was inaugurated by sports minister Upendra Tiwari in the presence of union state minister Bhanu Prasad Verma Jhansi Lalitpur MP Anurag Sharma and General Vipul Singhal GOC White Tiger Division Army while UP Chief Secretary Rajendra Kumar Tiwari was present virtually in the eventAll the invited veteran Olympians were felicitated on this occasion Army band gave also give grand performance by playing various tunes On this occasion Jhansi MP Anurag Sharma announced to pay Rs two lakh each year to Shaili Singh who recently won silver medal in the International U20 atheletic championship in Nairobi from Baidhynath foundation till she is playing for IndiaOn the other hand around three dozen veteran Olympians national and international players participated in an event held at the legendary Heroes ground where once Dadda as Dhyanchand was lovingly known practiced regularly The programme was hosted by ‘Hockey Jadugar Padam Bhushan Dhyanchand’ society formed by his son Ashok Dhyanchand who himself is a veteran OlympianA friendly match was played between two girls’ team Dhyanchand eleven and Roop Singh Eleven which was won by the former team by 10 This followed by an exhibition match between the Olympian Eleven and women eleven which was won by the Olympians by 40 On this occasion the society announced the ‘Khel Prerak Samman’ award to be given each year on this day As per the secretary of the club Ashok Sein the awardee will be decided by a seven member committee This year it will be given to President Reliance Foundation Neeta Ambani and President Sports A Way of Life Kanishka Pandey for promoting the sportsThe year also happens to be the centenary year of Heroes Club which was patronised by Dhyanchand himself Started in 1921 by a local hockey enthusiast HN Banerjee the club has produced number of national and international players who have been part of the club and have been practicing in the same ground including Dhyanchand himself and his brother Roop Singh The ground also hosts the cemetery of Dhyanchand The ground has recently got a facelift by JDAThe Olympians were also felicitated by the DRM NCR Ashutosh in a separate programme held at Railway instituteDuring the event at Heroes ground in an unanimous voice all the veteran players along with local leaders of various political parties including former union minister from Congress Pradeep Jain Aditya and former Rajya Sabha MP from SP Chandrapal Yadav advocated for confirming Bharat Ratan award to Dhyanchand'"
            ]
          },
          "metadata": {}
        },
        {
          "output_type": "stream",
          "name": "stdout",
          "text": [
            "\n"
          ]
        },
        {
          "output_type": "display_data",
          "data": {
            "application/vnd.google.colaboratory.intrinsic+json": {
              "type": "string"
            },
            "text/plain": [
              "'Yati Narsinghanand Saraswati’s video where he calls women in politics as ‘rakhail’ of politicians goes viral, netizens demand action - OpIndia'"
            ]
          },
          "metadata": {}
        },
        {
          "output_type": "display_data",
          "data": {
            "application/vnd.google.colaboratory.intrinsic+json": {
              "type": "string"
            },
            "text/plain": [
              "'On August 29 a video of Dasna priest Yati Narsinghanand Saraswati went viral on social media platforms in which he was heard using derogatory language against women in politics especially against those who are in BJP Several netizens strongly criticised him and demanded strict action  In the undated video Narsinghanand alleged that women in politics raise only after compromising with male leaders who are influential in the parties He said “The women you see in politics is or had been rakhail mistress of at least one male politician If she is not a mistress she is relative of an influential leader” He further said that during Samajwadi Party’s tenure the same situation continued However during Mayawati’s tenure it was not possible for male leaders to promote their mistresses he alleged  This is shocking I am really REALLY sorry I made an error of judgement in supporting this man pictwittercom9wwNOsnp6I — Shefali Vaidya 🇮🇳 ShefVaidya August 28 2021  He added “Then came the government of ‘honest politicians’ Now the women you see in BJP… if she compromises with one politician the other politician will not do their work unless she compromises with him as well If she wants to get some work done from a third politician she has to compromise there as well This is politics The country has reached to this point The women roaming in political arenas everyone is enjoying”  Netizens demand action  After the video went viral leaders and netizens demanded strict action against Yati Narsinghanand Saraswati for using derogatory language against women Several netizens tagged UP Police Union Minister Smriti Irani and National Commission for Women to take immediate action against the Dasna priest  BJP Delhi spokespersonTajinder Bagga said “I request Rekha Sharma ji UP Police to take action against this Fraud Narshianand”  I request sharmarekha ji Uppolice to take action against this Fraud Narshianand pictwittercomBD7sWT6S3j — Tajinder Pal Singh Bagga TajinderBagga August 28 2021  BJP leader Kapil Mishra said “Yati Narasimhanand’s thinking towards women cannot be that of a saffronclad He is a sick frustrated man with jihadi thinking This man should be arrested by Women’s Commission and UP Police This man is not fit to sit in Jagadamba’s temple”  Author and columnist Shefali Vaidya said “I am feeling terrible not just because I misjudged this Yati Narsimhanand but because he can say such things about women while wearing saffron robes This is an insult to my faith Haven’t felt this disillusioned in a long time”  I am feeling terrible not just because I misjudged this Yati Narsimhanand but because he can say such things about women while wearing saffron robes This is an insult to my faith Haven’t felt this disillusioned in a long time — Shefali Vaidya 🇮🇳 ShefVaidya August 28 2021  Yati Narsinghanand Saraswati is the head priest of Dasna Devi temple in Ghaziabad and has alleged assassination attempts on his life by Islamists over his allegedly blasphemous remarks over Prophet Muhammad'"
            ]
          },
          "metadata": {}
        },
        {
          "output_type": "stream",
          "name": "stdout",
          "text": [
            "\n"
          ]
        },
        {
          "output_type": "display_data",
          "data": {
            "application/vnd.google.colaboratory.intrinsic+json": {
              "type": "string"
            },
            "text/plain": [
              "'Has the first-past-the-post system polarised Indian politics? - The Hindu'"
            ]
          },
          "metadata": {}
        },
        {
          "output_type": "display_data",
          "data": {
            "application/vnd.google.colaboratory.intrinsic+json": {
              "type": "string"
            },
            "text/plain": [
              "'Politicising social divides and failings of the parliamentary system have led to this situation  India’s parliamentary democracy is going through a phase of intense confrontation between the dominant ruling party and a weakened but belligerent Opposition Is this situation a consequence of the firstpastthepost FPTP system where a party with the the highest votes gets the seat even if it doesnt win a majority Suhas Palshikar and E Sridharan address this question in a discussion moderated by Srinivasan Ramani Edited excerpts  Prof Palshikar you had written recently about the emergence of a second dominant party system with the Bharatiya Janata Party BJP becoming the central pole of Indian politics ever since it came to power at the Centre in 2014 Even if the BJP has now lost ground with its vote share reducing in various State elections it did retain its highest average cumulative vote share for election cycles That said what similarities and dissimilarities do you see with the hegemonic period of the Congress of the 1950s and ’60s  Suhas Palshikar The similarity is in the vote share numbers garnered by the dominant party and in its capacity to fragment the Opposition In terms of numbers a dominant party gets a disproportionately larger share in seats in legislatures compared to its vote share The other similarity is in its ability to remain dominant by fragmenting the Opposition and so we see the recent discussions on Opposition unity  The dissimilarities are evident in the roots of the dominance and the journeys towards it The Congress emerged as a dominant party as a result of its contribution to the freedom struggle the roles that Gandhi Jawaharlal Nehru and others played then It converted that legitimacy into electoral dominance The BJP emerged in 2014 as electorally dominant and has since been trying to establish its hegemony That is why I have argued that its hegemony is still in the making while it has become dominant electorally  Dr Sridharan the hegemony enjoyed by the Congress in the 1950s and ’60s gave way to trends in Indian politics such as federalisation and regionalisation So even if we had the FPTP system there was a certain degree of diversification that allowed for newer forces to emerge organically Since 2019 the fact that the BJP has garnered a disproportionate seat share relative to its vote share has revived the critique of the FPTP Your view  E Sridharan The BJP’s dominance in both 2014 and 2019 was based on a plurality of votes 31 and 37 converting into a majority of seats and is similar to the Congress’s dominance from 1952 to 1984 which was also based on vote share pluralities converting to seat majorities sometimes twothirds to threefourths majority The FPTP system tends to magnify the seat share of the party with the largest vote share while parties receiving a lower vote share tend to get a much lower seat share There are exceptions such as the Karnataka Assembly elections of 2008 and the Madhya Pradesh elections of 2018 where the party which got a slightly higher vote share got a lower seat share  The BJP is today not as hegemonic as the Congress of the past Fortytwo of the 303 seats that it won in 2019 were in three States — Maharashtra Punjab and Bihar — and were at least partially due to vote transfer from allies seat shares have not reached twothirds majority and the party’s spread across States is less than the Congress’s in its heyday  Also read  What is Proportional Representation  As for the FPTP system I would like to introduce Duverger’s law to your readers Maurice Duverger a French political scientist argued that the FPTP system tends to bring about a twoparty system at the constituency level In countries like India this translated into the establishment of a twoparty system at the State level which happened between 1967 and 1989 Post1990 this produced three kinds of bipolarity Congress versus BJP in a number of States Congress versus the Left in three States and Congress versus regional parties in other States This was an outcome of Duverger’s law operating at the State level  At the national level 2014 marked the end of a 25year period of a coalitionminority government And post2014 there was the emergence of a second dominant party system I don’t think that FPTP necessarily produces polarisation If you look at the proportional representation PR system in Europe and elsewhere where seats are allocated roughly in accordance with the vote share that also produces distinct polarisations Look at the 1978 Sri Lankan Constitution which instituted the PR system Since then there has been ethnic polarisation despite the small parties getting seat shares higher than what they would have received in a FPTP system Similarly in Israel which also enjoys a thoroughgoing PR system there is severe polarisation in ethnic religious and political terms  Also Read Conference on democracy stresses on political reforms  The FPTP system can’t be blamed for polarisation Polarisation is linked to the politicisation of certain social cleavages These cleavages are sometimes dormant in society and can become active or can be activated through mobilisations When certain social cleavages are activated that is when they get magnified by the electoral system  Prof Palshikar today there is little dialogue between the ruling party and the Opposition What explains this stasis  Suhas Palshikar I agree with Dr Sridharan that it is not FPTP that is creating polarisation One of the general reasons for the adversarial relations between the ruling party and the Opposition is the failure in institutionalising the parliamentary system which presupposes a certain negotiation a spirit of give and take and continuous deliberation between the ruling party and the Opposition  We have failed in generating an institutional pattern for this tendency I would locate the beginning of this as the time around the Emergency period when the spirit of dialogue dissipated Since then the dialogue process has been up and down If you come to the current moment I think it is the distrust between the ruling party and the Opposition that has produced this stasis The problem is not about the institutional mechanisms that we adopt it is in the processes that we implement those mechanisms Those processrelated issues can be located in social and other cleavages and how they play out in competitive politics It is the extreme competitive nature of our polity and the frustrations that come with the presence of a dominant party in the system besides the arrogance that stems from electoral dominance that leads to an inability to engage with the Opposition  Also Read Single party dominance democracy imperilled  E Sridharan The confrontational situation in Parliament and other legislatures has heightened in the last couple of years This is due to the sharpening of the ideological level in politics which reflects the cleavages in the society and to the suspicion that the fundamentals of the system are being sought to be changed  The ruling BJP is not a similar hegemonic force as the Congress in the sense that it had in its manifesto issues such as the Citizenship Amendment Bill and the abrogation of the special status of Jammu and Kashmir In a way the BJP has an agenda that is beyond the constitutional consensus that guides the policies of most political parties in India Is this a reason for the current state of affairs too  Suhas Palshikar Just to supplement what Prof Sridharan said we witness today a new phase that is marked by a confrontation that is not merely one of political contestation in the ordinary sense of the term Here is a party that wants to change the entire system fundamentally and other parties are still not sure how to respond to that They instinctively oppose it but at the same time they understand that the difference is in the approach of the dominant party that they have to adaptadjust to that stance so that they garner enough votes in the next election This confusion among the nonBJP parties produces not just distrust but lack of clarity on what ideological positions they must take during the ideological onslaught or the offensive of the BJP The BJP has now changed the terms of how the political contestation will be held ideologically and the inability of the nonBJP parties to appreciate and respond to this and to produce an alternative narrative has led to a frustration that is reflected in their various responses to the BJP  E Sridharan There is a perception that the ruling party is pushing against the constitutional consensus which is fairly strong in our system There are about three and a half layers of protection to the basic structure of our Constitution The government needs a twothirds majority in both Houses subject to the presence of at least 50 of the House in attendance The government has a clear but not a twothirds majority in the Lok Sabha It doesn’t have a majority in the Rajya Sabha In order to make constitutional amendments it must get the support of smaller parties which it has been able to get so far  Then it has to go through judicial review — the courts have so far not pronounced on some of the controversial issues that have come up in the last few years  Finally for some articles on CentreState relations it has to pass them through half the State Assemblies  There are ideological shifts going on and new social cleavages that have been activated that have changed the political landscape  Can it be said that federal issues are emerging as the area of contestation with the BJP on the one side and regional parties on the other  Suhas Palshikar In principle the flashpoint in the next five years or so could be the federal relations between the Centre and the States on fiscal or other administrative and political matters The various State parties are still not sufficiently aware of this possibility and therefore they are busy buying peace with the ruling party at the Centre rather than confronting it I don’t see any direct flashpoint emerging politically between the State parties and the BJP immediately though  Also Read BJP seems to have pervaded every nook and corner Ashwani Kumar  Also the ability of the BJP or any Central government in the last three decades to directly transfer resources to local bodies in the States bypassing the State government besides controlling the administrations of the States has weakened the State parties’ ability to take on the Central government Objectively they are not in a position to do so and subjectively they are not sure how to pitch the fight Therefore we have a fascinating period where there is all the making of a federal flashpoint but at the same time the actual flashpoints may be somewhere else in reality  Do you see a mixture of postures — negotiation confrontation and adjustment by various regional parties visàvis the Centre The Biju Janata Dal BJD YSR Congress Party YSRCP Telangana Rashtra Samithi TRS using one ploy the Dravida Munnetra Kazhagam DMK and the Trinamool Congress TMC using another and so on  Suhas Palshikar I would use the word ‘acquiescence’ to describe how the BJD YSRCP and the TRS’s relations are with the Centre  To bring the discussion back to the electoral system is a FPTP system with a preference rule system to go along with it a better form of voting than the FPTP system  E Sridharan The Australian electoral system is fairly similar to what you talk about where the first choice party with the plurality vote share will receive secondthird choices of the voter in a process of elimination from the bottom till it reaches the 50 threshold to be declared the winner I think such an alternative system should be assessed in terms of the ease of its use for the voters It would not be easy to operate in India Second as regards the provision that a party must get 50 of the votes through preference voting this would actually make it easier for the leading candidate to bridge the gap between say 40 to 50 as compared to someone else who gets 25 and could possibly contribute to the same kind of magnified majoritarianism that FPTP does in its own institutional way So it may not be that different  Suhas Palshikar To put an extra burden on the voter in the act of voting is unfair and that is why this is not to my liking Second the 50 mark as Prof Sridharan pointed out is artificially achieved  We need to go back to the drawing board on what is the real issue with FPTP which is the disproportionate number of seats accrued by a party despite a lower vote share However if the political system is adequately competitive that aspect of the FPTP system gets politically neutralised and parties tend to get a share of seats which is roughly commensurate to their vote share also  The other issue with the FPTP is that the threshold is so high that newer parties cannot enter the fray Therefore I suggest that rather than the alternative you are talking about one can talk about a system that will supplement FPTP — let’s say have 10 of the seats in the legislature which are included based on the parties’ vote shares This will ensure an entry point for smaller newer parties and keep the political system more competitive  The larger point is if we artificially try to make the political system fairer the natural competitiveness gets distorted and that is why I would generally prefer FPTP both on the grounds of voters’ convenience and a natural competitiveness being allowed in the system  E Sridharan I think there is sufficient diversity at the societal level There is the theory that in a socially diverse country the party system will be diverse — it will not be limited to a twoparty system India seems to support the effective production of multiple parties at the national level even if the FPTP system limits the competition to a bipolar system in the States because these are a multiplicity of bipolarities for example BJPCongress BJPregional party etc and not the same bipolarity  E Sridharan is Academic Director and Chief Executive at the University of Pennsylvania Institute for the Advanced Study of India and EditorinChief of India Review Suhas Palshikar taught political science at Savitribai Phule Pune University Pune and is chief editor of Studies in Indian Politics'"
            ]
          },
          "metadata": {}
        },
        {
          "output_type": "stream",
          "name": "stdout",
          "text": [
            "\n"
          ]
        },
        {
          "output_type": "display_data",
          "data": {
            "application/vnd.google.colaboratory.intrinsic+json": {
              "type": "string"
            },
            "text/plain": [
              "'Era of group politics in Congress is over, says K Muraleedharan - Mathrubhumi English'"
            ]
          },
          "metadata": {}
        },
        {
          "output_type": "display_data",
          "data": {
            "application/vnd.google.colaboratory.intrinsic+json": {
              "type": "string"
            },
            "text/plain": [
              "'Thiruvananthapuram Congress MP K Muraleedharan said here on Monday that the era of group politics in Congress has ended He added that present discord can be resolved and the party will steer ahead  Meanwhile reacting to K Sudhakaran’s gesture at the press meet Muraleedharan said that there is nothing wrong in showing the diary He downplayed the act by saying that the gesture is part of Sudhakaran’s mannerism Sudhakaran raised the diary to denote his objection over the remark that decisions were made without discussion he said  Muraleedharan further added that if he were in his place the gesture would have been avoided But it’s just part of Sudhakarans mannerism and Congress need all such mannerisms in the party he said  Similarly Muraleedharan hinted on how discontent of among some members will be resolved “Let youngsters come to the party At the same time senior leaders should be also considered The view of Oommen Chandy and Ramesh Chennithala will be given due consideration It is also the responsibility of youngsters not sent elders to old age homes” he said'"
            ]
          },
          "metadata": {}
        },
        {
          "output_type": "stream",
          "name": "stdout",
          "text": [
            "\n"
          ]
        },
        {
          "output_type": "display_data",
          "data": {
            "application/vnd.google.colaboratory.intrinsic+json": {
              "type": "string"
            },
            "text/plain": [
              "'Rise of populism down to failure of mainstream politics, says Ed Milband - The Guardian'"
            ]
          },
          "metadata": {}
        },
        {
          "output_type": "display_data",
          "data": {
            "application/vnd.google.colaboratory.intrinsic+json": {
              "type": "string"
            },
            "text/plain": [
              "'The rise of populism is “testimony to the failure of mainstream politics” and politicians need to understand the “pain” of voters Ed Miliband has said  The shadow business secretary said it was important to give answers to the “grievances” in people’s lives while also challenging populism when it is “wrong”  Speaking at the Edinburgh international book festival the former Labour leader said Boris Johnson’s attempt to have a “political culture war” left him on the “wrong side of the argument” over England football players taking the knee  Miliband told a virtual event on Saturday that “the rise of populism is also testimony to the failure of mainstream politics” adding that it needed to address the “deep discontent” that some people feel  “I always think about this advert Donald Trump did two days before the 2016 election which was all about ‘you’ve lost your jobs the global elite have failed you’ and so on” he said  “Some part of what he was saying was right and unless you answer that deep discontent I think explaining better why mainstream politics is really quite good is never going to get you anywhere”  Miliband added “Somebody once said I think ‘Don’t love Trump but love Trump voters’ … I think understanding people’s pain is really important in this The soil in which populism grows this nasty populism grows is discontent and therefore you’ve got to understand people’s pain I think you do also have to sort of call them out”  He said he was “struck” by what happened earlier this year over Johnson “refusing to condemn” those who booed England players taking the knee  Miliband claimed the England manager Gareth Southgate had indirectly “shamed” the prime minister with his comments explaining what the players were protesting about and why it was a “patriotic thing to do”  He added “I think that episode is really interesting for the way in which Johnson and the kind of attempt to have a political cultural war by him really ended up on the wrong side of the argument”  Summarising his own argument Miliband said “One understand the pain that gives populism the ability to grow and succeed And secondly you’ve got to call it out and you’ve got to be strong”  He added “When it’s wrong you’ve got to call it out”'"
            ]
          },
          "metadata": {}
        },
        {
          "output_type": "stream",
          "name": "stdout",
          "text": [
            "\n"
          ]
        },
        {
          "output_type": "display_data",
          "data": {
            "application/vnd.google.colaboratory.intrinsic+json": {
              "type": "string"
            },
            "text/plain": [
              "\"BJP led Central govt playing politics over Andhra Pradesh's capital issue: CPI leader - ANI News\""
            ]
          },
          "metadata": {}
        },
        {
          "output_type": "display_data",
          "data": {
            "application/vnd.google.colaboratory.intrinsic+json": {
              "type": "string"
            },
            "text/plain": [
              "'Vijayawada Andhra Pradesh India August 30 ANI Demanding to clarify the Centres stand on the issue of Andhra Pradeshs capital state CPI Secretary K Ramakrishna on Monday alleged that the BJPled Union government is playing politics over the issue  Addressing the mediapersons here Ramakrishnan said We have been suspecting since the beginning that the Centre is playing politics over the states capital issue This was proved in a recent Parliament session when responding to the petrol price hike in the respective states the Centre mentioned Visakhapatnam as Andhra Pradesh capital However they changed Visakhapatnam as Reference City but this shows that BJP and YSRCP are hand in glove    The central government is primarily responsible for rising petrol and diesel prices in the country he said At the same time the Andhra Pradesh government has also increased taxes on petrol and diesel Ramakrishnan said The neighbouring states are reducing prices but Jagan Mohan Reddy government is not taking any such initiatives We request the state govt to reduce the burden on the people of the state he said  He slammed the BJPled Central government and YSRCP for privatizing public assets  The CPI Secretary said On one side the state government is opposing the privatization of Visakhapatnam Steel Plant VSP on the other hand the state is selling its 10 per cent stake in Gangavaram Port in Visakhapatnam ANI  '"
            ]
          },
          "metadata": {}
        },
        {
          "output_type": "stream",
          "name": "stdout",
          "text": [
            "\n"
          ]
        },
        {
          "output_type": "display_data",
          "data": {
            "application/vnd.google.colaboratory.intrinsic+json": {
              "type": "string"
            },
            "text/plain": [
              "'China’s anti-corruption watchdog slams entertainment industry - Financial Times'"
            ]
          },
          "metadata": {}
        },
        {
          "output_type": "display_data",
          "data": {
            "application/vnd.google.colaboratory.intrinsic+json": {
              "type": "string"
            },
            "text/plain": [
              "'Make informed decisions with the FT  Keep abreast of significant corporate financial and political developments around the world Stay informed and spot emerging risks and opportunities with independent global reporting expert commentary and analysis you can trust'"
            ]
          },
          "metadata": {}
        },
        {
          "output_type": "stream",
          "name": "stdout",
          "text": [
            "\n"
          ]
        },
        {
          "output_type": "display_data",
          "data": {
            "application/vnd.google.colaboratory.intrinsic+json": {
              "type": "string"
            },
            "text/plain": [
              "'Monday Musings: Politics of the ‘yatra’ embedded in DNA of all parties - Hindustan Times'"
            ]
          },
          "metadata": {}
        },
        {
          "output_type": "display_data",
          "data": {
            "application/vnd.google.colaboratory.intrinsic+json": {
              "type": "string"
            },
            "text/plain": [
              "'During July 2019 Maharashtra was witnessing a moderate monsoon with rain taking intermittent breaks when the state’s political atmosphere began to heat up as the state was heading for assembly elections in the next four months  That was when Aaditya Thackeray then just a Yuva Sena leader decided to undertake a statewide yatra to thank the people who voted for the Shiv Sena in the recently held Lok Sabha elections and to seek their blessings for the upcoming Assembly elections  Not to mention that was also called a Jan Ashirwad yatra Even as the Shiv Sena did not get the seats it targeted the yatra brought political stature to Aaditya who later became a cabinet minister in Maharashtra  While the latest Jan Ashirwad yatra undertaken by BJP leader and Union minister Narayan Rane had nothing in common with that of Thackeray’s both like many others had strong political motives  If there’s a common thread through the political parties of India of yatras or long journeys clubbed with rallies speeches and a political motive  In Maharashtra yatras have done magic particularly for the BJP when it was not in the game in state politics  In the mid1990s late BJP leader Gopinath Munde had undertaken a major journey what was then called a Sangharsh yatra journey of struggle  If Munde along with party colleague the late Pramod Mahajan was responsible for the BJP’s meteoric rise in Maharashtra his Sangharsh Yatra is believed to have contributed significantly to the victory of the BJPShiv Sena alliance in the 1995 state assembly elections  Through whirlwind statewide tours Munde addressed more than 150 meetings exposing various scams of the Congressled government which went on defensive  Later in 2014 Munde’s daughter Pankaja PalveMunde led another 14day tour – this time called the “Punha Ekda Sangharsh Yatra Once again Journey of struggle  on the lines of a similar expedition to her father’s to evoke his memories  Her tour came days after the sudden demise of her father that shook state BJP unit  It’s not just BJP leaders who have undertaken such yatras Parties of all hues have hit the streets with roadshows to rev up their message on topics dominating the news cycle or divert attention from issues that are problematic  Does such a yatra really help any leader to turn the tide in his favour The answer can be mixed even as it helps politicians to stir up the atmosphere galvanise the cadre and create a buzz After all it allows politicians to come to peoples’ doorsteps instead of the other way round  This is probably the reason that the response yatras receive is often amazing and helps in political mobilisation  At the same time the grandeur of a yatra with a focused theme also helps connect better with the target audience  Just before 2019 assembly polls Nationalist Congress Party NCP led by Sharad Pawar embarked on similar expedition Called the ‘’Shivswarajya Yatra’’ the aim was to launch a mass outreach programme starting from Shivneri Fort in Pune’s Junnar taluka the birth place of Chhatrapati Shivaji  The mother of all yatras that gave a new lifeline to the BJP in the early 1990s was the one taken out by party patriarch LK Advani The Rath Yatra on the Ram Mandir issue helped the BJP achieve power at the Centre later That yatra was also identified by Advani’s rivals for arousing communal passions that led to the demolition of the Babri Masjid  Yatras existed even before that Originally Mahatma Gandhi popularised the concept during the freedom struggle though later it was used as a political instrument by leaders  Accordingly for Rane the goal is clear  to regain his lost grip over the Konkan and also to help his party the BJP wrest power in the upcoming Brihan Mumbai elections  However controversy generated over Rane’s “slapping the chief minister” comments may have helped Uddhav Thackeray more as it galvanised the Shiv Sainiks who perform better on the streets than through any government  Yogesh Joshi can be contacted at yogeshjoshihtlivecom'"
            ]
          },
          "metadata": {}
        },
        {
          "output_type": "stream",
          "name": "stdout",
          "text": [
            "\n"
          ]
        },
        {
          "output_type": "display_data",
          "data": {
            "application/vnd.google.colaboratory.intrinsic+json": {
              "type": "string"
            },
            "text/plain": [
              "'Politics is a great profession, says Sonu Sood - The Siasat Daily'"
            ]
          },
          "metadata": {}
        },
        {
          "output_type": "display_data",
          "data": {
            "application/vnd.google.colaboratory.intrinsic+json": {
              "type": "string"
            },
            "text/plain": [
              "'Mumbai Actor Sonu Sood is known for his outstanding philanthropic and humanitarian work amid COVID19 pandemic There has been never ending spree of speculation regarding his possible entry into politics He recently met the Delhi Chief Minister Arvind Kejriwal which added much required fuel to the rumours  In his recent interview with Hindustan Times Sonu Sood denied all the rumours and said that he is not joining any party “I didn’t do this to get into politics I just wanted to help people When the whole movement of me helping people started in the first wave of the Covid pandemic last year even then these speculations started I want to send across a message that politics is a great profession and there’s no harm in case someone wants to desire to be in that”  Sonu Sood also added that it’s not mandatory that one has to be a politician to help people  Talking about his acting career the 48yearold actor said “I truly respect all people who’ve been doing great work in that field My hands are too full as an actor and the work I’m doing connecting me with masses touching those souls I’m enjoying this space but I don’t know what’s written in my fate tomorrow”  On the professional front Sonu has an interesting movies in his kitty which include — Acharya Prithviraj among others'"
            ]
          },
          "metadata": {}
        },
        {
          "output_type": "stream",
          "name": "stdout",
          "text": [
            "\n"
          ]
        },
        {
          "output_type": "display_data",
          "data": {
            "application/vnd.google.colaboratory.intrinsic+json": {
              "type": "string"
            },
            "text/plain": [
              "'KCR may renew efforts for third alternative in national politics - Business Standard'"
            ]
          },
          "metadata": {}
        },
        {
          "output_type": "display_data",
          "data": {
            "application/vnd.google.colaboratory.intrinsic+json": {
              "type": "string"
            },
            "text/plain": [
              "'Telangana Chief Minister K Chandrasekhar Rao may revive his idea of a federal front and gear up to play a key role in as he is all set to lay the foundation stone for the office of Telangana Rashtra Samithi TRS in New Delhi next week  The development is not without significance and it comes at a time when Rao has just launched the Dalit Bandhu scheme which he hopes will become a torchbearer for empowerment of Dalits across the country  Looking to turn the event into a show of strength he will be leading a team of over 100 leaders to the capital All MPs of TRS state ministers state legislators and members of the party executive will attend the ceremony on September 2  The foundation stone laying ceremony has led to speculations in political circles that KCR as the TRS supremo is popularly known will formally announce his entry into the  KCRs ambition to play a key role in the national is wellknown He wants to cobble up a front with likeminded parties as an alternative to both the Bharatiya Janata Party BJP and the Congress which according to him proved to be utter flops in governing the country  Though there are still more than twoandahalf years to go for the Lok Sabha elections political analysts say may use the event to renew his efforts to forge an alternative front  Political observers say will highlight the rapid strides Telangana has made in various sectors during the last seven years He claims that the countrys youngest state has emerged as a role model for all the states in a short span of time  The development also comes at a time when has launched what he calls a revolutionary scheme for social and economic empowerment of Dalits  The regional satrap is projecting Dalit Bandhu as a model scheme and is confident that it will become a torchbearer for the upliftment of Dalits across the country  Under the scheme launched on pilot basis in the Huzurabad Assembly constituency in Karimnagar district every Dalit family will get Rs 10 lakh as grant and they will be free to choose their profession selfemployment or businesses for utilising the funds  KCR has already announced that he is ready to spend Rs 175 lakh crore on the scheme to cover all 17 lakh Dalit families in the state He believes that the scheme will be a big game changer for Dalits and eliminate social discrimination against them  The TRS chief who has been talking of providing an alternative to the BJP and the Congress for the last 34 years will put forth the successful Telangana model before the country and promise to replicate the same at the national level  TRS leaders say KCR will try to highlight how his government has delivered on various fronts in a short span of time to transform an arid region into a lush green and prosperous state  With a growth rate and per capita income higher than the national average and continuing impressive growth even during the Covid19 pandemic Telangana is already claiming to be a role model for other states  The TRS founder plans to unveil his agenda for national politics with a new economic model which will focus on farmers Analysts say that KCR will showcase at the national level his success in transforming agriculture with Rythu Bandhu an investment support scheme for farmers which is emulated by the Centre and many states  KCR has been slamming both the Congress and the BJP as storytellers who failed to give direction to the country and guide it on the right path He has been targeting them for failing to create wealth while claiming that his government succeeded in not only creating the wealth but is also distributing the same among the poor and underprivileged sections of the society  It was in 2018 that KCR had floated the idea of a front of likeminded parties as an alternative to both the BJP and the Congress  He had intensified the efforts after retaining power in Telangana in the December 2018 elections  After the massive victory in Assembly elections KCR had appointed his son KT Rama Rao as the working president of the TRS so that he can focus on national politics  He flew from one state to the other to meet leaders of various regional parties He called on West Bengal Chief Minister Mamata Banerjee and Odisha Chief Minister Naveen Patnaik Kerala Chief Minister Pinarayi Vijayan and Tamil Nadu Chief Minister MK Stalin  He also discussed the idea with HD Deve Gowda of the Janata Dal Secular in Karnataka Hemanth Soren of Jharkhand Mukti Morcha in Jharkhand Akhilesh Yadav of the Samajwadi Party in Uttar Pradesh and YS Jagan Mohan Reddy of the YSRCP in Andhra Pradesh  KCR was even seen as the potential prime ministerial candidate by his party in the event of regional parties emerging as a major bloc in the Lok Sabha  With the BJP retaining power at the Centre with a massive majority KCR had dumped the idea of a front and confined himself to the state  Last year there were reports that KCR was planning to float a national party He however clarified that there was no such proposal for now  He however did not rule out such a proposal He told a party meeting that a decision would be taken at the right time after discussions  KCRs blow hot blow cold stand on the third alternative has come under criticism from various quarters His opponents say he talks of a front only at the time of elections  During the campaign for Greater Hyderabad Municipal Corporation GHMC elections in November last year he had stated that the country definitely needs a new experiment and TRS would be in the forefront to provide the alternative  He had declared that a conclave of likeminded parties will be held in Hyderabad in December  He had also said that Hyderabad would be the epicentre of the movement against the BJP government for its antipeople antifarmer and antilabour policies and the TRS will lead the movement  However KCR adopted complete silence on the proposed front after the GHMC polls  IANS  msarmksk  Only the headline and picture of this report may have been reworked by the Business Standard staff the rest of the content is autogenerated from a syndicated feed'"
            ]
          },
          "metadata": {}
        },
        {
          "output_type": "stream",
          "name": "stdout",
          "text": [
            "\n"
          ]
        },
        {
          "output_type": "display_data",
          "data": {
            "application/vnd.google.colaboratory.intrinsic+json": {
              "type": "string"
            },
            "text/plain": [
              "'Spectre of caste census limits BJPs OBC politics - Business Standard'"
            ]
          },
          "metadata": {}
        },
        {
          "output_type": "display_data",
          "data": {
            "application/vnd.google.colaboratory.intrinsic+json": {
              "type": "string"
            },
            "text/plain": [
              "'For the Bharatiya Janata Party BJP former Uttar Pradesh Chief Minister Kalyan Singh represented both the potential of its OBC Other Backward Classes politics as well as its limits  On his demise Prime Minister Narendra Modi promised the faithful that “to fulfil the void left by him we should work hard for his ideals” As an OBC the PM often presents himself as the product of the marriage between Mandal and Kamandal when he seeks votes in UP and Bihar Why then is he reluctant to go forward with a caste census which most other political parties support That would '"
            ]
          },
          "metadata": {}
        },
        {
          "output_type": "stream",
          "name": "stdout",
          "text": [
            "\n"
          ]
        },
        {
          "output_type": "display_data",
          "data": {
            "application/vnd.google.colaboratory.intrinsic+json": {
              "type": "string"
            },
            "text/plain": [
              "'‘The Politician’: Finally, an English novel set in the heartland of Indian politics, Uttar Pradesh - Scroll.in'"
            ]
          },
          "metadata": {}
        },
        {
          "output_type": "display_data",
          "data": {
            "application/vnd.google.colaboratory.intrinsic+json": {
              "type": "string"
            },
            "text/plain": [
              "'The impulse to write the great Indian novel has been too tempting to resist for a number of Indian English novelists From Qurratulain Hyder through Shashi Tharoor to Vikram Seth many have written their own great Indian novels works of considerable merit but not the great Indian novel  Such is the diversity of lands people and cultures in India that most novels of this kind remain regional in focus however ambitious they may be in scale Delhi Mumbai KolkataBengal Kerala and western India have usually provided settings and characters in Indian English novels But Uttar Pradesh an area which has wielded considerable political influence in independent India has held out its appeal to a host of Hindi and Urdu writers and poets but has only occasionally appeared in Indian English fiction  One can think of Lucknow in Attia Hosain’s Sunlight on a Broken Column Lucknow and Benaras in Vikram Seth’s A Suitable Boy Benaras in Pankaj Mishra’s The Romantics and western UP though cursorily in Mirza Waheed’s Tell Her Everything But Uttar Pradesh’s geography and its political significance has largely been absent in Indian English novels  Observing the quotidian  The Politician is unabashedly a north Indian novel more specifically a novel about a specific region in central Uttar Pradesh Written in a realistic mode not trying too hard to embellish the narrative with literary texture it provides a glimpse into the political culture of this region All characters in the novel obviously speak Hindi – and the novel is imbued with a Hindispeaking culture – but such is the quality of Devesh Verma’s expressive prose that The Politician might appear a lesser work if rendered into Hindi losing its novelty and freshness  Every bit a twentyfirst century Indian English novel it neither tries to write back to a centre nor cares for a western reader The novel captures both the energy and the chaos that characterise life in small towns in Uttar Pradesh showing effortlessly both the machinations of power politics and mounds of filth  The narrator in The Politician is certainly a great observer of the ordinary daytoday life in Uttar Pradesh directing the reader’s gaze to the poor children “who wanted to push the jeep” quarrelling among themselves or constantly sniffling “to hold back the snot that would peek through before being drawn back in quickly” a candidate for a job surprising a big official “by his correct use of the conjunction ‘lest’” or the landline phones always developing snags and the telephone officials’ indifference to people’s complaints  In many places the description of filth – of “clogged urine outlet an assortment of faecal mounds of various sizes and colour” – fills up the narrative EM Forster had been reminded of the virtue of reticence in western literature while thinking of the filth and the description of bowel movements in Mulk Raj Anand’s Untouchable It is another matter that HG Wells discovered James Joyce’s “cloacal obsession” in A Portrait of the Artist as a Young Man while another reviewer found Dublin too ugly in the great modernist’s work  Verma writing in the 21st century does not have to think about reticence All chaos and disorder in mofussil India which is routine and to which people have become accustomed is captured by his expressive prose at these moments Even the description of filth is treated with humour Thus in a choice between an extraordinarily filthy and foulsmelling urinal which displays the picture of a “smiling prime minister with a rosebud in the buttonhole of his white khadi waistcoat” and the boundary wall people make for the boundary wall  Caste and crew  The energy latent in the political culture of Uttar Pradesh is the main subject of The Politician The communal angle of this political culture has interested many novelists but The Politician brings the elephant of caste arithmetic into the world of English novel especially the relationship of caste and politics in the Hindi heartland  Mulk Raj Anand wedded to his social realism brought out the issue of caste in Untouchable Arundhati Roy brought in the caste angle through the forbidden relationship of Ammu Ipe and Velutha in The God of Small Things Caste obviously is an important subject in Dalit literature But novels about a specific backward caste in this case Kurmis of Western UP have been nonexistent in Indian English fiction  The Politician views entire election campaigns for parliamentary and assembly seats from the angle of Kurmi influence in and around Fatehpur and Kanpur This is also seen in the larger national politics of the Congress and the nonCongress parties before the ascendancy of rightwing politics Criticism of Brahminical influence in Indian politics completes this picture  In treating political themes The Politician also sets up a dialogue between different political ideologies living up to the polyphonic character of a novel It dwells on the personalities and ideas of a number of major Indian political figures like Jawaharlal Nehru Indira Gandhi Morarji Desai and Jayaprakash Narayan and minor ones like Raj Narayan Banarsi Das Gupta and Sampoornanand  Ambedkar Periyar and Phule are referred to for their radical political views in the discussions of characters about caste Some other major characters in the novel are based on real political figures Baran Singh appears to have been modelled on former prime minister Chaudhary Charan Singh and Sansadji on the former chief minister of Uttar Pradesh Hemvati Nandan Bahuguna  Characters and narratives  Taking the reader back and forth in time Kartik Verma the narrator who is the head at a new TV news channel is also a minor character in the novel The notes and diaries left for him by his deceased friend Deena give him privileged access into the world of Ram Mohan Deena’s father and the central character in The Politician turning the novel into a kind of third person narrative though sometimes interrupted by his first person narration  But the point of view in the novel is that of Deena a sensitive soul in a ruthless world mediated by Kartik his alternative self who studied with Deena at Jawaharlal Nehru University Deena’s peaceloving nature his devotion to vegetarianism his tender self and his inability to adjust to the cruelty and viciousness in the world are aspects of the latent ethos of the novel contrasting beautifully with the novel’s overt cynicism  The first two sentences of the novel also used on the book jacket immediately pull the reader into the narrative “I was about to leave for work when the telephone rang Deena was dead” Did we hear the echo of the opening sentence of Camus’ Outsider “Mother died today”  Ram Mohan a college teacher of Hindi and a scholar who has written a book of Hindi grammar nurses a political ambition which is further whetted by his political mentors However despite being the main character in the novel Ram Mohan’s character appears very thin for almost two thirds of the novel It is only in the final third that he is fully realised letting readers make their judgment about him  Whatever idealism he might have aroused earlier is completely punctured His authoritarian and patriarchal thinking is outweighed only by his hypocritical morality He evinces no active virtue through the 350andodd pages of the novel The secondary characters appear more interesting Is it because many of them are inspired by real life figures Baran Singh’s ideas beliefs and habits are sharply drawn Dixit ji with his novel morality sticks in the mind Sansadji’s near and distant presence his vacillations and permanent promise to deliver also hold the narrative beautifully  History and fiction  No novel can escape history – however it may try to give history the slip Contrarily novels may faithfully use actual political and historical events and situations but still cannot pass as history as novels do what only they can not the textbooks of history The success of Sunlight on a Broken Column or for that matter Milan Kundera’s and Amitav Ghosh’s novels is largely due to their fine blending of history and the main narrative  The movement from history to narrative and vice versa is seamless in Sunlight and Unbearable Lightness of Being to take just two examples This seamlessness deserts The Politician at some places where the reporting of actual historical events and developments in independent India has an obtrusive presence  Most poetic and novelistic creations defamiliarise the familiar the mundane the everyday The treatment of distant events in history achieves a defamiliarising effect more easily than more recent historical developments unless used as a context for the main narrative Events like the China War Nehru’s politics and Indira Gandhi’s taking over the Congress are too fresh in public memory permanently kept on the boil by an overzealous Indian media and speeches of leaders  But most certainly there are varied interpretive communities of readers in terms of age groups regions nationalities and gender The Politician will achieve a defamiliarising effect for the new generation of readers and an international audience not necessarily based in India The role of relatively marginal political figures like Charan Singh or Hemvati Nandan Bahuguna is almost forgotten today and they may not even be recognised by most readers behind their fictional personas  It is not even required to know the actual people a novelist uses to conceive characters because no novel is a mere copy of real life Real life figures when used as characters undergo a transformation in the hands of a novelist because they must look authentic in the novel They do in The Politician  Readers usually discover new facets of life when reading the fiction of another culture and recognise familiar things when reading works of their own culture But even our own culture may hold elements which may be in danger of being forgotten or which may not have been foregrounded in fiction enough The treatment of many of such elements in particular the chaos and disorder in the everyday life in small towns and the relationship between caste and politics in the Hindi heartland before the grand success of the rightwing make The Politician a welcome addition to the canon of Indian English fiction  Mohammad Asim Siddiqui is Professor in the Department of English at Aligarh Muslim University  The Politician A Novel Devesh Verma Penguin Viking'"
            ]
          },
          "metadata": {}
        },
        {
          "output_type": "stream",
          "name": "stdout",
          "text": [
            "\n"
          ]
        },
        {
          "output_type": "display_data",
          "data": {
            "application/vnd.google.colaboratory.intrinsic+json": {
              "type": "string"
            },
            "text/plain": [
              "'Sonu Sood: Politics a great profession, no harm if someone wants to be in it - Hindustan Times'"
            ]
          },
          "metadata": {}
        },
        {
          "output_type": "display_data",
          "data": {
            "application/vnd.google.colaboratory.intrinsic+json": {
              "type": "string"
            },
            "text/plain": [
              "'Ever since actor Sonu Sood met Delhi CM Arvind Kejriwal and was announced as the brand ambassador of the Desh Ke Mentor initiative speculations have been rife that he’s planning to get into this the field of politics However the actor wants to set the record straight that he is not joining any party  “I didn’t do this to get into politics I just wanted to help people” Sood tells us adding “When the whole movement of me helping people started in the first wave of the Covid pandemic last year even then these speculations started I want to send across a message that politics is a great profession and there’s no harm in case someone wants to desire to be in that”  The 48yearold adds that it’s not mandatory that one has to be a politician to help people  “Whatever I did in the past one and a half year it also conveys that even if you’re not into politics you can still help and motivate people That’s a message I want to tell people that don’t wait for an opportunity to help people just do it now” says the Dabangg 2010 and Simmba 2018 actor  Even if not at this moment asked if he see himself going that way in the future and Sood quips “I truly respect all people who’ve been doing great work in that field My hands are too full as an actor and the work I’m doing connecting me with masses touching those souls I’m enjoying this space but I don’t know what’s written in my fate tomorrow”  Talking about the initiative he’s a part of now Sood explains that the Delhi government approached him because of his work in the education sector  “I supported close to 200 students in the first wave and that has gone up to 20000 students in the second phase of scholarships which I started in my mother Saroj Sood’s name She was a professor and always wanted me to do big in education as that can change lives” he recalls'"
            ]
          },
          "metadata": {}
        },
        {
          "output_type": "stream",
          "name": "stdout",
          "text": [
            "\n"
          ]
        },
        {
          "output_type": "display_data",
          "data": {
            "application/vnd.google.colaboratory.intrinsic+json": {
              "type": "string"
            },
            "text/plain": [
              "'The Kerala Model That Is Really Broken Is Its Socio-Politics, Not Healthcare - Swarajya'"
            ]
          },
          "metadata": {}
        },
        {
          "output_type": "display_data",
          "data": {
            "application/vnd.google.colaboratory.intrinsic+json": {
              "type": "string"
            },
            "text/plain": [
              "'The Kerala model has come under fire after the state started goofing up on Covid Despite a fall elsewhere in God’s Own Country Covid infection levels have refused to subside and the state continues to account for over 69 per cent of daily new cases and 56 per cent of all active cases in the country as on 30 August  This is however not enough to debunk the Kerala model which can loosely be said to be about high literacy and good quality healthcare services These continue to be the state’s strong points as is evident from the fatality rates in Covid With 20000andodd deaths from four million infections compared to 438000 deaths from 327 million cases allIndia Kerala’s fatality rate is less than 40 per cent of the national average of 13 per cent from official reported statistics This can hardly be called a failure of the Kerala educationcumhealthcare model  But the underlying assumptions behind this Kerala model — that this high performance on social indicators is led by high state spending on public goods like education and health — is no longer true As Jagdish Bhagwati and Arvind Panagariya noted in their book India’s Tryst With Destiny the Kerala model is not any more driven by state spending but by private investment and consumption Far from being a communist paradise its growth has been driven by entrepreneurship and private investment and spending in both education and health apart from tourism The state is claiming credit for things it did not do  If one has to talk about any Kerala model that is broken it has to begin here and also in it dramatically shifting demographics Rising economic and political challenges are threatening the Kerala model of growth and social stability like never before  The economics that is falling apart a large part of private spending over the last few decades has been financed by huge remittances from the Gulf region where many Keralites are employed But this boom has gone bust postCovid and the World Bank estimates that of the four million Malayalis working in the Gulf Cooperation Council GCC region 12 million have been repatriated back due to job losses and retrenchments This means remittances are down too  A Business Standard report quoting the World Bank had this to say this May In Kerala “an estimated 12 million migrant workers out of more than four million who worked in the GCC countries and contributed 30 per cent of the states income returned in 2020 after the global pandemic left them jobless Lowskilled workers were the hardest hit”  Monthly remittances to families receiving them “fell on average by 267” That’s a Rs 20000 fall in family monthly incomes for those dependent on Gulf remittances Since it is unlikely that most of these jobs will return postpandemic Kerala’s economic model of high dependency on remittances will prove to be a serious problem  But it is in the political and social spheres that the secular Kerala model appears most broken  Till recently Kerala had a twofront model with one front the United Democratic Front or UDF being a collection of communal organisations claiming to be secular the other front the Left Democratic Front LDF claimed to be secular by definition since the Left supposedly believes in materialism not religion the opium of the people  But underneath this apparent secularism what we actually got was two mildly Hinduphobic fronts one driven by actual minority communalists and the other by a Hindu vote that did not see a future in a front where Muslim and Christian parties called all the shots  But two things have happened over the last decade to undermine this cosy twofront system under which each front got to rule the state by turn In this year’s assembly elections the LDF created history by winning a second consecutive term This has little to do with voter faith in this secular alternative It reflects a failure of the communal UDF to win enough Hindu votes to retain power The Hindu vote is gradually breaking off from this communal front though it is still rudderless and without a party to claim its loyalties  In the assembly elections Bharatiya Janata Party BJP won 113 percent of the vote which was enough to deny victory to the UDF but not big enough to dent the LDF or make it a formal contender for power  This churn in the Hindu vote is far from over and in the coming elections we will see new alliances to defeat the Left  The reason why the Hindu vote is again beginning to waver from its traditional voting patterns is the dramatic shift in Muslim demography over the last decade  According to the 2011 census Muslims accounted for 2656 per cent of Kerala’s population and Christians 1838 per cent This means the Hindu majority 5473 per cent is now under clear threat and Christians with lower birth rates are beginning to fret about the growing Muslim demography The actual Hindu population may be closer to the halfway mark except for the undeclared status of crypto Christians who may have chosen to call themselves Hindu to avoid loss of quota benefits  In 2015 recorded birth rates show that Muslim births had almost caught up with that of Hindus even though Hindus are twice as large in the population Reports of live births in that year showed that of the 516 lakh children born 428 per cent were Hindu and 414 per cent Muslim with Christians at 154 per cent  This suggests that despite there being no appreciable difference in human development parameters or incomes of Muslims their birth rate may be surging with Hindu and Christian families punching far below their population weights This goes against every assumption made in the past that high poverty levels are the reason for high birth rates With Muslims in Kerala this does not seem to be the case  This trend if confirmed in subsequent years will polarise the state in future elections The biggest shift could happen among Hindus and Christians and that fact that both these religious groups talk about love jihad demonstrates that there is concern about demographic decline  The Kerala sociopolitical map is being redrawn with the shift in favour of Muslim demographics and this has been accompanied by the rise of more radical Islamist groups like the and its political arm the Social Democratic Party of India The emergence of this group will push relatively moderate Muslim parties like the Indian Union Muslim League to make more demands from any front that it backs in future  It is not the Kerala educationandhealthcare model that is broken but its economic and sociopolitical model that gave it some degree of political predictability since 1947 that has been stretched to breaking point It is likely to be broken in this decade  The Kerala healthcare model remains intact what is broken is merely the excessive pride in that model thanks to the LDF’s hubris'"
            ]
          },
          "metadata": {}
        },
        {
          "output_type": "stream",
          "name": "stdout",
          "text": [
            "\n"
          ]
        },
        {
          "output_type": "display_data",
          "data": {
            "application/vnd.google.colaboratory.intrinsic+json": {
              "type": "string"
            },
            "text/plain": [
              "'Narsinghanand makes derogatory comments against women in politics, video goes viral - The Siasat Daily'"
            ]
          },
          "metadata": {}
        },
        {
          "output_type": "display_data",
          "data": {
            "application/vnd.google.colaboratory.intrinsic+json": {
              "type": "string"
            },
            "text/plain": [
              "'New Delhi Dasna priest Yati Narsinghanand Saraswati once against triggered controversy This time he allegedly made derogatory comments against women in politics  In the video which went viral on social media he can be seen calling women in politics ‘rakhail’ mistress He said “The women you see in politics is or had been rakhail of at least one male politician If she is not a mistress she is relative of an influential political leader”  He further alleged mistresses existed during Samajwadi Party rule However male politicians could not promote mistresses during Bahujan Samajwadi Party rule  In the later part of the video he can be seen making similar allegations on the women politicians in the ruling party too  This is shocking I am really REALLY sorry I made an error of judgement in supporting this man pictwittercom9wwNOsnp6I — Shefali Vaidya 🇮🇳 ShefVaidya August 28 2021  Reacting to the viral video netizens demand action against Narsinghanand  I request sharmarekha ji Uppolice to take action against this Fraud Narshianand pictwittercomBD7sWT6S3j — Tajinder Pal Singh Bagga TajinderBagga August 28 2021  I am feeling terrible not just because I misjudged this Yati Narsimhanand but because he can say such things about women while wearing saffron robes This is an insult to my faith Haven’t felt this disillusioned in a long time — Shefali Vaidya 🇮🇳 ShefVaidya August 28 2021  It may be mentioned that Narsinghanand is known for making controversial comments against Muslims  In the month of April Delhi Police had registered an FIR against the priest who was seen in a video using offensive language against Prophet Mohammed PBUH  Earlier Narsinghanand was in the headlines when his disciple Shringi Yadav was arrested for thrashing a Muslim boy who drank water from the temple'"
            ]
          },
          "metadata": {}
        },
        {
          "output_type": "stream",
          "name": "stdout",
          "text": [
            "\n"
          ]
        }
      ]
    },
    {
      "cell_type": "code",
      "metadata": {
        "colab": {
          "base_uri": "https://localhost:8080/",
          "height": 1000
        },
        "id": "REF0McL9bl9G",
        "outputId": "a3d42ddf-3a44-4802-e320-28de4066d362"
      },
      "source": [
        "results = search_dict('rs OR rupees AND NOT finance')\n",
        "disp_results(results)"
      ],
      "execution_count": 41,
      "outputs": [
        {
          "output_type": "stream",
          "name": "stdout",
          "text": [
            "rs\n",
            "rupe\n",
            "NOT financ\n",
            "8\n"
          ]
        },
        {
          "output_type": "display_data",
          "data": {
            "application/vnd.google.colaboratory.intrinsic+json": {
              "type": "string"
            },
            "text/plain": [
              "'Sports events mark birth anniversary of Dhyanchand - Times of India'"
            ]
          },
          "metadata": {}
        },
        {
          "output_type": "display_data",
          "data": {
            "application/vnd.google.colaboratory.intrinsic+json": {
              "type": "string"
            },
            "text/plain": [
              "'Jhansi A number of sport events marked the 116th birth anniversary of legendary hockey player Padam Bhushan Major Dhyanchand in his home town Jhansi on Sunday the day which is also celebrated as National Sports DayIn addition a ‘Khel Prerak Samman’ award was declared by veteran Olympian and son of Dhyanchand Ashok Dhyanchand to be given from this year on this day for promoting sports A friendship match was held between Jhansi eleven and army eleven at Major Dhyanchand Astro Turf Hockey Stadium which was won by the former team The match was inaugurated by sports minister Upendra Tiwari in the presence of union state minister Bhanu Prasad Verma Jhansi Lalitpur MP Anurag Sharma and General Vipul Singhal GOC White Tiger Division Army while UP Chief Secretary Rajendra Kumar Tiwari was present virtually in the eventAll the invited veteran Olympians were felicitated on this occasion Army band gave also give grand performance by playing various tunes On this occasion Jhansi MP Anurag Sharma announced to pay Rs two lakh each year to Shaili Singh who recently won silver medal in the International U20 atheletic championship in Nairobi from Baidhynath foundation till she is playing for IndiaOn the other hand around three dozen veteran Olympians national and international players participated in an event held at the legendary Heroes ground where once Dadda as Dhyanchand was lovingly known practiced regularly The programme was hosted by ‘Hockey Jadugar Padam Bhushan Dhyanchand’ society formed by his son Ashok Dhyanchand who himself is a veteran OlympianA friendly match was played between two girls’ team Dhyanchand eleven and Roop Singh Eleven which was won by the former team by 10 This followed by an exhibition match between the Olympian Eleven and women eleven which was won by the Olympians by 40 On this occasion the society announced the ‘Khel Prerak Samman’ award to be given each year on this day As per the secretary of the club Ashok Sein the awardee will be decided by a seven member committee This year it will be given to President Reliance Foundation Neeta Ambani and President Sports A Way of Life Kanishka Pandey for promoting the sportsThe year also happens to be the centenary year of Heroes Club which was patronised by Dhyanchand himself Started in 1921 by a local hockey enthusiast HN Banerjee the club has produced number of national and international players who have been part of the club and have been practicing in the same ground including Dhyanchand himself and his brother Roop Singh The ground also hosts the cemetery of Dhyanchand The ground has recently got a facelift by JDAThe Olympians were also felicitated by the DRM NCR Ashutosh in a separate programme held at Railway instituteDuring the event at Heroes ground in an unanimous voice all the veteran players along with local leaders of various political parties including former union minister from Congress Pradeep Jain Aditya and former Rajya Sabha MP from SP Chandrapal Yadav advocated for confirming Bharat Ratan award to Dhyanchand'"
            ]
          },
          "metadata": {}
        },
        {
          "output_type": "stream",
          "name": "stdout",
          "text": [
            "\n"
          ]
        },
        {
          "output_type": "display_data",
          "data": {
            "application/vnd.google.colaboratory.intrinsic+json": {
              "type": "string"
            },
            "text/plain": [
              "'COVID-19 occupancies very less; prepared for any eventuality, says Narayana Health - CNBCTV18'"
            ]
          },
          "metadata": {}
        },
        {
          "output_type": "display_data",
          "data": {
            "application/vnd.google.colaboratory.intrinsic+json": {
              "type": "string"
            },
            "text/plain": [
              "'Viren Shetty ED  Group COO Narayana Health said becuase of COVID their capex plans had been on hold but for the year they have modest plans of around Rs 250 crore with a potential to scale it up  Viren Shetty ED  Group COO at Narayana Health said at present their COVID occupancies were barely anything and vaccinations continued as normal In case of any eventuality he said the infrastructure has been set up  We bought all the ventilators we set apart all the COVID ICUs and should be in a position to take care of them Right now vaccinations continue as normal COVID occupancies are barely anything said Shetty  He added that COVID is a concern in the sense that it has not been fully eliminated from the country But I would echo what all the other hospital groups are saying that patients are not really coming to the hospital Those that come come very early and they do get treated Now we know a lot more about how to treat these patients than we did before he said  The overall COVID numbers however still remain stubbornly high We do not know if it would manifest itself in some kind of exponential growth curve and a wave shows up at some point in October November Shetty said adding that it was beyond the realm of their ability to plan for but they are prepared  On Capex plans he said since COVID it has taken a bit of a hold and there is a more modest plan We have around Rs 250 crore planned for this one year but it will scale up The fact is that a lot of our hospitals are in need of refurbishment a lot of equipment to be upgraded and a lot of capacity to be added in new specialties specifically oncology he said  The pandemic has taught that all hospitals are very short of critical care infrastructure and so over the next five years Narayana group has an aggressive Capex plan on upgrading their existing infrastructure to be able to accommodate all kinds of critical care patients  “We wont look to add too much new bed capacity we have sufficient headway within the existing infrastructure and there are about 50100 beds that can be added just to account for the differences in the allocation of how we count the beds” he added  For the entire interview watch the accompanying video'"
            ]
          },
          "metadata": {}
        },
        {
          "output_type": "stream",
          "name": "stdout",
          "text": [
            "\n"
          ]
        },
        {
          "output_type": "display_data",
          "data": {
            "application/vnd.google.colaboratory.intrinsic+json": {
              "type": "string"
            },
            "text/plain": [
              "\"This Indian Firm Offers One Month's Salary As Incentive To Employees Who Meet Their Health Goals - India Times\""
            ]
          },
          "metadata": {}
        },
        {
          "output_type": "display_data",
          "data": {
            "application/vnd.google.colaboratory.intrinsic+json": {
              "type": "string"
            },
            "text/plain": [
              "'Thanks to the pandemic the one thing we all have realised is how important is our physical and mental health But even though we have been trying to maintain a healthy lifestyle it gets slightly difficult considering the various pressures on our head  especially our work  Unsplash  However an Indian firm is making sure that nobody ignores their health and in an attempt to encourage its employees and help them maintain a worklife balance this company has come up with a creative ’12month gethealthy goal’ programme  This was shared by the CEO Nithin Kamath of his company Zerodha He wrote about the impact of the pandemic and how their workforce was the “unhealthiest ever” due to various aspects such as lack of physical activity worklife imbalance and bad diet among others  To push the team towards a healthier lifestyle the company will reward employees who make transformations in their life He mentioned how to increase the participation the company along with a 1month salary will have a lucky draw where the winner will get a reward worth Rs 10 lakhs  On our internal forumdiscourse we asked everyone to set a 12month gethealthy goal  update the progress every month to create accountability To increase participation we said everyone who reaches the goal will get a 1month salary as bonus  1 lucky draw for Rs 10lks 23 — Nithin Kamath Nithin0dha August 28 2021  Since being shared online the post has gone viral on social media While many praised the company’s initiative others wondered if it would actually work  Great minds think differently Inspiring — Geetu Moza GeetuMoza August 28 2021  Excellent piece of information Not achieving the goals should not be demotivating for the individuals otherwise it can affect health of the individuals Considering the effective RR program Im interested to know what happened to the individuals who couldnt achieve the goals — Kartik Kamdar KartikPKamdar August 28 2021  Awesome Nithin More and more of our entrepreneurs need come use someof their creativity to improve well being of their employees — Ani Borkar asinaib August 29 2021  This is awesome This is in a way epic as it shows the company understands long term investment Best investment is in people — L kami7999 August 28 2021  You are real employee centric enterpreneur  You set the goal for employee not as standard ritual as to click the photos and post to linkedin but also kept some tangible benefit for the goal hatts off to you — HARSHAL WANI harshalwani1111 August 28 2021  Great initiative and encouragement to employees which translates into higher productivity with belongingness — Satyanarayana Repala SATYAREPALA August 29 2021    An initiative like this is a great way to motivate employees to stay fit while working hard for the company'"
            ]
          },
          "metadata": {}
        },
        {
          "output_type": "stream",
          "name": "stdout",
          "text": [
            "\n"
          ]
        },
        {
          "output_type": "display_data",
          "data": {
            "application/vnd.google.colaboratory.intrinsic+json": {
              "type": "string"
            },
            "text/plain": [
              "'Sports cluster to come up at Osmania University - The Siasat Daily'"
            ]
          },
          "metadata": {}
        },
        {
          "output_type": "display_data",
          "data": {
            "application/vnd.google.colaboratory.intrinsic+json": {
              "type": "string"
            },
            "text/plain": [
              "'Hyderabad Under the ‘Khelo India’ initiative of the Centre the foundation stone was laid on Sunday for the sports cluster at Osmania University here  A synthetic athletic track a synthetic tennis court and swimming pool for women will be built as part of the cluster  Union Culture and Tourism Minister G Kishan Reddy along with Telangana’s Sports Minister V Srinivas Goud laid the foundation stone for the cluster for which the government will spend Rs 5 crore  The event was organised to mark the National Sports Day  In his address on the occasion Kishan Reddy highlighted the initiatives of Modi government to promote sports in the country  He said the government as part of its sports policy was making all efforts to identify the talented sportspersons and prepare them for the Olympics  The minister said the efforts being made by the Centre to promote sports and give all support to sportspersons were yielding results as this was evident from the country’s performance in the Tokyo Olympics  Stating that the government was creating all necessary infrastructure to promote sports Reddy urged the sportspersons to make use of the same  He advised students to actively participate in sports He said excellence in sports can help them in showing their talents in different fields  Srinivas Goud urged the Centre to extend all help to the state in improving sports infrastructure'"
            ]
          },
          "metadata": {}
        },
        {
          "output_type": "stream",
          "name": "stdout",
          "text": [
            "\n"
          ]
        },
        {
          "output_type": "display_data",
          "data": {
            "application/vnd.google.colaboratory.intrinsic+json": {
              "type": "string"
            },
            "text/plain": [
              "'On National Sports Day, CM announces scholarship for child athletes, raises daily allowance of state athl - Times of India'"
            ]
          },
          "metadata": {}
        },
        {
          "output_type": "display_data",
          "data": {
            "application/vnd.google.colaboratory.intrinsic+json": {
              "type": "string"
            },
            "text/plain": [
              "'Dehradun On the occasion of the National Sports Day Uttarakhand chief minister Pushkar Singh Dhami made several announcements to ensure greater participation of youths in sportsIn an event held at the Dehradun ’s Pavillion Ground on Sunday the CM announced to give annual scholarships to 100 athletes — 50 boys and 50 girls — aged between 8 and 14 years The athletes will be selected based on their sporting talent He also raised the daily allowance of sportspersons to Rs 225Besides the CM announced to establish a sports college exclusively for women in Udham Singh Nagar and a Khel Vigyan Kendra Sports Science Centre at Dehradunbased Uttarakhand Sports Development InstituteHe added that the athletes who participate in the National Games will be allowed free travel in state roadways buses and those who win medals at the National Games will be given the same perks as the athletes who win medals in AsianCommonwealthWorldOlympics games Such players will also be given financial assistance if they suffer an injuryAddressing a gathering of sportspersons the CM said that the state government is trying to get Dehradunbased Maharana Pratap Sports College recognised as a sports university Dhami also pointed out that Vandana Katariya who was part of the Indian hockey team at the Tokyo Olympics was given Rs 25 lakh by the state government and made the ambassador of Beti Bachao Beti Padhao scheme in the hill stateDuring the event CM Dhami also interacted with Olympic gold medallist Neeraj Chopra via video conferencing During the conversation Chopra revealed that he is likely to visit Uttarakhand early next month Earlier in the day a crosscountry marathon was organised in Dehradun in honour of Neeraj Chopra The CM also participated in the marathon'"
            ]
          },
          "metadata": {}
        },
        {
          "output_type": "stream",
          "name": "stdout",
          "text": [
            "\n"
          ]
        },
        {
          "output_type": "display_data",
          "data": {
            "application/vnd.google.colaboratory.intrinsic+json": {
              "type": "string"
            },
            "text/plain": [
              "'Reliance Jio ties up with five banks to finance JioPhone Next, aims to sell 5 crore units in six months - India Today'"
            ]
          },
          "metadata": {}
        },
        {
          "output_type": "display_data",
          "data": {
            "application/vnd.google.colaboratory.intrinsic+json": {
              "type": "string"
            },
            "text/plain": [
              "'Reliance industries have placed an initial production order for the JioPhone Next 4G smartphone to UTL Neoluncs which is a joint venture between Bengalurubased UTL group and Neolync Solutions It has been approved to receive SOPs under the PLI scheme for handsets The company invested Rs 20 crore in Neolync solutions earlier this month Jio has set internal targets with distributors and financiers for sales  The Jio Exclusive smartphones are priced under Rs 10000 and have a nocost EMI of up to 6 months and additional benefits depending on the device Jio Exclusive smartphones will come with price support from the telco along with nocost EMI up to 6 months and additional benefits worth Rs 7000Rs 10000 depending upon the device ET Telecom in a recent report cited sources who noted that the Jio Exclusive bundled smartphones could extend their price range to mid and premium segment smartphones in the coming months  JioPhone Next Expected Specs  According to various leaks the smartphone will be powered by Qualcomms entrylevel Snapdragon 215 quadcore processor with a 13GHz clock speed Further the JioPhone Next is said to be available in two different variants the 2 GB and 3 GB RAM paired with 16 GB and 32 GB internal storage Additionally the JioPhone Next might sport a 55inch HD display with a resolution of 720x1440 pixels and a 2500 mAh battery  The first smartphone offered by Jio is expected to have a 13megapixel rear camera and an 8megapixel shooter for selfies on the front The Jiophone Next has a polycarbonate rear panel that houses a pillshaped camera module and a LED flash The smartphone is also likely to feature a 35mm audio jack and will run on Android 11 Go Edition Further there is the option to change the language of operation of the phone with just the touch of a button'"
            ]
          },
          "metadata": {}
        },
        {
          "output_type": "stream",
          "name": "stdout",
          "text": [
            "\n"
          ]
        },
        {
          "output_type": "display_data",
          "data": {
            "application/vnd.google.colaboratory.intrinsic+json": {
              "type": "string"
            },
            "text/plain": [
              "\"India's sports poster girl Sindhu gets own special postal cover | Hyderabad News - Times of India - Times of India\""
            ]
          },
          "metadata": {}
        },
        {
          "output_type": "display_data",
          "data": {
            "application/vnd.google.colaboratory.intrinsic+json": {
              "type": "string"
            },
            "text/plain": [
              "'HYDERABAD On the occasion of National Sports Day  a special postal cover in the name of ace badminton player and Tokyo Olympics bronze medallist P V Sindhu was released by the Telangana postal department at the shuttler’s home in the city on SundayLauding Sindhu for her dedication and achievements Telangana chief postmaster general S Rajendra Kumar said “This postal cover will motivate the youth It also commemorates the success of Indian sportspersons at the Tokyo Olympics”The special cover will be available for sale at Khairatabad Head Post Office and also online at httpswwwepostofficegovinbuyGueststampsaspxThe cost of Special Cover with cancellation is Rs 50 and without cancellation Rs 45 according to a press release from the postal department'"
            ]
          },
          "metadata": {}
        },
        {
          "output_type": "stream",
          "name": "stdout",
          "text": [
            "\n"
          ]
        },
        {
          "output_type": "display_data",
          "data": {
            "application/vnd.google.colaboratory.intrinsic+json": {
              "type": "string"
            },
            "text/plain": [
              "'KCR may renew efforts for third alternative in national politics - Business Standard'"
            ]
          },
          "metadata": {}
        },
        {
          "output_type": "display_data",
          "data": {
            "application/vnd.google.colaboratory.intrinsic+json": {
              "type": "string"
            },
            "text/plain": [
              "'Telangana Chief Minister K Chandrasekhar Rao may revive his idea of a federal front and gear up to play a key role in as he is all set to lay the foundation stone for the office of Telangana Rashtra Samithi TRS in New Delhi next week  The development is not without significance and it comes at a time when Rao has just launched the Dalit Bandhu scheme which he hopes will become a torchbearer for empowerment of Dalits across the country  Looking to turn the event into a show of strength he will be leading a team of over 100 leaders to the capital All MPs of TRS state ministers state legislators and members of the party executive will attend the ceremony on September 2  The foundation stone laying ceremony has led to speculations in political circles that KCR as the TRS supremo is popularly known will formally announce his entry into the  KCRs ambition to play a key role in the national is wellknown He wants to cobble up a front with likeminded parties as an alternative to both the Bharatiya Janata Party BJP and the Congress which according to him proved to be utter flops in governing the country  Though there are still more than twoandahalf years to go for the Lok Sabha elections political analysts say may use the event to renew his efforts to forge an alternative front  Political observers say will highlight the rapid strides Telangana has made in various sectors during the last seven years He claims that the countrys youngest state has emerged as a role model for all the states in a short span of time  The development also comes at a time when has launched what he calls a revolutionary scheme for social and economic empowerment of Dalits  The regional satrap is projecting Dalit Bandhu as a model scheme and is confident that it will become a torchbearer for the upliftment of Dalits across the country  Under the scheme launched on pilot basis in the Huzurabad Assembly constituency in Karimnagar district every Dalit family will get Rs 10 lakh as grant and they will be free to choose their profession selfemployment or businesses for utilising the funds  KCR has already announced that he is ready to spend Rs 175 lakh crore on the scheme to cover all 17 lakh Dalit families in the state He believes that the scheme will be a big game changer for Dalits and eliminate social discrimination against them  The TRS chief who has been talking of providing an alternative to the BJP and the Congress for the last 34 years will put forth the successful Telangana model before the country and promise to replicate the same at the national level  TRS leaders say KCR will try to highlight how his government has delivered on various fronts in a short span of time to transform an arid region into a lush green and prosperous state  With a growth rate and per capita income higher than the national average and continuing impressive growth even during the Covid19 pandemic Telangana is already claiming to be a role model for other states  The TRS founder plans to unveil his agenda for national politics with a new economic model which will focus on farmers Analysts say that KCR will showcase at the national level his success in transforming agriculture with Rythu Bandhu an investment support scheme for farmers which is emulated by the Centre and many states  KCR has been slamming both the Congress and the BJP as storytellers who failed to give direction to the country and guide it on the right path He has been targeting them for failing to create wealth while claiming that his government succeeded in not only creating the wealth but is also distributing the same among the poor and underprivileged sections of the society  It was in 2018 that KCR had floated the idea of a front of likeminded parties as an alternative to both the BJP and the Congress  He had intensified the efforts after retaining power in Telangana in the December 2018 elections  After the massive victory in Assembly elections KCR had appointed his son KT Rama Rao as the working president of the TRS so that he can focus on national politics  He flew from one state to the other to meet leaders of various regional parties He called on West Bengal Chief Minister Mamata Banerjee and Odisha Chief Minister Naveen Patnaik Kerala Chief Minister Pinarayi Vijayan and Tamil Nadu Chief Minister MK Stalin  He also discussed the idea with HD Deve Gowda of the Janata Dal Secular in Karnataka Hemanth Soren of Jharkhand Mukti Morcha in Jharkhand Akhilesh Yadav of the Samajwadi Party in Uttar Pradesh and YS Jagan Mohan Reddy of the YSRCP in Andhra Pradesh  KCR was even seen as the potential prime ministerial candidate by his party in the event of regional parties emerging as a major bloc in the Lok Sabha  With the BJP retaining power at the Centre with a massive majority KCR had dumped the idea of a front and confined himself to the state  Last year there were reports that KCR was planning to float a national party He however clarified that there was no such proposal for now  He however did not rule out such a proposal He told a party meeting that a decision would be taken at the right time after discussions  KCRs blow hot blow cold stand on the third alternative has come under criticism from various quarters His opponents say he talks of a front only at the time of elections  During the campaign for Greater Hyderabad Municipal Corporation GHMC elections in November last year he had stated that the country definitely needs a new experiment and TRS would be in the forefront to provide the alternative  He had declared that a conclave of likeminded parties will be held in Hyderabad in December  He had also said that Hyderabad would be the epicentre of the movement against the BJP government for its antipeople antifarmer and antilabour policies and the TRS will lead the movement  However KCR adopted complete silence on the proposed front after the GHMC polls  IANS  msarmksk  Only the headline and picture of this report may have been reworked by the Business Standard staff the rest of the content is autogenerated from a syndicated feed'"
            ]
          },
          "metadata": {}
        },
        {
          "output_type": "stream",
          "name": "stdout",
          "text": [
            "\n"
          ]
        }
      ]
    },
    {
      "cell_type": "code",
      "metadata": {
        "colab": {
          "base_uri": "https://localhost:8080/",
          "height": 797
        },
        "id": "BHwWj6s6oSAB",
        "outputId": "5c10093d-2605-4c4d-f579-92658d1dfa13"
      },
      "source": [
        "results = search_dict('fever OR cold AND NOT covid')\n",
        "disp_results(results)"
      ],
      "execution_count": 42,
      "outputs": [
        {
          "output_type": "stream",
          "name": "stdout",
          "text": [
            "fever\n",
            "cold\n",
            "NOT covid\n",
            "5\n"
          ]
        },
        {
          "output_type": "display_data",
          "data": {
            "application/vnd.google.colaboratory.intrinsic+json": {
              "type": "string"
            },
            "text/plain": [
              "'Entertainment calendar - Troy Record'"
            ]
          },
          "metadata": {}
        },
        {
          "output_type": "display_data",
          "data": {
            "application/vnd.google.colaboratory.intrinsic+json": {
              "type": "string"
            },
            "text/plain": [
              "'Please email entertainment listings to entertainment518digitalfirstmediacom  This calendar is being regularly updated to reflect all event cancellations and postponements However it is recommended that readers contact event organizers before they attend For the most updated version of the calendar please visit saratogiancom or troyrecordcom  Thursday Aug 26 2021  EMPIRE LIVE 93 North Pearl St Albany Cold War Kids 7 pm empirelivealbanycom  CAFFE LENA 47 Phila St Saratoga Springs Peter Mulvey 7 pm caffelenaorg  BUTLER PARK 107 Gettle Rd Sand Lake Beatin’ The Odds 630 pm wwwtownofsandlakeus  SCHAGHTICOKE TOWN HALL 290 Northline Dr Melrose Refrigerators 630 pm townofschaghticokeorg  LIONS MUSIC PARK Iron Spring Park Front Street Ballston Spa Ballston Spa Community Jazz Band 6 pm ballstonorg  POSTPONED – THE EGG 1 Empire State Plaza Albany Nate Bargatze – Good Problem To Have 7 pm wwwtheeggorg  Friday Aug 27 2021  CAFFE LENA 47 Phila St Saratoga Springs Maeve Gilchrist 8 pm caffelenaorg  9 MAPLE AVENUE 9 Maple Ave Saratoga Springs Dylan Canterbury Quartet 9 pm  SUMMER SQUARE 30 Second St Troy Jordan Taylor Hill 6 pm wwwtroymusichallorg  SOLD OUT – SPAC 108 Avenue of The Pines Saratoga Springs Dead  Company 7 pm spacorg  Saturday Aug 28 2021  CAFFE LENA 47 Phila St Saratoga Springs Doc Severinsen and the San Miguel 5 8 pm caffelenaorg  MOHAWK HARBOR AMPHITHEATER 1 Rush St Schenectady The Lords of 52nd Street 5 pm wwwriverscasinocom  9 MAPLE AVENUE 9 Maple Ave Saratoga Springs Dave Fisk 9 pm  SUMMER SQUARE 30 Second St Troy Ryder Cooley 6 pm wwwtroymusichallorg  WOOD PARK 24 Main St Hoosick Falls West Side Drive Band 530 pm facebookcomhoosicksummerconcertseries  SPAC 108 Avenue of The Pines Saratoga Springs Lynyrd Skynyrd 645 pm spacorg  POWERS PARK 110th St and Second Ave Troy Beatin The Odds 6 pm facebookcompowersparkconcerts  POSTPONED – TIMES UNION CENTER 51 S Pearl St Albany truTV Impractical Jokers “The Scoopski Potatoes Tour” starring the Tenderloins 730 pm wwwtimesunioncenteralbanycom  Sunday Aug 29 2021  CAFFE LENA 47 Phila St Saratoga Springs Doc Severinsen and the San Miguel 5 7 pm caffelenaorg  NORTH GREENBUSH TOWN HALL PARK 2 Douglas St Wynantskill Kyle Bourgault Band 6 pm wwwtownofngcom  PITNEY MEADOWS 233 West Ave Saratoga Springs Chamber Music Society of Lincoln Center 3 and 6 pm spacorg  Monday Aug 30 2021  CAFFE LENA 47 Phila St Saratoga Springs Open Mic Night 7 pm caffelenaorg  Tuesday Aug 31 2021  CAFFE LENA 47 Phila St Saratoga Springs Storytelling Night 7 pm caffelenaorg  BRUNSWICK COMMUNITY CENTER 336 Town Office Rd Brunswick Whiskey Highway 630 pm wwwtownofbrunswickorg  Wednesday Sept 1 2021  EMPIRE LIVE 93 North Pearl St Albany Avatar 8 pm empirelivealbanycom  CAFFE LENA 47 Phila St Saratoga Springs Poetry Open Mic 7 pm caffelenaorg  Thursday Sept 2 2021  THE EGG 1 Empire State Plaza Albany Melissa Etheridge 8 pm wwwtheeggorg  BUTLER PARK 107 Gettle Rd Sand Lake Double D Trio 630 pm wwwtownofsandlakeus  Friday Sept 3 2021  9 MAPLE AVENUE 9 Maple Ave Saratoga Springs Eric Walentowicz Quartet 9 pm  POSTPONED – SPAC 108 Avenue of The Pines Saratoga Springs Matchbox 20 730 pm spacorg  Saturday Sept 4 2021  9 MAPLE AVENUE 9 Maple Ave Saratoga Springs John Savage Quartet 9 pm  Sunday Sept 5 2021  SPAC 108 Avenue of The Pines Saratoga Springs Alanis Morissette 7 pm spacorg  Wednesday Sept 8 2021  SOLD OUT – EMPIRE LIVE 93 North Pearl St Albany Dr Dog 8 pm empirelivealbanycom  Thursday Sept 9 2021  THE EGG 1 Empire State Plaza Albany Joan Osborne  Madeleine Peyroux 7 pm wwwtheeggorg  CAFFE LENA 47 Phila St Saratoga Springs Cantrip 7 pm caffelenaorg  Friday Sept 10 2021  COHOES MUSIC HALL 58 Remsen St Cohoes The Garcia Project 8 pm wwwthecohoesmusichallorg  9 MAPLE AVENUE 9 Maple Ave Saratoga Springs Pat Attanasio Quartet 9 pm  CANCELED – RIVERS CASINO 1 Rush St Schenectady Johnny Rivers 8 pm wwwriverscasinocom  IRWIN FAMILY FARM 33 Irwin Rd Salem Eastbound Throwdown noon wwweastboundthrowdowncom  CAFFE LENA 47 Phila St Saratoga Springs Chris Smither 8 pm caffelenaorg  Saturday Sept 11 2021  COHOES MUSIC HALL 58 Remsen St Cohoes The Low Dough Rock ‘n Roll Show 630 pm wwwthecohoesmusichallorg  EMPIRE LIVE 93 North Pearl St Albany The Emo Night Tour 8 pm empirelivealbanycom  9 MAPLE AVENUE 9 Maple Ave Saratoga Springs Matt Niedbalski Quartet 9 pm  CAFFE LENA 47 Phila St Saratoga Springs Alisa Amador 8 pm caffelenaorg  IRWIN FAMILY FARM 33 Irwin Rd Salem Eastbound Throwdown noon wwweastboundthrowdowncom  Sunday Sept 12 2021  SPAC 108 Avenue of The Pines Saratoga Springs Outlaw Music Festival with Willie Nelson  Family Sturgill Simpson Gov’t Mule and Margo Price 515 pm spacorg  Monday Sept 13 2021  EMPIRE LIVE 93 North Pearl St Albany Sevendust 630 pm empirelivealbanycom  CAFFE LENA 47 Phila St Saratoga Springs Open Mic Night 7 pm caffelenaorg  SPAC 108 Avenue of The Pines Saratoga Springs Maroon 5 7 pm spacorg  CANCELED – PALACE THEATRE 19 Clinton Ave Albany Cody Jinks 7 pm palacealbanyorg  Tuesday Sept 14 2021  EMPIRE LIVE 93 North Pearl St Albany Gogol Bordello 8 pm empirelivealbanycom  SPAC 108 Avenue of The Pines Saratoga Springs The Black Crowes 730 pm spacorg  Wednesday Sept 15 2021  COHOES MUSIC HALL 58 Remsen St Cohoes The Sweet Remains 8 pm wwwthecohoesmusichallorg  EMPIRE LIVE 93 North Pearl St Albany Skillet 7 pm empirelivealbanycom  CAFFE LENA 47 Phila St Saratoga Springs Bluegrass Jam 7 pm caffelenaorg  THE EGG 1 Empire State Plaza Albany Todd Snider 8 pm wwwtheeggorg  PALACE THEATRE 19 Clinton Ave Albany Straight No Chaser 730 pm palacealbanyorg  Thursday Sept 16 2021  THE EGG 1 Empire State Plaza Albany Louis CK 730 pm wwwtheeggorg  THE EGG 1 Empire State Plaza Albany Molly Tuttle 8 pm wwwtheeggorg  CAFFE LENA 47 Phila St Saratoga Springs Matthew Fowler 7 pm caffelenaorg  BUTLER PARK 107 Gettle Rd Sand Lake The Refrigerators 630 pm wwwtownofsandlakeus  Friday Sept 17 2021  COHOES MUSIC HALL 58 Remsen St Cohoes Simon  Garfunkel Songbook Show presented by Aztec TwoStep 20 with narration by Tony Traguardo 8 pm wwwthecohoesmusichallorg  THE EGG 1 Empire State Plaza Albany Peter Bernstein – Larry Goldings – Bill Stewart Trio 8 pm wwwtheeggorg  EMPIRE LIVE 93 North Pearl St Albany Tyler Farr 8 pm empirelivealbanycom  9 MAPLE AVENUE 9 Maple Ave Saratoga Springs Steve Lambert Quartet 9 pm  CAFFE LENA 47 Phila St Saratoga Springs Bill Staines 8 pm caffelenaorg  SPAC 108 Avenue of The Pines Saratoga Springs Dave Matthews Band 730 pm spacorg  CANCELED – SPAC 108 Avenue of The Pines Saratoga Springs Australian Pink Floyd Show 8 pm spacorg  Saturday Sept 18 2021  COHOES MUSIC HALL 58 Remsen St Cohoes Forever Seger The Silver Bullet Experience 8 pm wwwthecohoesmusichallorg  THE EGG 1 Empire State Plaza Albany Kaki King ‘Modern Yesterdays’ 8 pm wwwtheeggorg  EMPIRE LIVE 93 North Pearl St Albany Blunts  Blondes 8 pm empirelivealbanycom  9 MAPLE AVENUE 9 Maple Ave Saratoga Springs Michael Benedict Jazz Vibes 9 pm  CAFFE LENA 47 Phila St Saratoga Springs Heather Maloney 8 pm caffelenaorg  SPAC 108 Avenue of The Pines Saratoga Springs Dave Matthews Band 730 pm spacorg  Sunday Sept 19 2021  CAFFE LENA 47 Phila St Saratoga Springs The Empty Pockets 7 pm caffelenaorg  SPAC 108 Avenue of The Pines Saratoga Springs Flogging MollyViolent Femmes 630 pm spacorg  Monday Sept 20 2021  CAFFE LENA 47 Phila St Saratoga Springs Open Mic Night 7 pm caffelenaorg  Tuesday Sept 21  CAFFE LENA 47 Phila St Saratoga Springs Rochmon Record Club Paul Simon – Graceland 7 pm caffelenaorg  Wednesday Sept 22 2021  POSTPONED – THE EGG 1 Empire State Plaza Albany Robin Trower 8 pm wwwtheeggorg  Thursday Sept 23 2021  THE EGG 1 Empire State Plaza Albany Jo Koy Just Kidding World Tour 8 pm wwwtheeggorg  PALACE THEATRE 19 Clinton Ave Albany AJR 730 pm palacealbanyorg  CAFFE LENA 47 Phila St Saratoga Springs Old Blind Dogs 7 pm caffelenaorg  Friday Sept 24 2021  COHOES MUSIC HALL 58 Remsen St Cohoes The THE BAND Band 8 pm wwwthecohoesmusichallorg  THE EGG 1 Empire State Plaza Albany The Milk Carton Kids 730 pm wwwtheeggorg  THE EGG 1 Empire State Plaza Albany Jo Koy Just Kidding World Tour 8 pm wwwtheeggorg  9 MAPLE AVENUE 9 Maple Ave Saratoga Springs George Muscatello Group 9 pm  CAFFE LENA 47 Phila St Saratoga Springs Shamar Allen  the Underdawgs 8 pm caffelenaorg  Saturday Sept 25 2021  COHOES MUSIC HALL 58 Remsen St Cohoes Dana Fuchs 8 pm wwwthecohoesmusichallorg  THE EGG 1 Empire State Plaza Albany Five for Fighting With String Quartet 8 pm wwwtheeggorg  9 MAPLE AVENUE 9 Maple Ave Saratoga Springs Pete Sweeney Trio 9 pm  CAFFE LENA 47 Phila St Saratoga Springs Don Armstrong with Liz Cerepanya  Pete Ronstadt 8 pm caffelenaorg  Sunday Sept 26 2021  THE EGG 1 Empire State Plaza Albany Los Lobos 7 pm wwwtheeggorg  CAFFE LENA 47 Phila St Saratoga Springs Gary Louris 7 pm caffelenaorg  Monday Sept 27 2021  CAFFE LENA 47 Phila St Saratoga Springs Open Mic Night 7 pm caffelenaorg  Tuesday Sept 28 2021  EMPIRE LIVE 93 North Pearl St Albany Orville Peck 8 pm empirelivealbanycom  SPAC 108 Avenue of The Pines Saratoga Springs The Jonas Brothers 7 pm spacorg  Wednesday Sept 29 2021  CAFFE LENA 47 Phila St Saratoga Springs Scott Cook 730 pm caffelenaorg  Thursday Sept 30 2021  CAFFE LENA 47 Phila St Saratoga Springs Corey Harris 7 pm caffelenaorg  THE EGG 1 Empire State Plaza Albany The Mersey Beatles – Four Lads from Liverpool 730 pm wwwtheeggorg  Friday Oct 1 2021  THE EGG 1 Empire State Plaza Albany Stephen Lynch 8 pm wwwtheeggorg  EMPIRE LIVE 93 North Pearl St Albany Clutch 8 pm empirelivealbanycom  EMPIRE LIVE 93 North Pearl St Albany Hail the Sun 7 pm empirelivealbanycom  CAFFE LENA 47 Phila St Saratoga Springs Roomful of Blues 8 pm caffelenaorg  TROY SAVINGS BANK MUSIC HALL 30 Second St Troy Mary Chapin Carpenter Marc Cohn and Shawn Colvin 8 pm troymusichallorg  Saturday Oct 2 2021  EMPIRE LIVE 93 North Pearl St Albany Quicksand 8 pm empirelivealbanycom  CAFFE LENA 47 Phila St Saratoga Springs Little Folks Show with The Way Down Wanderers 3 pm caffelenaorg  CAFFE LENA 47 Phila St Saratoga Springs The Way Down Wanderers 8 pm caffelenaorg  Sunday Oct 3 2021  COHOES MUSIC HALL 58 Remsen St Cohoes Carla Bonoff 8 pm wwwthecohoesmusichallorg  EMPIRE LIVE 93 North Pearl St Albany Attila 7 pm empirelivealbanycom  CAFFE LENA 47 Phila St Saratoga Springs Alasdair Fraser and Natalie Haas 7 pm caffelenaorg  TROY SAVINGS BANK MUSIC HALL 30 Second St Troy Sara Evans 730 pm troymusichallorg  SPAC 108 Avenue of The Pines Saratoga Springs Zac Brown Band 7 pm spacorg  Monday Oct 4 2021  CAFFE LENA 47 Phila St Saratoga Springs Open Mic Night 7 pm caffelenaorg  Wednesday Oct 6 2021  CAFFE LENA 47 Phila St Saratoga Springs Poetry Open Mic 7 pm caffelenaorg  Thursday Oct 7 2021  CAFFE LENA 47 Phila St Saratoga Springs Nefesh Mountain 7 pm caffelenaorg  EMPIRE LIVE 93 North Pearl St Albany Jake Miller 7 pm empirelivealbanycom  Friday Oct 8 2021  COHOES MUSIC HALL 58 Remsen St Cohoes Joe Louis Walker 8 pm wwwthecohoesmusichallorg  EMPIRE LIVE 93 North Pearl St Albany Black Stone Cherry 8pm empirelivealbanycom  CAFFE LENA 47 Phila St Saratoga Springs Ellis Paul 8 pm caffelenaorg  TROY SAVINGS BANK MUSIC HALL 30 Second St Troy The High Kings 8 pm troymusichallorg  Saturday Oct 9 2021  CAFFE LENA 47 Phila St Saratoga Springs Maswick and Brown 8 pm caffelenaorg  Sunday Oct 10 2021  TROY SAVINGS BANK MUSIC HALL 30 Second St Troy Whose Live Anyway 730 pm troymusichallorg  CAFFE LENA 47 Phila St Saratoga Springs Dirck Toll What You Burn Is What You Breathe 2 pm caffelenaorg  CAFFE LENA 47 Phila St Saratoga Springs Erin McKeown 7 pm caffelenaorg  TIMES UNION CENTER 51 S Pearl St Albany Dude Perfect 2020 Tour 5 pm wwwtimesunioncenteralbanycom  Tuesday Oct 12 2021  EMPIRE LIVE 93 North Pearl St Albany The Struts 8pm empirelivealbanycom  CAFFE LENA 47 Phila St Saratoga Springs Jigjam 7 pm caffelenaorg  PALACE THEATRE 19 Clinton Ave Albany Brian Wilson – Greatest Hits Live 8 pm palacealbanyorg  Wednesday Oct 13 2021  PROCTORS 432 State St Schenectady The Right Girl 730 pm wwwproctorsorg  Thursday Oct 14 2021  EMPIRE LIVE 93 North Pearl St Albany Larkin Poe 8pm empirelivealbanycom  PROCTORS 432 State St Schenectady The Right Girl 730 pm wwwproctorsorg  CAFFE LENA 47 Phila St Saratoga Springs Steve Forbert 7 pm caffelenaorg  Friday Oct 15 2021  THE EGG 1 Empire State Plaza Albany Jake Shimabukuro 8 pm wwwtheeggorg  CAFFE LENA 47 Phila St Saratoga Springs Chance McCoy 8 pm caffelenaorg  PROCTORS 432 State St Schenectady The Right Girl 730 pm wwwproctorsorg  PALACE THEATRE 19 Clinton Ave Albany Chelsea Handler 7 pm palacealbanyorg  TROY SAVINGS BANK MUSIC HALL 30 Second St Troy Gregory Alan Isakov  Patty Griffin 8 pm troymusichallorg  Saturday Oct 16 2021  COHOES MUSIC HALL 58 Remsen St Cohoes Rock of Ages The Def Leppard Tribute 8 pm wwwthecohoesmusichallorg  THE EGG 1 Empire State Plaza Albany Loudon Wainwright III 8 pm wwwtheeggorg  CAFFE LENA 47 Phila St Saratoga Springs Peter Yarrow 8 pm caffelenaorg  PROCTORS 432 State St Schenectady The Right Girl 730 pm wwwproctorsorg  TROY SAVINGS BANK MUSIC HALL 30 Second St Troy Chris Thile 8 pm troymusichallorg  Sunday Oct 17 2021  CAFFE LENA 47 Phila St Saratoga Springs Peter Yarrow 1 pm caffelenaorg  PROCTORS 432 State St Schenectady The Right Girl 2 pm wwwproctorsorg  TROY SAVINGS BANK MUSIC HALL 30 Second St Troy Ben Folds 730 pm troymusichallorg  Monday Oct 18 2021  THE EGG 1 Empire State Plaza Albany Indigo Girls 8 pm wwwtheeggorg  CAFFE LENA 47 Phila St Saratoga Springs Open Mic Night 7 pm caffelenaorg  Tuesday Oct 19 2021  PROCTORS 432 State St Schenectady The Right Girl 730 pm wwwproctorsorg  Wednesday Oct 20 2021  EMPIRE LIVE 93 North Pearl St Albany Danny Duncan 8pm empirelivealbanycom  CAFFE LENA 47 Phila St Saratoga Springs Bluegrass Jam 7 pm caffelenaorg  PROCTORS 432 State St Schenectady The Right Girl 730 pm wwwproctorsorg  Thursday Oct 21 2021  THE EGG 1 Empire State Plaza Albany Kyle Kinane 8 pm wwwtheeggorg  EMPIRE LIVE 93 North Pearl St Albany Caroline Rose 8pm empirelivealbanycom  CAFFE LENA 47 Phila St Saratoga Springs Andy Cohen 7 pm caffelenaorg  PROCTORS 432 State St Schenectady The Right Girl 730 pm wwwproctorsorg  TROY SAVINGS BANK MUSIC HALL 30 Second St Troy Chanticleer 730 pm  PALACE THEATRE 19 Clinton Ave Albany Comedian Gabriel Iglesias 8 pm palacealbanyorg  Friday Oct 22 2021  COHOES MUSIC HALL 58 Remsen St Cohoes Pink Talking Fish 8 pm wwwthecohoesmusichallorg  THE EGG 1 Empire State Plaza Albany Rennie Harris Puremovement 8 pm wwwtheeggorg  CAFFE LENA 47 Phila St Saratoga Springs Slaid Cleaves 8 pm caffelenaorg  PROCTORS 432 State St Schenectady The Right Girl 730 pm wwwproctorsorg  TROY SAVINGS BANK MUSIC HALL 30 Second St Troy Howie Mandel 8 pm troymusichallorg  PALACE THEATRE 19 Clinton Ave Albany Comedian Gabriel Iglesias 8 pm palacealbanyorg  Saturday Oct 23 2021  PROCTORS 432 State St Schenectady The Right Girl 730 pm wwwproctorsorg  CAFFE LENA 47 Phila St Saratoga Springs Will Hoge 8 pm caffelenaorg  Sunday Oct 24 2021  THE EGG 1 Empire State Plaza Albany Robyn Hitchcock 7 pm wwwtheeggorg  THE EGG 1 Empire State Plaza Albany Three Dog Night 8 pm wwwtheeggorg  CAFFE LENA 47 Phila St Saratoga Springs Damn Tall Buildings 7 pm caffelenaorg  PROCTORS 432 State St Schenectady The Right Girl 2 pm wwwproctorsorg  Monday Oct 25 2021  CAFFE LENA 47 Phila St Saratoga Springs Open Mic Night 7 pm caffelenaorg  ALBANY CAPITAL CENTER 55 Eagle St Albany Gojira 7 pm empirelivealbanycom  Tuesday Oct 26 2021  EMPIRE LIVE 93 North Pearl St Albany Mannequin Pussy 8 pm empirelivealbanycom  PROCTORS 432 State St Schenectady The Right Girl 730 pm wwwproctorsorg  Wednesday Oct 27 2021  EMPIRE LIVE 93 North Pearl St Albany Andrew McMahon 8 pm empirelivealbanycom  PROCTORS 432 State St Schenectady The Right Girl 730 pm wwwproctorsorg  Thursday Oct 28 2021  CAFFE LENA 47 Phila St Saratoga Springs Sten and Maria Z 7 pm caffelenaorg  PROCTORS 432 State St Schenectady The Right Girl 730 pm wwwproctorsorg  TROY SAVINGS BANK MUSIC HALL 30 Second St Troy Postmodern Jukebox 730 pm troymusichallorg  COHOES MUSIC HALL 58 Remsen St Cohoes Tab Benoit 8 pm wwwthecohoesmusichallorg  Friday Oct 29 2021  THE EGG 1 Empire State Plaza Albany Darlingside 8 pm wwwtheeggorg  CAFFE LENA 47 Phila St Saratoga Springs Eilen Jewell and Jerry Miller 8 pm caffelenaorg  PROCTORS 432 State St Schenectady The Right Girl 730 pm wwwproctorsorg  COHOES MUSIC HALL 58 Remsen St Cohoes Into the Mystic The Van Morrison Experience 8 pm wwwthecohoesmusichallorg  Saturday Oct 30 2021  THE EGG 1 Empire State Plaza Albany Enter The Haggis 8 pm wwwtheeggorg  EMPIRE LIVE 93 North Pearl St Albany August Burns Red 7 pm empirelivealbanycom  CAFFE LENA 47 Phila St Saratoga Springs Professor Louie and the Crowmatix 8 pm caffelenaorg  PROCTORS 432 State St Schenectady The Right Girl 730 pm wwwproctorsorg  TROY SAVINGS BANK MUSIC HALL 30 Second St Troy The World Famous Glenn Miller Orchestra 730 pm troymusichallorg  PALACE THEATRE 19 Clinton Ave Albany Brothers Osborne 730 pm palacealbanyorg  Sunday Oct 31 2021  PROCTORS 432 State St Schenectady The Right Girl 2 pm wwwproctorsorg  Monday Nov 1 2021  CAFFE LENA 47 Phila St Saratoga Springs Open Mic Night 7 pm caffelenaorg  Tuesday Nov 2 2021  CAFFE LENA 47 Phila St Saratoga Springs Kathy Mattea 5 and 8 pm caffelenaorg  PROCTORS 432 State St Schenectady The Right Girl 730 pm wwwproctorsorg  Wednesday Nov 3 2021  EMPIRE LIVE 93 North Pearl St Albany Grayscale 7 pm empirelivealbanycom  CAFFE LENA 47 Phila St Saratoga Springs Poetry Night 7 pm caffelenaorg  PROCTORS 432 State St Schenectady The Right Girl 730 pm wwwproctorsorg  Thursday Nov 4 2021  CAFFE LENA 47 Phila St Saratoga Springs Grain Theif 7 pm caffelenaorg  PROCTORS 432 State St Schenectady The Right Girl 730 pm wwwproctorsorg  Friday Nov 5 2021  COHOES MUSIC HALL 58 Remsen St Cohoes North Mississippi Allstars 8 pm wwwthecohoesmusichallorg  THE EGG 1 Empire State Plaza Albany Almost Queen 8 pm wwwtheeggorg  EMPIRE LIVE 93 North Pearl St Albany Black Label Society 8 pm empirelivealbanycom  CAFFE LENA 47 Phila St Saratoga Springs The Blues Project 8 pm caffelenaorg  PROCTORS 432 State St Schenectady The Right Girl 730 pm wwwproctorsorg  Saturday Nov 6 2021  THE EGG 1 Empire State Plaza Albany Dustbowl Revival 730 pm wwwtheeggorg  THE EGG 1 Empire State Plaza Albany Al Franken 8 pm wwwtheeggorg  CAFFE LENA 47 Phila St Saratoga Springs Duke Robillard Band 8 pm caffelenaorg  PROCTORS 432 State St Schenectady The Right Girl 730 pm wwwproctorsorg  TROY SAVINGS BANK MUSIC HALL 30 Second St Troy Yonder Mountain String Band 8 pm troymusichallorg  Sunday Nov 7 2021  THE EGG 1 Empire State Plaza Albany Tanya Tucker 8 pm wwwtheeggorg  CAFFE LENA 47 Phila St Saratoga Springs Jim Kweskin and Happy Traum 7 pm caffelenaorg  PROCTORS 432 State St Schenectady The Right Girl 2 pm wwwproctorsorg  Monday Nov 8 2021  CAFFE LENA 47 Phila St Saratoga Springs Open Mic Night 7 pm caffelenaorg  Tuesday Nov 9 2021  EMPIRE LIVE 93 North Pearl St Albany Samantha Fish 8 pm empirelivealbanycom  TROY SAVINGS BANK MUSIC HALL 30 Second St TroyThe Wailin’ Jennys 730 pm troymusichallorg  PROCTORS 432 State St Schenectady The Right Girl 730 pm wwwproctorsorg  CANCELED – UPSTATE CONCERT HALL 93 North Pearl St Albany Nile 7 pm upstateconcerthallcom  Wednesday Nov 10 2021  CAFFE LENA 47 Phila St Saratoga Springs William Wild 7 pm caffelenaorg  PROCTORS 432 State St Schenectady The Right Girl 730 pm wwwproctorsorg  Thursday Nov 11 2021  THE EGG 1 Empire State Plaza Albany Theo Von 7 and 930 pm wwwtheeggorg  THE EGG 1 Empire State Plaza Albany Jane Monheit 730 pm wwwtheeggorg  EMPIRE LIVE 93 North Pearl St Albany TECH N9NE 8 pm empirelivealbanycom  CAFFE LENA 47 Phila St Saratoga Springs Karrin Allyson 7 pm caffelenaorg  Friday Nov 12 2021  COHOES MUSIC HALL 58 Remsen St Cohoes Significant Other 8 pm wwwthecohoesmusichallorg  THE EGG 1 Empire State Plaza Albany Pilobolus 8 pm wwwtheeggorg  CAFFE LENA 47 Phila St Saratoga Springs David Ryan Harris 7 pm caffelenaorg  Saturday Nov 13 2021  CAFFE LENA 47 Phila St Saratoga Springs Yasmin Williams 8 pm caffelenaorg  PALACE THEATRE 19 Clinton Ave Albany The Flaming Lips 8 pm palacealbanyorg  Sunday Nov 14 2021  EMPIRE LIVE 93 North Pearl St Albany Dying Fetus 7 pm empirelivealbanycom  CAFFE LENA 47 Phila St Saratoga Springs Mile 12 7 pm caffelenaorg  TROY SAVINGS BANK MUSIC HALL 30 Second St Troy An Evening with CS Lewis Starring British Actor David Payne 3 pm troymusichallorg  Monday Nov 15 2021  CAFFE LENA 47 Phila St Saratoga Springs Open Mic Night 7 pm caffelenaorg  Tuesday Nov 16 2021  THE EGG 1 Empire State Plaza Albany Little Feat 730 pm wwwtheeggorg  Wednesday Nov 17 2021  THE EGG 1 Empire State Plaza Albany Kenny Wayne Shepherd 8 pm wwwtheeggorg  EMPIRE LIVE 93 North Pearl St Albany Theory of a Deadman 8 pm empirelivealbanycom  CAFFE LENA 47 Phila St Saratoga Springs Bluegrass Jam 7 pm caffelenaorg  Thursday Nov 18 2021  CAFFE LENA 47 Phila St Saratoga Springs The Reverend Peyton’s Big Damn Band 6  830 pm caffelenaorg  TROY SAVINGS BANK MUSIC HALL 30 Second St Troy The Lone Bellow 730 pm troymusichallorg  Friday Nov 19 2021  CAFFE LENA 47 Phila St Saratoga Springs Darryl Scott 7 pm caffelenaorg  TROY SAVINGS BANK MUSIC HALL 30 Second St Troy Pat Metheny SideEye 8 pm troymusichallorg  Saturday Nov 20 2021  THE EGG 1 Empire State Plaza Albany The Del McCoury Band 730 pm wwwtheeggorg  EMPIRE LIVE 93 North Pearl St Albany The Psychedelic Furs 8 pm empirelivealbanycom  CAFFE LENA 47 Phila St Saratoga Springs Jake Blount 8 pm caffelenaorg  PALACE THEATRE 19 Clinton Ave Albany Joan Jett and the Blackhearts 8 pm palacealbanyorg  Sunday Nov 21 2021  THE EGG 1 Empire State Plaza Albany George Winston 7 pm wwwtheeggorg  Monday Nov 22 2021  EMPIRE LIVE 93 North Pearl St Albany Atreyu 6 pm empirelivealbanycom  CAFFE LENA 47 Phila St Saratoga Springs Open Mic Night 7 pm caffelenaorg  Wednesday Nov 24 2021  PALACE THEATRE 19 Clinton Ave Albany The Elf on the Shelf The Musical 6 pm palacealbanyorg  Friday Nov 26 2021  CAFFE LENA 47 Phila St Saratoga Springs Scott Glier 8 pm caffelenaorg  Sunday Nov 28 2021  CAFFE LENA 47 Phila St Saratoga Springs John Pizzarelli 5 and 8 pm caffelenaorg  Monday Nov 29 2021  CAFFE LENA 47 Phila St Saratoga Springs Open Mic Night 7 pm caffelenaorg  Wednesday Dec 1 2021  COHOES MUSIC HALL 58 Remsen St Cohoes The Edward Twins Present A Holiday Evening with Cher Neil Diamond Dolly Parton Andrea Bocelli Barbra Streisand  many more 8 pm wwwthecohoesmusichallorg  THE EGG 1 Empire State Plaza Albany Hot Tuna 7 pm wwwtheeggorg  Friday Dec 3 2021  COHOES MUSIC HALL 58 Remsen St Cohoes The Journey Experience Played by LEGEND 8 pm wwwthecohoesmusichallorg  Saturday Dec 4 2021  COHOES MUSIC HALL 58 Remsen St Cohoes KISStory 8 pm wwwthecohoesmusichallorg  THE EGG 1 Empire State Plaza Albany David Bromberg Big Band 730 pm wwwtheeggorg  Sunday Dec 5 2021  THE EGG 1 Empire State Plaza Albany Richard Thompson 730 pm wwwtheeggorg  Tuesday Dec 7 2021  TROY SAVINGS BANK MUSIC HALL 30 Second St Troy Cherish the Ladies ‘Celtic Christmas’ 730 pm troymusichallorg  PROCTORS 432 State St Schenectady Summer The Donna Summer Musical 730 pm wwwproctorsorg  Wednesday Dec 8 2021  PROCTORS 432 State St Schenectady Summer The Donna Summer Musical 730 pm wwwproctorsorg  Thursday Dec 9 2021  THE EGG 1 Empire State Plaza Albany Billy Prine’s Songs  Stories of John Prine 730 pm wwwtheeggorg  PROCTORS 432 State St Schenectady Summer The Donna Summer Musical 130 and 8 pm wwwproctorsorg  Friday Dec 10 2021  CAFFE LENA 47 Phila St Saratoga Springs Dirty Grass Players 8 pm caffelenaorg  PROCTORS 432 State St Schenectady Summer The Donna Summer Musical 8 pm wwwproctorsorg  THE EGG 1 Empire State Plaza Albany DeVotchKa 730 pm wwwtheeggorg  Saturday Dec 11 2021  EMPIRE LIVE 93 North Pearl St Albany Silverstein 7 pm empirelivealbanycom  PROCTORS 432 State St Schenectady Summer The Donna Summer Musical 2 and 8 pm wwwproctorsorg  THE EGG 1 Empire State Plaza Albany Albert Cummings 8 pm wwwtheeggorg  Sunday Dec 12 2021  THE EGG 1 Empire State Plaza AlbanyPuddles Pity Party 8 pm wwwtheeggorg  PROCTORS 432 State St Schenectady Summer The Donna Summer Musical 2 pm wwwproctorsorg  Friday Dec 17 2021  PALACE THEATRE 19 Clinton Ave Albany Trailer Park Boys 20th Anniversary Sunnyvale Xmas 8 pm palacealbanyorg  Saturday Dec 18 2021  THE EGG 1 Empire State Plaza Albany The McKrells Holiday Concert 8 pm wwwtheeggorg  Sunday Dec 19 2021  THE EGG 1 Empire State Plaza Albany Bill Charlap Trio 8 pm wwwtheeggorg  Friday Jan 14 2022  COHOES MUSIC HALL 58 Remsen St Cohoes Broken Hearted Tom Petty Tribute Band 8 pm wwwthecohoesmusichallorg  Sunday Jan 23 2022  EMPIRE LIVE 93 North Pearl St Albany Dark Side of The Moon 50th Anniversary Tour Featuring the Gilmour Project 8 pm empirelivealbanycom  Tuesday Jan 25 2022  PROCTORS 432 State St Schenectady Come From Away 730 pm wwwproctorsorg  Wednesday Jan 26 2022  PROCTORS 432 State St Schenectady Come From Away 730 pm wwwproctorsorg  Thursday Jan 27 2022  PROCTORS 432 State St Schenectady Come From Away 130 and 8 pm wwwproctorsorg  Friday Jan 28 2022  PROCTORS 432 State St Schenectady Come From Away 8 pm wwwproctorsorg  Saturday Jan 29 2022  PROCTORS 432 State St Schenectady Come From Away 2 and 8 pm wwwproctorsorg  Sunday Jan 30 2022  PROCTORS 432 State St Schenectady Come From Away 2 pm wwwproctorsorg  Tuesday Feb 8 2022  PALACE THEATRE 19 Clinton Ave Albany Letterkenny Live On Tour 8 pm palacealbanyorg  Friday Feb 11 2022  THE EGG 1 Empire State Plaza Albany Tito Cheeto Tour – Andrew Santino Live 730 pm wwwtheeggorg  THE EGG 1 Empire State Plaza Albany Gaelic Storm 8 pm wwwtheeggorg  Wednesday Feb 23 2022  EMPIRE LIVE 93 North Pearl St Albany Circa Survive 7 pm empirelivealbanycom  Thursday Feb 24 2022  PALACE THEATRE 19 Clinton Ave Albany Tom Segura 8 pm palacealbanyorg  Friday Feb 25 2022  THE EGG 1 Empire State Plaza Albany Bruce Cockburn 730 pm wwwtheeggorg  THE EGG 1 Empire State Plaza Albany New York Theatre Ballet 8 pm wwwtheeggorg  Saturday Feb 26 2022  THE EGG 1 Empire State Plaza Albany Natalie MacMaster  Donnell Leahy 730 pm wwwtheeggorg  Friday March 11 2022  THE EGG 1 Empire State Plaza Albany Mark Morris Dance Group 8 pm wwwtheeggorg  Wednesday March 16 2022  THE EGG 1 Empire State Plaza Albany Wishbone Ash 730 pm wwwtheeggorg  Saturday March 19 2022  PROCTORS 432 State St Schenectady Celtic Woman 730 pm wwwproctorsorg  Tuesday March 22 2022  PROCTORS 432 State St Schenectady Dear Evan Hansen 730 pm wwwproctorsorg  Wednesday March 23 2022  PROCTORS 432 State St Schenectady Dear Evan Hansen 730 pm wwwproctorsorg  Thursday March 24 2022  PROCTORS 432 State St Schenectady Dear Evan Hansen 130 and 8 pm wwwproctorsorg  THE EGG 1 Empire State Plaza Albany The Allman Betts Band 8 pm wwwtheeggorg  Friday March 25 2022  PROCTORS 432 State St Schenectady Dear Evan Hansen 8 pm wwwproctorsorg  Saturday March 26 2022  PROCTORS 432 State St Schenectady Dear Evan Hansen 2 and 8 pm wwwproctorsorg  Sunday March 27 2022  PROCTORS 432 State St Schenectady Dear Evan Hansen 2 pm wwwproctorsorg  Tuesday April 5 2022  THE EGG 1 Empire State Plaza Albany Tommy Emmanuel 8 pm wwwtheeggorg  Friday April 8 2022  THE EGG 1 Empire State Plaza Albany Béla Fleck  The Flecktones 730 pm wwwtheeggorg  Sunday April 10 2022  THE EGG 1 Empire State Plaza Albany Zakir Hussain – TRIVENI 3 pm wwwtheeggorg  Wednesday April 13 2022  THE EGG 1 Empire State Plaza Albany Chris Hillman 730 pm wwwtheeggorg  Thursday April 14 2022  CAFFE LENA 47 Phila St Saratoga Springs Janis Ian 7 pm caffelenaorg  Friday April 15 2022  CAFFE LENA 47 Phila St Saratoga Springs Janis Ian 8 pm caffelenaorg  Saturday April 16 2022  CAFFE LENA 47 Phila St Saratoga Springs Janis Ian 8 pm caffelenaorg  Wednesday April 20 2022  THE EGG 1 Empire State Plaza Albany Robin Trower 8 pm wwwtheeggorg  Friday April 22 2022  THE EGG 1 Empire State Plaza Albany Garth Fagan Dance 8 pm wwwtheeggorg  Sunday April 24 2022  THE EGG 1 Empire State Plaza Albany Eric Johnson Treasure Tour 730 pm wwwtheeggorg  Wednesday April 27 2022  TROY SAVINGS BANK MUSIC HALL 30 Second St Troy Amir ElSaffar’s Rivers of Sound Orchestra 730 pm troymusichallorg  Thursday April 28 2022  PROCTORS 432 State St Schenectady Neil Gaiman 730 pm wwwproctorsorg  Friday April 29 2022  TIMES UNION CENTER 51 S Pearl St Albany truTV Impractical Jokers “The Scoopski Potatoes Tour” starring the Tenderloins 730 pm wwwtimesunioncenteralbanycom  Saturday April 30 2022  PROCTORS 432 State St Schenectady Golden Oldies Spectacular 7 pm wwwproctorsorg  Sunday May 1 2022  THE EGG 1 Empire State Plaza Albany Nate Bargatze – Good Problem To Have 7 pm wwwtheeggorg  Tuesday May 3 2022  THE EGG 1 Empire State Plaza Albany Shawn Colvin Steady On 30th Anniversary Tour 730 pm wwwtheeggorg  PROCTORS 432 State St Schenectady Cats 730 pm wwwproctorsorg  Wednesday May 4 2022  PROCTORS 432 State St Schenectady Cats 730 pm wwwproctorsorg  Thursday May 5 2022  PROCTORS 432 State St Schenectady Cats 130 and 8 pm wwwproctorsorg  Friday May 6 2022  PROCTORS 432 State St Schenectady Cats 8 pm wwwproctorsorg  Saturday May 7 2022  PROCTORS 432 State St Schenectady Cats 2 and 8 pm wwwproctorsorg  Sunday May 8 2022  PROCTORS 432 State St Schenectady Cats 2 pm wwwproctorsorg  Friday May 13 2022  TROY SAVINGS BANK MUSIC HALL 30 Second StTroy The Moth 8 pm troymusichallorg  Saturday May 14 2022  THE EGG 1 Empire State Plaza Albany Ellen Sinopoli Dance Company 8 pm wwwtheeggorg  Sunday May 15 2022  THE EGG 1 Empire State Plaza Albany Mutts Gone Nuts 3 pm wwwtheeggorg  Thursday June 16 2022  SPAC 108 Avenue of The Pines Saratoga Springs The Doobie Brothers 730 pm spacorg  Tuesday June 21 2022  SPAC 108 Avenue of The Pines Saratoga Springs Steely Dan with Steve Winwood 730 pm spacorg  Sunday July 3 2022  SPAC 108 Avenue of The Pines Saratoga Springs Tedeschi Trucks Band 7 pm spacorg  Wednesday July 20 2022  TIMES UNION CENTER 51 S Pearl St Albany Roger Waters 7 pm wwwtimesunioncenteralbanycom  Friday July 22 2022  SPAC 108 Avenue of The Pines Saratoga Springs Rod Stewart 730 pm spacorg  Saturday July 23 2022  SPAC 108 Avenue of The Pines Saratoga Springs Backstreet Boys 730 pm spacorg  Sunday July 31 2022  SPAC 108 Avenue of The Pines Saratoga Springs Matchbox Twenty 730 pm spacorg'"
            ]
          },
          "metadata": {}
        },
        {
          "output_type": "stream",
          "name": "stdout",
          "text": [
            "\n"
          ]
        },
        {
          "output_type": "display_data",
          "data": {
            "application/vnd.google.colaboratory.intrinsic+json": {
              "type": "string"
            },
            "text/plain": [
              "'Living space and health: Does urban design affect our health? - Medical News Today'"
            ]
          },
          "metadata": {}
        },
        {
          "output_type": "display_data",
          "data": {
            "application/vnd.google.colaboratory.intrinsic+json": {
              "type": "string"
            },
            "text/plain": [
              "'Urban and housing design has intimate connections to health Poor design choices can worsen health with underlying issues of inequality a driving factor Share on Pinterest Where we live and the design of our living spaces have a significant impact on health Andrew ThomasGetty Images Article 25 of the Universal Declaration of Human Rights states “Everyone has the right to a standard of living adequate for the health and wellbeing of himself and of his family” This includes housing food clothing medical care social services and security if events beyond a person’s control affect their livelihood Researchers have shown that adequate housing has intimate links to a person’s physical and mental wellbeing According to the Executive Summary of the World Health Organization’s WHO Housing and Health Guidelines  poorly designed housing can increase the risk of trips falls injury isolation and stress for older people or people with disabilities Further insecure or unaffordable housing can exacerbate stress Housing that is too hot or cold or exacerbates indoor air pollution can cause respiratory and cardiometabolic issues Crowded housing or housing with a poor water supply can increase the spread of infectious diseases Speaking to Medical News Today Robert Huxford Director of the Urban Design Group London said that questions around the relationship between health and urban or housing design have a long history “It’s often forgotten that the links between housing and urban design and health go back hundreds of years such as the 19thcentury public health movement including the Health of Towns Association of the 1840s or the Model Byelaws issued in the 1870s that governed urban development in England for the next 50 years” “They focused on lighting ventilation overcrowding damp and sanitation They specified the minimum width of streets minimum spaces around buildings and that habited rooms should have a window at least onetenth of the floor area Over 100 years on developers are bringing forward proposals for windowless flats” For Huxford the COVID19 pandemic has brought historical concerns around housing and infectious diseases back to the fore “In the 19th century the main causes of death were infectious diseases such as tuberculosis cholera and typhoid” said Huxford “The public health works of the 19th and 20thcentury saw infectious disease brought under control further aided by advances in medical science However the COVID19 pandemic has shown that we remain vulnerable to infectious disease and the prospect of drugresistant diseases is a grave international concern” “It is of the utmost importance that housing and urban design provides resilience to infectious disease risk” Backing up Huxford’s point in an article in the journal PLOS ONE  researchers found an association between the amount of poor quality housing in a United States county and COVID19 incidence and mortality  Cardependent development According to Katja Stille Chair of the Urban Design Group and Director of Tibbalds Planning and Urban Design broader urban design choices can have direct adverse effects on a person’s health Speaking to MNT Stille said “the main urban factors that negatively affect a person’s mental and physical health are air pollution from road traffic as well as noise pollution” “Living in a cardependent development will impact negatively on people’s ability to exercise and encourage a sedentary lifestyle that easily leads to obesity heart disease and diabetes The opportunity to be physically active throughout one’s daytoday life such as active transport — walking and cycling — is important to avoid obesity” Dr Steven Fleming author of Velotopia The Production of Cyclespace in Our Minds and Our Cities also highlights the issue of carcentric urban design Dr Fleming said to MNT that a “house with a garage is designed to send you on your way driving for a day of no exercise whatsoever An apartment block is only slightly better because the day of walking it was designed to set in motion — with its lift or stairs leading onto the street — will have negligible metabolic equivalent of task MET minutes If you already have overweight you’ll be looking for a taxi or bus because walking is painful for people with obesity” The definition of one MET is “the amount of oxygen consumed while sitting at rest” “In my book Velotopia” continued Dr Fleming “I detailed in drawings and architectural jargon apartmentstyle housing that would set you on your way on your bike You would leave your tenth story apartment and rather than waiting for a slow lift just ride past all the other apartments arranged around a sloping typically spiraling corridor or what we call an ‘access gallery’ or sometimes an ‘aerial street’” “That would be the start of a day with far more METminutes than the one you started on foot and that wouldn’t be painful if you have obesity” Robert Huxford also has issues with designs that prioritize motor vehicles “The impact of motor vehicles is significant bringing noise high intensity street lighting air pollution and the risk of injury from collisions into urban areas”  Mental health Housing and urban design issues can also adversely affect mental health Speaking to MNT Dr Layla McCay Director of the Centre for Urban Design and Mental Health said that “homelessness and housing insecurity are a key risk factor for mental health problems” “For those who do have a home the affordability of the home is key as economic concerns have links to mental health problems so too is the quality of the housing including dampness noise pests and overcrowding” “Location of the housing is also important including neighborhood quality and safety access to key facilities including education jobs and healthcare And any aspect of the housing that stigmatizes its residents can also negatively affect residents’ mental health” “Housing that is available safe adequate affordable and comfortable and that offers its residents a degree of privacy while also facilitating multigenerational living where desired can benefit people’s mental health” she continued “Housing has the opportunity to further support people’s mental health by facilitating residents to develop positive relationships with their neighbors and to foster feelings of inclusion and belongingness”  Security and homelessness As Dr McCay highlights the security of housing — whether a person owns their home or cannot keep up with the mortgage whether they have a longterm rental contract or whether they face the possibility of eviction with no notice — can be just as important a factor for a person’s wellbeing as the physical conditions of the home Prof Deborah K Padgett of the Silver School of Social Work in New York University an expert on the intersection of homelessness and mental or substance use disorders spoke with MNT She explained that while insecure housing is a complex topic it has some key root causes “Global housing instability is due to severe poverty and lack of institutional support for ‘public’ or ‘social’ housing that is affordable” “The United Nationsendorsed concept of ‘housing is a right’ is in my opinion the most contested and least attractive of human rights supposedly guaranteed by governments This is in part because demand so overwhelms supply as world population growth soars” “But the last decades since the Reagan administration here in the US have seen heavy privatization of housing development and this naturally excludes the poor In countries like India the millions living in slums are not considered ‘homeless’ but this obscures the deplorable living conditions they endure” “From a personal level daytoday survival is a struggle to procure food clean water sanitary facilities etc — whether living in a slum a shantytown or on a park bench” said Prof Padgett For Prof Padgett a primary factor that affects the relationship between housing and mental health is homelessness However people too often presume that mental health issues cause homelessness when the reality is not straightforward — a point Prof Padgett recently outlined in an article for the journal BJPsych Bulletin Prof Padgett told MNT that “homelessness and mental health have a bidirectional relationship but it’s also complicated While serious mental illnesses such as schizophrenia account for a minority of homeless persons these individuals are more likely to be chronically homeless and have needs that create more costs for the system — hospitals jails shelters and so on” “They are also more likely to be visible in public and thus skew public perceptions away from the fact that most homeless people are families with small children youth ‘new’ homeless older Baby Boomers and others” “Sadly the hyperfocus on serious mental illness diverts attention from the trauma caused by being homeless and this remains understudied — in part because it is often trauma compounded by childhood adversity and traumatic events earlier in life”  Inequality For Dr McCay an underlying issue in poor health associated with urban and housing design is wealth inequality “Housing is inextricably linked to mental health and wellbeing but access to housing and the quality of that housing varies according to a wide range of factors particularly wealth” said Dr McCay “Inequalities in people’s access to safe affordable goodquality housing can lead to inequalities in their mental health and wellbeing People’s mental health can also be affected by ‘segregation by design’ for example where people who own their homes are separated by design features from people who live in social housing even within the same building creating stigma and exacerbating inequality” “During the COVID19 pandemic we saw evidence of housingrelated inequalities where some people were able to relax and play in their gardens while others had no outside space some had good quality local parks and others had to travel outside their neighborhood to find safe and pleasant green space” For Prof Peter Bishop a professor of urban design at the Bartlett School of Architecture University College London various forms of social deprivation including poor housing and urban design correlate with worse health outcomes Speaking to MNT Prof Bishop said “There is a clear correlation between physical and mental health and indices of multiple deprivation Public Health England lists childhood experience education stable housing and secure employment as the core contributing factors to health and wellbeing”'"
            ]
          },
          "metadata": {}
        },
        {
          "output_type": "stream",
          "name": "stdout",
          "text": [
            "\n"
          ]
        },
        {
          "output_type": "display_data",
          "data": {
            "application/vnd.google.colaboratory.intrinsic+json": {
              "type": "string"
            },
            "text/plain": [
              "'KCR may renew efforts for third alternative in national politics - Business Standard'"
            ]
          },
          "metadata": {}
        },
        {
          "output_type": "display_data",
          "data": {
            "application/vnd.google.colaboratory.intrinsic+json": {
              "type": "string"
            },
            "text/plain": [
              "'Telangana Chief Minister K Chandrasekhar Rao may revive his idea of a federal front and gear up to play a key role in as he is all set to lay the foundation stone for the office of Telangana Rashtra Samithi TRS in New Delhi next week  The development is not without significance and it comes at a time when Rao has just launched the Dalit Bandhu scheme which he hopes will become a torchbearer for empowerment of Dalits across the country  Looking to turn the event into a show of strength he will be leading a team of over 100 leaders to the capital All MPs of TRS state ministers state legislators and members of the party executive will attend the ceremony on September 2  The foundation stone laying ceremony has led to speculations in political circles that KCR as the TRS supremo is popularly known will formally announce his entry into the  KCRs ambition to play a key role in the national is wellknown He wants to cobble up a front with likeminded parties as an alternative to both the Bharatiya Janata Party BJP and the Congress which according to him proved to be utter flops in governing the country  Though there are still more than twoandahalf years to go for the Lok Sabha elections political analysts say may use the event to renew his efforts to forge an alternative front  Political observers say will highlight the rapid strides Telangana has made in various sectors during the last seven years He claims that the countrys youngest state has emerged as a role model for all the states in a short span of time  The development also comes at a time when has launched what he calls a revolutionary scheme for social and economic empowerment of Dalits  The regional satrap is projecting Dalit Bandhu as a model scheme and is confident that it will become a torchbearer for the upliftment of Dalits across the country  Under the scheme launched on pilot basis in the Huzurabad Assembly constituency in Karimnagar district every Dalit family will get Rs 10 lakh as grant and they will be free to choose their profession selfemployment or businesses for utilising the funds  KCR has already announced that he is ready to spend Rs 175 lakh crore on the scheme to cover all 17 lakh Dalit families in the state He believes that the scheme will be a big game changer for Dalits and eliminate social discrimination against them  The TRS chief who has been talking of providing an alternative to the BJP and the Congress for the last 34 years will put forth the successful Telangana model before the country and promise to replicate the same at the national level  TRS leaders say KCR will try to highlight how his government has delivered on various fronts in a short span of time to transform an arid region into a lush green and prosperous state  With a growth rate and per capita income higher than the national average and continuing impressive growth even during the Covid19 pandemic Telangana is already claiming to be a role model for other states  The TRS founder plans to unveil his agenda for national politics with a new economic model which will focus on farmers Analysts say that KCR will showcase at the national level his success in transforming agriculture with Rythu Bandhu an investment support scheme for farmers which is emulated by the Centre and many states  KCR has been slamming both the Congress and the BJP as storytellers who failed to give direction to the country and guide it on the right path He has been targeting them for failing to create wealth while claiming that his government succeeded in not only creating the wealth but is also distributing the same among the poor and underprivileged sections of the society  It was in 2018 that KCR had floated the idea of a front of likeminded parties as an alternative to both the BJP and the Congress  He had intensified the efforts after retaining power in Telangana in the December 2018 elections  After the massive victory in Assembly elections KCR had appointed his son KT Rama Rao as the working president of the TRS so that he can focus on national politics  He flew from one state to the other to meet leaders of various regional parties He called on West Bengal Chief Minister Mamata Banerjee and Odisha Chief Minister Naveen Patnaik Kerala Chief Minister Pinarayi Vijayan and Tamil Nadu Chief Minister MK Stalin  He also discussed the idea with HD Deve Gowda of the Janata Dal Secular in Karnataka Hemanth Soren of Jharkhand Mukti Morcha in Jharkhand Akhilesh Yadav of the Samajwadi Party in Uttar Pradesh and YS Jagan Mohan Reddy of the YSRCP in Andhra Pradesh  KCR was even seen as the potential prime ministerial candidate by his party in the event of regional parties emerging as a major bloc in the Lok Sabha  With the BJP retaining power at the Centre with a massive majority KCR had dumped the idea of a front and confined himself to the state  Last year there were reports that KCR was planning to float a national party He however clarified that there was no such proposal for now  He however did not rule out such a proposal He told a party meeting that a decision would be taken at the right time after discussions  KCRs blow hot blow cold stand on the third alternative has come under criticism from various quarters His opponents say he talks of a front only at the time of elections  During the campaign for Greater Hyderabad Municipal Corporation GHMC elections in November last year he had stated that the country definitely needs a new experiment and TRS would be in the forefront to provide the alternative  He had declared that a conclave of likeminded parties will be held in Hyderabad in December  He had also said that Hyderabad would be the epicentre of the movement against the BJP government for its antipeople antifarmer and antilabour policies and the TRS will lead the movement  However KCR adopted complete silence on the proposed front after the GHMC polls  IANS  msarmksk  Only the headline and picture of this report may have been reworked by the Business Standard staff the rest of the content is autogenerated from a syndicated feed'"
            ]
          },
          "metadata": {}
        },
        {
          "output_type": "stream",
          "name": "stdout",
          "text": [
            "\n"
          ]
        },
        {
          "output_type": "display_data",
          "data": {
            "application/vnd.google.colaboratory.intrinsic+json": {
              "type": "string"
            },
            "text/plain": [
              "'UP should ensure health facilities to control fever in Mathura: Priyanka - Business Standard'"
            ]
          },
          "metadata": {}
        },
        {
          "output_type": "display_data",
          "data": {
            "application/vnd.google.colaboratory.intrinsic+json": {
              "type": "string"
            },
            "text/plain": [
              "'After 29 cases of miteborne rickettsiosis known as scrub typhus were detected in Mathura General Secretary incharge Vadra on Monday demanded better health facilities in the state  She said in a tweet in Hindi Firozabad Mathura Agra and other places in UP children and adults have died due to fever which is heartwrenching UP government should step in immediately to control the disease and provide better health facilities  As per reports the health department has sounded an alert after the lab reports confirmed that 29 patients aged between two to 45 years had tested positive on Sunday  Scrub typhus is spread to people through bites of infected chiggers larval mites  The most common symptoms include fever headache body aches and sometimes rash In severe cases it can result in pneumonitis encephalitis mental changes ranging from confusion to coma congestive heart failure and circulatory collapse  Additional director of health department AK Singh said At least 29 cases of scrub typhus have been reported in district Required medicines have been provided to the patients and none of them is critical We have issued an alert regarding its spread to other districts  Early diagnosis is important Patients are put on antibiotics and they recover fully after a weeklong course of treatment  Chief Minister has instructed state officials to prevent the spread of communicable diseases  Taking cognizance of viral fever cases in Mathura Mainpuri and Firozabad districts he has asked state officials to deploy special medical teams in these areas  IANS  mizdpb  Only the headline and picture of this report may have been reworked by the Business Standard staff the rest of the content is autogenerated from a syndicated feed'"
            ]
          },
          "metadata": {}
        },
        {
          "output_type": "stream",
          "name": "stdout",
          "text": [
            "\n"
          ]
        },
        {
          "output_type": "display_data",
          "data": {
            "application/vnd.google.colaboratory.intrinsic+json": {
              "type": "string"
            },
            "text/plain": [
              "'ATEEZ main vocalist Jongho suffers knee injury, KQ Entertainment shares statement - Republic World'"
            ]
          },
          "metadata": {}
        },
        {
          "output_type": "display_data",
          "data": {
            "application/vnd.google.colaboratory.intrinsic+json": {
              "type": "string"
            },
            "text/plain": [
              "'The vocal powerhouse of the South Korean boyband ATEEZ Jongho has suffered a minor knee injury Gearing up for their forthcoming release which will mark their seventh EP the youngest member of the idol band will reportedly sit out of major promotional events including a Japanese online event Dubbed as fourth Generation Leaders the group will perform with seven active members namely Hongjoong Leader Seonghwa Yunho Yeosang San Mingi and Wooyoung  ATEEZ Jonghos knee injury  Debuted under KQ Entertainment in 2018 the company released an official statement to relay the news of Jonghos minor knee injury to the Atiny fandom In the statement it was revealed that the 20yearold singer real name Choi Jongho was taken to the hospital after feeling uncomfortable in his knee Later he was diagnosed with a minor knee cartilage injury According to the statement the young singer will participate in limited events as he is suggested to get rest to fully recover Read the full statement released by KQ Entertainment via Soompi  Hello This is KQ Entertainment This is a notice about ATEEZ member Jongho’s health condition Recently Jongho’s knee has been feeling uncomfortable so he visited the hospital and he was diagnosed with a minor knee cartilage injury Although it is a minor injury he has been refraining from intense choreography for the recovery of his left ankle that had been injured before and the comeback of the new album in September In order to recover he participated in limited choreography for the the new album comeback content and etc which are being released consecutively Therefore he won’t be participating in choreography at the Japanese online event that will be starting today Jongho is recovering well and this is to ensure his participation on stage and activities for the new album “ZERO  FEVER Part 3” We ask for your understanding and we will do our best so that he can recover quickly Thank you  More on ATEEZ  With six successful albums out ATEEZ is touted as one of the fastestgrowing boybands of the fourth generation in the South Korean entertainment industry With hit songs like Pirate King Treasure Wonderland Answer Dreamers and more all the six albums produced by the group have topped the South Korean musical charts The boybands seventh EP is titled Zero Fever Part3  Image Credits ATEEZ Instagram'"
            ]
          },
          "metadata": {}
        },
        {
          "output_type": "stream",
          "name": "stdout",
          "text": [
            "\n"
          ]
        }
      ]
    }
  ]
}