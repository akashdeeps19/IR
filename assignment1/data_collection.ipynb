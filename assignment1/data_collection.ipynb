{
  "nbformat": 4,
  "nbformat_minor": 0,
  "metadata": {
    "colab": {
      "name": "data_collection.ipynb",
      "provenance": []
    },
    "kernelspec": {
      "name": "python3",
      "display_name": "Python 3"
    },
    "language_info": {
      "name": "python"
    }
  },
  "cells": [
    {
      "cell_type": "code",
      "metadata": {
        "id": "XZpfVHKKZQVM"
      },
      "source": [
        "!pip install newspaper3k\n",
        "!pip install xmltodict"
      ],
      "execution_count": null,
      "outputs": []
    },
    {
      "cell_type": "markdown",
      "metadata": {
        "id": "jR6vVbltSZ2J"
      },
      "source": [
        "# Fetch from Google news API"
      ]
    },
    {
      "cell_type": "code",
      "metadata": {
        "id": "2aDhlpz4Y_6H"
      },
      "source": [
        "import requests\n",
        "import xmltodict\n",
        "\n",
        "categories = [\"politics\", \"health\", \"entertainment\", \"sports\", \"finance\"]\n",
        "articles = {}\n",
        "for category in categories:\n",
        "    news_url = f'https://news.google.com/rss/search?cf=all&hl=en-IN&pz=1&q={category}&csed=in&csep=false&num=100&sort=rated&gl=IN&ceid=IN:en'\n",
        "    r = requests.get(news_url)\n",
        "    data_dict = xmltodict.parse(r.content)\n",
        "    articles[category] = data_dict['rss']['channel']['item']"
      ],
      "execution_count": null,
      "outputs": []
    },
    {
      "cell_type": "code",
      "metadata": {
        "colab": {
          "base_uri": "https://localhost:8080/"
        },
        "id": "R1fQyJWgY8qY",
        "outputId": "b373274c-8701-467e-9bc5-aecf1d392af9"
      },
      "source": [
        "articles['health'][0]"
      ],
      "execution_count": null,
      "outputs": [
        {
          "output_type": "execute_result",
          "data": {
            "text/plain": [
              "OrderedDict([('title',\n",
              "              'Here’s how ginger water can do wonders to your health - Hindustan Times'),\n",
              "             ('link',\n",
              "              'https://www.hindustantimes.com/lifestyle/health/heres-how-ginger-water-can-do-wonders-to-your-health-101630926650000.html'),\n",
              "             ('guid',\n",
              "              OrderedDict([('@isPermaLink', 'false'),\n",
              "                           ('#text',\n",
              "                            'CAIiEPSwIq5b4vL17OQ88shiCcQqFwgEKg4IACoGCAoww7k_MMevCDC88PkG')])),\n",
              "             ('pubDate', 'Mon, 06 Sep 2021 11:15:49 GMT'),\n",
              "             ('description',\n",
              "              '<a href=\"https://www.hindustantimes.com/lifestyle/health/heres-how-ginger-water-can-do-wonders-to-your-health-101630926650000.html\" target=\"_blank\">Here’s how ginger water can do wonders to your health</a>&nbsp;&nbsp;<font color=\"#6f6f6f\">Hindustan Times</font>'),\n",
              "             ('source',\n",
              "              OrderedDict([('@url', 'https://www.hindustantimes.com'),\n",
              "                           ('#text', 'Hindustan Times')]))])"
            ]
          },
          "metadata": {},
          "execution_count": 3
        }
      ]
    },
    {
      "cell_type": "code",
      "metadata": {
        "id": "wuQs73ideLsj"
      },
      "source": [
        "data = []\n",
        "for k in articles:\n",
        "    for a in articles[k]:\n",
        "        obj = {}\n",
        "        obj['headline'] = a['title']\n",
        "        obj['url'] = a['link']\n",
        "        obj['source'] = a['source']['#text']\n",
        "        obj['source_url'] = a['source']['@url']\n",
        "        obj['category'] = k\n",
        "        data.append(obj)"
      ],
      "execution_count": null,
      "outputs": []
    },
    {
      "cell_type": "code",
      "metadata": {
        "colab": {
          "base_uri": "https://localhost:8080/",
          "height": 219
        },
        "id": "3OLOUBvlfCRb",
        "outputId": "fa87aa55-10cb-4bcf-cb5f-b5aba7bebfb4"
      },
      "source": [
        "import pandas as pd\n",
        "df = pd.DataFrame(data)\n",
        "print(df.shape)\n",
        "df.head()"
      ],
      "execution_count": null,
      "outputs": [
        {
          "output_type": "stream",
          "name": "stdout",
          "text": [
            "(500, 5)\n"
          ]
        },
        {
          "output_type": "execute_result",
          "data": {
            "text/html": [
              "<div>\n",
              "<style scoped>\n",
              "    .dataframe tbody tr th:only-of-type {\n",
              "        vertical-align: middle;\n",
              "    }\n",
              "\n",
              "    .dataframe tbody tr th {\n",
              "        vertical-align: top;\n",
              "    }\n",
              "\n",
              "    .dataframe thead th {\n",
              "        text-align: right;\n",
              "    }\n",
              "</style>\n",
              "<table border=\"1\" class=\"dataframe\">\n",
              "  <thead>\n",
              "    <tr style=\"text-align: right;\">\n",
              "      <th></th>\n",
              "      <th>headline</th>\n",
              "      <th>url</th>\n",
              "      <th>source</th>\n",
              "      <th>source_url</th>\n",
              "      <th>category</th>\n",
              "    </tr>\n",
              "  </thead>\n",
              "  <tbody>\n",
              "    <tr>\n",
              "      <th>0</th>\n",
              "      <td>Rahul Gandhi 'political cuckoo' of Indian poli...</td>\n",
              "      <td>https://timesofindia.indiatimes.com/india/rahu...</td>\n",
              "      <td>Times of India</td>\n",
              "      <td>https://timesofindia.indiatimes.com</td>\n",
              "      <td>politics</td>\n",
              "    </tr>\n",
              "    <tr>\n",
              "      <th>1</th>\n",
              "      <td>Canada polls: ‘Parties must reject vote-based ...</td>\n",
              "      <td>https://www.hindustantimes.com/world-news/cana...</td>\n",
              "      <td>Hindustan Times</td>\n",
              "      <td>https://www.hindustantimes.com</td>\n",
              "      <td>politics</td>\n",
              "    </tr>\n",
              "    <tr>\n",
              "      <th>2</th>\n",
              "      <td>‘Take back power’: Talawa’s Run It Back and th...</td>\n",
              "      <td>https://www.theguardian.com/stage/2021/sep/06/...</td>\n",
              "      <td>The Guardian</td>\n",
              "      <td>https://www.theguardian.com</td>\n",
              "      <td>politics</td>\n",
              "    </tr>\n",
              "    <tr>\n",
              "      <th>3</th>\n",
              "      <td>Politics Hots Up Over Odisha’s Second AIIMS In...</td>\n",
              "      <td>https://odishatv.in/news/politics/politics-hot...</td>\n",
              "      <td>OTV News</td>\n",
              "      <td>https://odishatv.in</td>\n",
              "      <td>politics</td>\n",
              "    </tr>\n",
              "    <tr>\n",
              "      <th>4</th>\n",
              "      <td>Summoned by ED, Abhishek leaves for Delhi, say...</td>\n",
              "      <td>https://indianexpress.com/article/cities/kolka...</td>\n",
              "      <td>The Indian Express</td>\n",
              "      <td>https://indianexpress.com</td>\n",
              "      <td>politics</td>\n",
              "    </tr>\n",
              "  </tbody>\n",
              "</table>\n",
              "</div>"
            ],
            "text/plain": [
              "                                            headline  ...  category\n",
              "0  Rahul Gandhi 'political cuckoo' of Indian poli...  ...  politics\n",
              "1  Canada polls: ‘Parties must reject vote-based ...  ...  politics\n",
              "2  ‘Take back power’: Talawa’s Run It Back and th...  ...  politics\n",
              "3  Politics Hots Up Over Odisha’s Second AIIMS In...  ...  politics\n",
              "4  Summoned by ED, Abhishek leaves for Delhi, say...  ...  politics\n",
              "\n",
              "[5 rows x 5 columns]"
            ]
          },
          "metadata": {},
          "execution_count": 7
        }
      ]
    },
    {
      "cell_type": "code",
      "metadata": {
        "colab": {
          "base_uri": "https://localhost:8080/"
        },
        "id": "PUvx7aW7UHgB",
        "outputId": "3925c536-9b22-4a25-bb21-97bd86bb11a0"
      },
      "source": [
        "df.category.value_counts()"
      ],
      "execution_count": null,
      "outputs": [
        {
          "output_type": "execute_result",
          "data": {
            "text/plain": [
              "entertainment    100\n",
              "sports           100\n",
              "finance          100\n",
              "politics         100\n",
              "health           100\n",
              "Name: category, dtype: int64"
            ]
          },
          "metadata": {},
          "execution_count": 8
        }
      ]
    },
    {
      "cell_type": "code",
      "metadata": {
        "id": "B8NwRbwkgcRD"
      },
      "source": [
        "df.to_csv('news_articles.csv')"
      ],
      "execution_count": null,
      "outputs": []
    },
    {
      "cell_type": "markdown",
      "metadata": {
        "id": "CKWvzM-0S-8t"
      },
      "source": [
        "# Scrape content using newspaper3k lib"
      ]
    },
    {
      "cell_type": "code",
      "metadata": {
        "colab": {
          "base_uri": "https://localhost:8080/"
        },
        "id": "CWMcmG0XOc_H",
        "outputId": "904a4a35-7c07-4328-8b43-06fd8bec8538"
      },
      "source": [
        "from newspaper import Article\n",
        "text = []\n",
        "cnt = 0\n",
        "tot = 0\n",
        "for i,url in enumerate(df['url']):\n",
        "    if i%100 == 0:\n",
        "        cnt = 0\n",
        "        tot = 0\n",
        "    if tot >= 20:\n",
        "        text.append('')\n",
        "        continue\n",
        "    txt = ''\n",
        "    try:\n",
        "        article = Article(url)\n",
        "        article.download()\n",
        "        article.parse()\n",
        "        txt = article.text\n",
        "        tot += 1\n",
        "    except:\n",
        "        cnt+=1\n",
        "        print(cnt)\n",
        "    text.append(txt)\n",
        "df['text'] = text"
      ],
      "execution_count": null,
      "outputs": [
        {
          "output_type": "stream",
          "name": "stdout",
          "text": [
            "1\n",
            "2\n",
            "3\n",
            "4\n",
            "1\n",
            "1\n",
            "2\n",
            "3\n",
            "4\n",
            "1\n",
            "2\n",
            "3\n",
            "4\n",
            "5\n",
            "6\n"
          ]
        }
      ]
    },
    {
      "cell_type": "code",
      "metadata": {
        "colab": {
          "base_uri": "https://localhost:8080/"
        },
        "id": "WFPZjzVdZJd6",
        "outputId": "2d323df8-1ead-4cb4-9139-221d1ce7f129"
      },
      "source": [
        "len(text)"
      ],
      "execution_count": null,
      "outputs": [
        {
          "output_type": "execute_result",
          "data": {
            "text/plain": [
              "500"
            ]
          },
          "metadata": {},
          "execution_count": 9
        }
      ]
    },
    {
      "cell_type": "code",
      "metadata": {
        "colab": {
          "base_uri": "https://localhost:8080/",
          "height": 285
        },
        "id": "xCN8AjXTYg-H",
        "outputId": "3cc5d1d2-c38d-4cbd-d93a-be855b17cac4"
      },
      "source": [
        "df.head()"
      ],
      "execution_count": null,
      "outputs": [
        {
          "output_type": "execute_result",
          "data": {
            "text/html": [
              "<div>\n",
              "<style scoped>\n",
              "    .dataframe tbody tr th:only-of-type {\n",
              "        vertical-align: middle;\n",
              "    }\n",
              "\n",
              "    .dataframe tbody tr th {\n",
              "        vertical-align: top;\n",
              "    }\n",
              "\n",
              "    .dataframe thead th {\n",
              "        text-align: right;\n",
              "    }\n",
              "</style>\n",
              "<table border=\"1\" class=\"dataframe\">\n",
              "  <thead>\n",
              "    <tr style=\"text-align: right;\">\n",
              "      <th></th>\n",
              "      <th>headline</th>\n",
              "      <th>url</th>\n",
              "      <th>source</th>\n",
              "      <th>source_url</th>\n",
              "      <th>category</th>\n",
              "      <th>text</th>\n",
              "    </tr>\n",
              "  </thead>\n",
              "  <tbody>\n",
              "    <tr>\n",
              "      <th>0</th>\n",
              "      <td>Manappuram Finance to consider fund raising op...</td>\n",
              "      <td>https://www.business-standard.com/article/news...</td>\n",
              "      <td>Business Standard</td>\n",
              "      <td>https://www.business-standard.com</td>\n",
              "      <td>finance</td>\n",
              "      <td>Manappuram Finance said the company may consid...</td>\n",
              "    </tr>\n",
              "    <tr>\n",
              "      <th>1</th>\n",
              "      <td>PayU aims to provide full-stack financial serv...</td>\n",
              "      <td>https://www.business-standard.com/article/comp...</td>\n",
              "      <td>Business Standard</td>\n",
              "      <td>https://www.business-standard.com</td>\n",
              "      <td>finance</td>\n",
              "      <td>Finance, a digital lending player backed by Pr...</td>\n",
              "    </tr>\n",
              "    <tr>\n",
              "      <th>2</th>\n",
              "      <td>L&amp;T Finance in talks with HSBC to sell its mut...</td>\n",
              "      <td>https://www.businesstoday.in/latest/corporate/...</td>\n",
              "      <td>Business Today</td>\n",
              "      <td>https://www.businesstoday.in</td>\n",
              "      <td>finance</td>\n",
              "      <td>L&amp;T Finance Holdings is in active talks with f...</td>\n",
              "    </tr>\n",
              "    <tr>\n",
              "      <th>3</th>\n",
              "      <td>Tally Solutions seeks small finance banking li...</td>\n",
              "      <td>https://economictimes.indiatimes.com/industry/...</td>\n",
              "      <td>Economic Times</td>\n",
              "      <td>https://economictimes.indiatimes.com</td>\n",
              "      <td>finance</td>\n",
              "      <td>Financial technology company Tally Solutions a...</td>\n",
              "    </tr>\n",
              "    <tr>\n",
              "      <th>4</th>\n",
              "      <td>China Finance Online announces changes to the ...</td>\n",
              "      <td>https://ibsintelligence.com/ibsi-news/china-fi...</td>\n",
              "      <td>IBS Intelligence</td>\n",
              "      <td>https://ibsintelligence.com</td>\n",
              "      <td>finance</td>\n",
              "      <td>China Finance Online Co. Limited, a web-based ...</td>\n",
              "    </tr>\n",
              "  </tbody>\n",
              "</table>\n",
              "</div>"
            ],
            "text/plain": [
              "                                            headline  ...                                               text\n",
              "0  Manappuram Finance to consider fund raising op...  ...  Manappuram Finance said the company may consid...\n",
              "1  PayU aims to provide full-stack financial serv...  ...  Finance, a digital lending player backed by Pr...\n",
              "2  L&T Finance in talks with HSBC to sell its mut...  ...  L&T Finance Holdings is in active talks with f...\n",
              "3  Tally Solutions seeks small finance banking li...  ...  Financial technology company Tally Solutions a...\n",
              "4  China Finance Online announces changes to the ...  ...  China Finance Online Co. Limited, a web-based ...\n",
              "\n",
              "[5 rows x 6 columns]"
            ]
          },
          "metadata": {},
          "execution_count": 10
        }
      ]
    },
    {
      "cell_type": "code",
      "metadata": {
        "colab": {
          "base_uri": "https://localhost:8080/",
          "height": 302
        },
        "id": "AXVe7SJIc3tr",
        "outputId": "b5b5cbe1-5531-4d83-df43-f45a58dc3d4e"
      },
      "source": [
        "df_txt = df[df.text != '']\n",
        "print(df_txt.shape)\n",
        "df_txt.head()"
      ],
      "execution_count": null,
      "outputs": [
        {
          "output_type": "stream",
          "name": "stdout",
          "text": [
            "(100, 6)\n"
          ]
        },
        {
          "output_type": "execute_result",
          "data": {
            "text/html": [
              "<div>\n",
              "<style scoped>\n",
              "    .dataframe tbody tr th:only-of-type {\n",
              "        vertical-align: middle;\n",
              "    }\n",
              "\n",
              "    .dataframe tbody tr th {\n",
              "        vertical-align: top;\n",
              "    }\n",
              "\n",
              "    .dataframe thead th {\n",
              "        text-align: right;\n",
              "    }\n",
              "</style>\n",
              "<table border=\"1\" class=\"dataframe\">\n",
              "  <thead>\n",
              "    <tr style=\"text-align: right;\">\n",
              "      <th></th>\n",
              "      <th>headline</th>\n",
              "      <th>url</th>\n",
              "      <th>source</th>\n",
              "      <th>source_url</th>\n",
              "      <th>category</th>\n",
              "      <th>text</th>\n",
              "    </tr>\n",
              "  </thead>\n",
              "  <tbody>\n",
              "    <tr>\n",
              "      <th>0</th>\n",
              "      <td>Manappuram Finance to consider fund raising op...</td>\n",
              "      <td>https://www.business-standard.com/article/news...</td>\n",
              "      <td>Business Standard</td>\n",
              "      <td>https://www.business-standard.com</td>\n",
              "      <td>finance</td>\n",
              "      <td>Manappuram Finance said the company may consid...</td>\n",
              "    </tr>\n",
              "    <tr>\n",
              "      <th>1</th>\n",
              "      <td>PayU aims to provide full-stack financial serv...</td>\n",
              "      <td>https://www.business-standard.com/article/comp...</td>\n",
              "      <td>Business Standard</td>\n",
              "      <td>https://www.business-standard.com</td>\n",
              "      <td>finance</td>\n",
              "      <td>Finance, a digital lending player backed by Pr...</td>\n",
              "    </tr>\n",
              "    <tr>\n",
              "      <th>2</th>\n",
              "      <td>L&amp;T Finance in talks with HSBC to sell its mut...</td>\n",
              "      <td>https://www.businesstoday.in/latest/corporate/...</td>\n",
              "      <td>Business Today</td>\n",
              "      <td>https://www.businesstoday.in</td>\n",
              "      <td>finance</td>\n",
              "      <td>L&amp;T Finance Holdings is in active talks with f...</td>\n",
              "    </tr>\n",
              "    <tr>\n",
              "      <th>3</th>\n",
              "      <td>Tally Solutions seeks small finance banking li...</td>\n",
              "      <td>https://economictimes.indiatimes.com/industry/...</td>\n",
              "      <td>Economic Times</td>\n",
              "      <td>https://economictimes.indiatimes.com</td>\n",
              "      <td>finance</td>\n",
              "      <td>Financial technology company Tally Solutions a...</td>\n",
              "    </tr>\n",
              "    <tr>\n",
              "      <th>4</th>\n",
              "      <td>China Finance Online announces changes to the ...</td>\n",
              "      <td>https://ibsintelligence.com/ibsi-news/china-fi...</td>\n",
              "      <td>IBS Intelligence</td>\n",
              "      <td>https://ibsintelligence.com</td>\n",
              "      <td>finance</td>\n",
              "      <td>China Finance Online Co. Limited, a web-based ...</td>\n",
              "    </tr>\n",
              "  </tbody>\n",
              "</table>\n",
              "</div>"
            ],
            "text/plain": [
              "                                            headline  ...                                               text\n",
              "0  Manappuram Finance to consider fund raising op...  ...  Manappuram Finance said the company may consid...\n",
              "1  PayU aims to provide full-stack financial serv...  ...  Finance, a digital lending player backed by Pr...\n",
              "2  L&T Finance in talks with HSBC to sell its mut...  ...  L&T Finance Holdings is in active talks with f...\n",
              "3  Tally Solutions seeks small finance banking li...  ...  Financial technology company Tally Solutions a...\n",
              "4  China Finance Online announces changes to the ...  ...  China Finance Online Co. Limited, a web-based ...\n",
              "\n",
              "[5 rows x 6 columns]"
            ]
          },
          "metadata": {},
          "execution_count": 11
        }
      ]
    },
    {
      "cell_type": "code",
      "metadata": {
        "id": "eaUsBbbFdGLX"
      },
      "source": [
        "df_txt.to_csv('news_articles_txt100.csv')"
      ],
      "execution_count": null,
      "outputs": []
    },
    {
      "cell_type": "code",
      "metadata": {
        "colab": {
          "base_uri": "https://localhost:8080/"
        },
        "id": "DNmBCd0Bdr3N",
        "outputId": "5e287274-3f6c-44d1-e60c-effcae388e21"
      },
      "source": [
        "df_txt.category.value_counts()"
      ],
      "execution_count": null,
      "outputs": [
        {
          "output_type": "execute_result",
          "data": {
            "text/plain": [
              "politics         20\n",
              "health           20\n",
              "entertainment    20\n",
              "sports           20\n",
              "finance          20\n",
              "Name: category, dtype: int64"
            ]
          },
          "metadata": {},
          "execution_count": 13
        }
      ]
    }
  ]
}